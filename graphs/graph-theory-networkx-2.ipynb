{
 "cells": [
  {
   "cell_type": "code",
   "execution_count": 1,
   "id": "d78e609b-1d7f-45b8-94e3-81c9656b351a",
   "metadata": {},
   "outputs": [],
   "source": [
    "import pandas as pd\n",
    "import numpy as np\n",
    "import networkx as nx\n",
    "import itertools"
   ]
  },
  {
   "cell_type": "code",
   "execution_count": 2,
   "id": "2d1e15e1-5020-47ad-8ab0-3cb7dcc49215",
   "metadata": {},
   "outputs": [],
   "source": [
    "import matplotlib.pyplot as plt\n",
    "import matplotlib.colors as mcolors"
   ]
  },
  {
   "cell_type": "code",
   "execution_count": 3,
   "id": "4e4533dd-dcd3-4a39-bb8e-a34fd40b5d1e",
   "metadata": {},
   "outputs": [],
   "source": [
    "from typing import Union, List, Tuple"
   ]
  },
  {
   "cell_type": "markdown",
   "id": "c1f72747-f95d-4633-aef2-aeb3e5b7ad75",
   "metadata": {},
   "source": [
    "# Index\n",
    "\n",
    "This second notebook covers the following intermediate Graph Theory topics:\n",
    "\n",
    "1. [Multigraphs](#Multigraphs)\n",
    "2. [Graph Representations and the Adjacency Matrix](#Graph-Representations-and-the-Adjacency-Matrix)"
   ]
  },
  {
   "cell_type": "markdown",
   "id": "8ad81c75-f8eb-4fc3-9c01-385fdd6450c0",
   "metadata": {},
   "source": [
    "# Intermediate concepts in Graph Theory: from *Multigraphs* to *Bipartite Graphs*"
   ]
  },
  {
   "cell_type": "code",
   "execution_count": null,
   "id": "b13ade6b-3afe-44aa-9855-19d1f6473cae",
   "metadata": {},
   "outputs": [],
   "source": []
  }
 ],
 "metadata": {
  "kernelspec": {
   "display_name": "Python 3 (ipykernel)",
   "language": "python",
   "name": "python3"
  },
  "language_info": {
   "codemirror_mode": {
    "name": "ipython",
    "version": 3
   },
   "file_extension": ".py",
   "mimetype": "text/x-python",
   "name": "python",
   "nbconvert_exporter": "python",
   "pygments_lexer": "ipython3",
   "version": "3.11.9"
  }
 },
 "nbformat": 4,
 "nbformat_minor": 5
}
