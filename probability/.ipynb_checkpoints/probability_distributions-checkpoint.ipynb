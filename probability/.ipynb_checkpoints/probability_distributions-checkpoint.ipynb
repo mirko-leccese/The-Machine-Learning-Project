{
 "cells": [
  {
   "cell_type": "code",
   "execution_count": 1,
   "id": "229e0416-b855-45d2-a0c5-ed7cdaf5eb2e",
   "metadata": {},
   "outputs": [],
   "source": [
    "import numpy as np\n",
    "import pandas as pd"
   ]
  },
  {
   "cell_type": "code",
   "execution_count": 2,
   "id": "4607e7e5-d1c0-4799-b903-813f77568eda",
   "metadata": {},
   "outputs": [],
   "source": [
    "import ipywidgets"
   ]
  },
  {
   "cell_type": "code",
   "execution_count": 3,
   "id": "f8489c9d-0204-403d-be5e-95935058c788",
   "metadata": {},
   "outputs": [],
   "source": [
    "import matplotlib.pyplot as plt"
   ]
  },
  {
   "cell_type": "code",
   "execution_count": 24,
   "id": "ce793c4f-0671-467f-a2e9-582a37e26ce0",
   "metadata": {},
   "outputs": [],
   "source": [
    "def central_limit_theorem_demo(N):\n",
    "    sample_size = 10000\n",
    "    \n",
    "    sample_means = np.mean(np.random.rand(sample_size, N), axis=1)\n",
    "\n",
    "    # Plot histograms of sample means\n",
    "    fig, ax = plt.subplots(figsize=(8, 6))\n",
    "    fig.suptitle('Central Limit Theorem Demonstration')\n",
    "\n",
    "    ax.set_xlim([0,1])\n",
    "    ax.hist(sample_means, bins=30, density=True, alpha=0.6, color='royalblue', edgecolor='black')\n",
    "    ax.set_title(f'Distribution of Sample Means (N = {N})')\n",
    "    ax.set_xlabel('Sample Mean')\n",
    "    ax.set_ylabel('Density')\n",
    "\n",
    "    \n",
    "    plt.tight_layout()\n",
    "    plt.show()"
   ]
  },
  {
   "cell_type": "code",
   "execution_count": 26,
   "id": "06fa983e-aa01-42a4-af9d-3893a7b5126a",
   "metadata": {},
   "outputs": [
    {
     "data": {
      "application/vnd.jupyter.widget-view+json": {
       "model_id": "90f7eeab48c849c48ca9b8dc86c0b7fb",
       "version_major": 2,
       "version_minor": 0
      },
      "text/plain": [
       "interactive(children=(IntSlider(value=49, description='N', min=1, step=2), Output()), _dom_classes=('widget-in…"
      ]
     },
     "metadata": {},
     "output_type": "display_data"
    },
    {
     "data": {
      "text/plain": [
       "<function __main__.central_limit_theorem_demo(N)>"
      ]
     },
     "execution_count": 26,
     "metadata": {},
     "output_type": "execute_result"
    }
   ],
   "source": [
    "# Demonstrate Central Limit Theorem\n",
    "ipywidgets.interact(central_limit_theorem_demo, N=(1,100,2))"
   ]
  },
  {
   "cell_type": "code",
   "execution_count": null,
   "id": "9ec48c13-e1d2-4288-bcdf-aa69dac3a360",
   "metadata": {},
   "outputs": [],
   "source": []
  }
 ],
 "metadata": {
  "kernelspec": {
   "display_name": "Python 3 (ipykernel)",
   "language": "python",
   "name": "python3"
  },
  "language_info": {
   "codemirror_mode": {
    "name": "ipython",
    "version": 3
   },
   "file_extension": ".py",
   "mimetype": "text/x-python",
   "name": "python",
   "nbconvert_exporter": "python",
   "pygments_lexer": "ipython3",
   "version": "3.11.7"
  }
 },
 "nbformat": 4,
 "nbformat_minor": 5
}
