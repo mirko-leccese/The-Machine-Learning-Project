{
 "cells": [
  {
   "cell_type": "code",
   "execution_count": 1,
   "id": "a494255a-2901-4caa-8e54-3cfeff026fdf",
   "metadata": {},
   "outputs": [],
   "source": [
    "import torch\n",
    "from torch import nn \n",
    "import numpy as np\n",
    "import pandas as pd\n",
    "import matplotlib.pyplot as plt\n",
    "\n",
    "from pathlib import Path\n",
    "from sklearn.datasets import make_circles\n",
    "from sklearn.model_selection import train_test_split"
   ]
  },
  {
   "cell_type": "markdown",
   "id": "5da3a9c3-8644-457d-8a67-7cc252a03271",
   "metadata": {},
   "source": [
    "# Introduction to Neural Networks\n",
    "\n",
    "In machine learning, classification tasks are among the most common problems. A classification task consists of assigning a class to a given object. For example, deciding whether a photo shows a dog or a cat, determining whether a biopsy image is cancerous or not, or assigning a category to a web article are all examples of classification problems.  \n",
    "\n",
    "In general, we can distinguish three main types of classification problems:\n",
    "\n",
    "1. **Binary classification**: here, the target variable can take only one of two possible values (yes/no, true/false, dog/cat, etc.). These are the simplest classification problems, but also among the most frequent in real-world applications.  \n",
    "2. **Multi-class classification**: in this case, the target variable can take more than two possible values. For instance, in sentiment analysis, a tweet might be classified as positive, negative, or neutral.  \n",
    "3. **Multi-label classification**: here, the target can be assigned multiple labels simultaneously. For example, when classifying the themes of a web article, we might assign more than one label, such as *science*, *mathematics*, and so on.  \n",
    "\n",
    "Classification problems can be solved with traditional machine learning algorithms, such as *Decision Trees*, *Logistic Regression*, or *Naive Bayes*. In this notebook, however, we will focus on more advanced approaches: *Neural Networks*. We will build a simple neural network for classification from scratch using PyTorch, while also briefly discussing the mathematics behind the architecture.  \n",
    "\n",
    "In particular, we will cover:  \n",
    "- The typical architecture of a neural network;  \n",
    "- How to build a neural network model with PyTorch from scratch, including the loss function, the optimizer, and the training loop;  \n",
    "- How to train the model and make predictions on unseen data;  \n",
    "- How to improve the model from an architectural perspective.  \n"
   ]
  },
  {
   "cell_type": "markdown",
   "id": "8ec062f3-fa76-4770-9179-0605fd63d123",
   "metadata": {},
   "source": [
    "## Make classification data\n",
    "\n",
    "First of all, we need a classification problem! Let's stick to example shown in the *Zero to Mastery* course, i.e we use the `make_circles` function from `sklearn` to generate two circles of different radius:"
   ]
  },
  {
   "cell_type": "code",
   "execution_count": 2,
   "id": "c4d51574-eda2-4585-a7d1-e934208cc05f",
   "metadata": {},
   "outputs": [],
   "source": [
    "# Create circles, \n",
    "X, y = make_circles(1000, noise = 0.03, random_state = 42)"
   ]
  },
  {
   "cell_type": "code",
   "execution_count": 3,
   "id": "bffa09de-589b-460e-957b-8b1831c6cf28",
   "metadata": {},
   "outputs": [
    {
     "data": {
      "text/plain": [
       "array([[ 0.75424625,  0.23148074],\n",
       "       [-0.75615888,  0.15325888],\n",
       "       [-0.81539193,  0.17328203],\n",
       "       [-0.39373073,  0.69288277],\n",
       "       [ 0.44220765, -0.89672343]])"
      ]
     },
     "execution_count": 3,
     "metadata": {},
     "output_type": "execute_result"
    }
   ],
   "source": [
    "X[:5]"
   ]
  },
  {
   "cell_type": "code",
   "execution_count": 4,
   "id": "f04493d2-dd28-4dd6-ae10-e999603b464d",
   "metadata": {},
   "outputs": [
    {
     "data": {
      "text/plain": [
       "(1000, 2)"
      ]
     },
     "execution_count": 4,
     "metadata": {},
     "output_type": "execute_result"
    }
   ],
   "source": [
    "X.shape"
   ]
  },
  {
   "cell_type": "code",
   "execution_count": 5,
   "id": "19e07514-2aee-4c02-9a8f-caecd7ea3193",
   "metadata": {},
   "outputs": [
    {
     "data": {
      "text/plain": [
       "array([1, 1, 1, 1, 0])"
      ]
     },
     "execution_count": 5,
     "metadata": {},
     "output_type": "execute_result"
    }
   ],
   "source": [
    "y[:5]"
   ]
  },
  {
   "cell_type": "code",
   "execution_count": 6,
   "id": "b10adc9b-4b16-4748-9d1a-16190ff36897",
   "metadata": {},
   "outputs": [
    {
     "data": {
      "text/plain": [
       "(1000,)"
      ]
     },
     "execution_count": 6,
     "metadata": {},
     "output_type": "execute_result"
    }
   ],
   "source": [
    "y.shape"
   ]
  },
  {
   "cell_type": "markdown",
   "id": "39b3311f-59ff-4f6c-9d7e-387b4b5cecb9",
   "metadata": {},
   "source": [
    "We see that $X$ is an array of shape (1000, 2), i.e. we have 1000 points with two coordinates, say $X_1, X_2$. In contrast, $y$ is an array of shape (1000,1) with 0, 1 values. Let's make a pandas dataframe from these two arrays and plot the corresponding circle."
   ]
  },
  {
   "cell_type": "code",
   "execution_count": 7,
   "id": "f1cae367-ab0a-4fce-9e94-6ab4b890bb8c",
   "metadata": {},
   "outputs": [],
   "source": [
    "# Create a pandas dataframe\n",
    "df_circles = pd.DataFrame(\n",
    "    {\n",
    "        \"X_1\": X[:,0], \n",
    "        \"X_2\": X[:,1],\n",
    "        \"label\": y\n",
    "    }\n",
    ")"
   ]
  },
  {
   "cell_type": "code",
   "execution_count": 8,
   "id": "ce8d6f40-0f5d-4190-b563-6b7e6f2cdf54",
   "metadata": {},
   "outputs": [
    {
     "data": {
      "text/html": [
       "<div>\n",
       "<style scoped>\n",
       "    .dataframe tbody tr th:only-of-type {\n",
       "        vertical-align: middle;\n",
       "    }\n",
       "\n",
       "    .dataframe tbody tr th {\n",
       "        vertical-align: top;\n",
       "    }\n",
       "\n",
       "    .dataframe thead th {\n",
       "        text-align: right;\n",
       "    }\n",
       "</style>\n",
       "<table border=\"1\" class=\"dataframe\">\n",
       "  <thead>\n",
       "    <tr style=\"text-align: right;\">\n",
       "      <th></th>\n",
       "      <th>X_1</th>\n",
       "      <th>X_2</th>\n",
       "      <th>label</th>\n",
       "    </tr>\n",
       "  </thead>\n",
       "  <tbody>\n",
       "    <tr>\n",
       "      <th>0</th>\n",
       "      <td>0.754246</td>\n",
       "      <td>0.231481</td>\n",
       "      <td>1</td>\n",
       "    </tr>\n",
       "    <tr>\n",
       "      <th>1</th>\n",
       "      <td>-0.756159</td>\n",
       "      <td>0.153259</td>\n",
       "      <td>1</td>\n",
       "    </tr>\n",
       "    <tr>\n",
       "      <th>2</th>\n",
       "      <td>-0.815392</td>\n",
       "      <td>0.173282</td>\n",
       "      <td>1</td>\n",
       "    </tr>\n",
       "    <tr>\n",
       "      <th>3</th>\n",
       "      <td>-0.393731</td>\n",
       "      <td>0.692883</td>\n",
       "      <td>1</td>\n",
       "    </tr>\n",
       "    <tr>\n",
       "      <th>4</th>\n",
       "      <td>0.442208</td>\n",
       "      <td>-0.896723</td>\n",
       "      <td>0</td>\n",
       "    </tr>\n",
       "    <tr>\n",
       "      <th>...</th>\n",
       "      <td>...</td>\n",
       "      <td>...</td>\n",
       "      <td>...</td>\n",
       "    </tr>\n",
       "    <tr>\n",
       "      <th>995</th>\n",
       "      <td>0.244054</td>\n",
       "      <td>0.944125</td>\n",
       "      <td>0</td>\n",
       "    </tr>\n",
       "    <tr>\n",
       "      <th>996</th>\n",
       "      <td>-0.978655</td>\n",
       "      <td>-0.272373</td>\n",
       "      <td>0</td>\n",
       "    </tr>\n",
       "    <tr>\n",
       "      <th>997</th>\n",
       "      <td>-0.136900</td>\n",
       "      <td>-0.810012</td>\n",
       "      <td>1</td>\n",
       "    </tr>\n",
       "    <tr>\n",
       "      <th>998</th>\n",
       "      <td>0.670362</td>\n",
       "      <td>-0.767502</td>\n",
       "      <td>0</td>\n",
       "    </tr>\n",
       "    <tr>\n",
       "      <th>999</th>\n",
       "      <td>0.281057</td>\n",
       "      <td>0.963824</td>\n",
       "      <td>0</td>\n",
       "    </tr>\n",
       "  </tbody>\n",
       "</table>\n",
       "<p>1000 rows × 3 columns</p>\n",
       "</div>"
      ],
      "text/plain": [
       "          X_1       X_2  label\n",
       "0    0.754246  0.231481      1\n",
       "1   -0.756159  0.153259      1\n",
       "2   -0.815392  0.173282      1\n",
       "3   -0.393731  0.692883      1\n",
       "4    0.442208 -0.896723      0\n",
       "..        ...       ...    ...\n",
       "995  0.244054  0.944125      0\n",
       "996 -0.978655 -0.272373      0\n",
       "997 -0.136900 -0.810012      1\n",
       "998  0.670362 -0.767502      0\n",
       "999  0.281057  0.963824      0\n",
       "\n",
       "[1000 rows x 3 columns]"
      ]
     },
     "execution_count": 8,
     "metadata": {},
     "output_type": "execute_result"
    }
   ],
   "source": [
    "df_circles"
   ]
  },
  {
   "cell_type": "code",
   "execution_count": 9,
   "id": "1ba4ab42-5525-4655-913c-9fb792eca41b",
   "metadata": {},
   "outputs": [
    {
     "data": {
      "text/plain": [
       "Text(0, 0.5, '$X_2$')"
      ]
     },
     "execution_count": 9,
     "metadata": {},
     "output_type": "execute_result"
    },
    {
     "data": {
      "image/png": "[encoded data removed]",
      "text/plain": [
       "<Figure size 500x500 with 1 Axes>"
      ]
     },
     "metadata": {},
     "output_type": "display_data"
    }
   ],
   "source": [
    "# Plotting the circles:\n",
    "fig, ax = plt.subplots(figsize=(5, 5))\n",
    "\n",
    "ax.scatter(df_circles[\"X_1\"], df_circles[\"X_2\"], c=df_circles[\"label\"].map(lambda x: \"royalblue\" if x == 1 else \"salmon\"))\n",
    "ax.set_xlabel(r\"$X_1$\")\n",
    "ax.set_ylabel(r\"$X_2$\")"
   ]
  },
  {
   "cell_type": "code",
   "execution_count": 10,
   "id": "74f3edcb-1428-445e-a94f-0ab5f64f6d2d",
   "metadata": {},
   "outputs": [
    {
     "data": {
      "text/plain": [
       "label\n",
       "1    500\n",
       "0    500\n",
       "Name: count, dtype: int64"
      ]
     },
     "execution_count": 10,
     "metadata": {},
     "output_type": "execute_result"
    }
   ],
   "source": [
    "# Let's check different labels\n",
    "df_circles[\"label\"].value_counts()"
   ]
  },
  {
   "cell_type": "markdown",
   "id": "f5f49cf1-7488-4e04-9273-3bc79669e64d",
   "metadata": {},
   "source": [
    "It looks like we have our classification problem set up: given a pair of coordinates $X_1$ and $X_2$, we need to classify the corresponding point into \"red\" or \"blue\", i.e. understanding whether it belongs to the inner or the outer circle. Of course, this is just a **toy dataset**, a dataset that we are using just for testing our model architecture and to make practice. "
   ]
  },
  {
   "cell_type": "markdown",
   "id": "6eff6b52-795a-4e89-bdd8-6f6f5398cd03",
   "metadata": {},
   "source": [
    "### Input and Output Layers\n",
    "\n",
    "But what is a neural network?  \n",
    "\n",
    "Informally, we can think of a neural network as a **black box**: it takes some input values and produces some output values. All the complexity of the network lies inside this box, which is nothing more than a sequence of mathematical operations applied to the input.  \n",
    "\n",
    "The reason it is called *neural* is that its structure was inspired—at least loosely—by how the human brain works. The box is organized into **layers**, often referred to as *hidden layers*. Each layer is made up of units called **neurons**, and each neuron performs a simple mathematical operation on its inputs. By stacking and connecting many neurons across multiple layers, the network can transform raw input data step by step until it produces an output.  \n",
    "\n",
    "In this sense, a neural network resembles the propagation of a signal in the brain:  \n",
    "- an **input signal** (the input values) arrives,  \n",
    "- the **neurons** process this signal through a series of transformations,  \n",
    "- an **output signal** is produced (in our case, the predicted target variable).  \n",
    "\n",
    "Below, you can see a diagram that visually represents the structure of a neural network.  \n",
    "\n",
    "![NN-Architecture](../images/nn-architecture.png)\n",
    "---\n",
    "\n",
    "Before we dive into the internal structure (the hidden layers), we first need to understand how to define and represent the **input** and **output layers** in PyTorch.  \n",
    "\n",
    "A key point to grasp is the **shape** of these layers. Since PyTorch models are built on tensors, most of the common errors you will face come from mismatched tensor shapes during operations. This is, by far, the most frequent beginner mistake—and you will almost certainly run into it yourself. However, by constantly paying attention to the shape of your data and familiarizing yourself with it, you will gradually reduce these errors and become more confident in debugging them.\n"
   ]
  },
  {
   "cell_type": "code",
   "execution_count": 11,
   "id": "668c80ad-9432-428a-9990-0519a652cad6",
   "metadata": {},
   "outputs": [
    {
     "name": "stdout",
     "output_type": "stream",
     "text": [
      "Values for one sample of X: [0.75424625 0.23148074] and the same for y: 1\n",
      "Shapes for one sample of X: (2,) and the same for y: ()\n"
     ]
    }
   ],
   "source": [
    "# View the first example of features and labels\n",
    "X_sample = X[0]\n",
    "y_sample = y[0]\n",
    "print(f\"Values for one sample of X: {X_sample} and the same for y: {y_sample}\")\n",
    "print(f\"Shapes for one sample of X: {X_sample.shape} and the same for y: {y_sample.shape}\")"
   ]
  },
  {
   "cell_type": "markdown",
   "id": "5ca8d38a-9251-47c0-a8d3-182022107b7f",
   "metadata": {},
   "source": [
    "We see that the shape of a single example of features is $2$, meaning that we have two feature values per record. Hence, a tensor representing the input values will have the second dimension equal to 2. On the other hand, one sample of $y$ has \"0 dimensions\", meaning that it's a **scalar value**.\n",
    "\n",
    "Now we need to:\n",
    "1. Turn out data into *tensors*;\n",
    "2. Split our data into training and test sets"
   ]
  },
  {
   "cell_type": "code",
   "execution_count": 12,
   "id": "846293bd-9697-443d-8301-69cb02c43592",
   "metadata": {},
   "outputs": [],
   "source": [
    "# Turning data into tensors\n",
    "X = torch.from_numpy(X).type(torch.float)\n",
    "y = torch.from_numpy(y).type(torch.float)"
   ]
  },
  {
   "cell_type": "code",
   "execution_count": 13,
   "id": "fb09f738-5148-4937-94e5-146f4a450b3b",
   "metadata": {},
   "outputs": [
    {
     "data": {
      "text/plain": [
       "(tensor([[ 0.7542,  0.2315],\n",
       "         [-0.7562,  0.1533],\n",
       "         [-0.8154,  0.1733],\n",
       "         [-0.3937,  0.6929],\n",
       "         [ 0.4422, -0.8967]]),\n",
       " tensor([1., 1., 1., 1., 0.]))"
      ]
     },
     "execution_count": 13,
     "metadata": {},
     "output_type": "execute_result"
    }
   ],
   "source": [
    "# View the first five samples\n",
    "X[:5], y[:5]"
   ]
  },
  {
   "cell_type": "code",
   "execution_count": 14,
   "id": "58fa52ce-9043-46f9-8ec6-7ad81dba4eb4",
   "metadata": {},
   "outputs": [],
   "source": [
    "# Let's use the train_test_split() from sklearn\n",
    "X_train, X_test, y_train, y_test = train_test_split(\n",
    "    X, \n",
    "    y,\n",
    "    test_size=0.2, # 20% test, 80% train\n",
    "    random_state=42\n",
    ") # make the random split reproducible"
   ]
  },
  {
   "cell_type": "code",
   "execution_count": 15,
   "id": "d64aea36-12f0-43f5-8f2d-14037faee976",
   "metadata": {},
   "outputs": [
    {
     "data": {
      "text/plain": [
       "(800, 200, 800, 200)"
      ]
     },
     "execution_count": 15,
     "metadata": {},
     "output_type": "execute_result"
    }
   ],
   "source": [
    "# Checking dimensions\n",
    "len(X_train), len(X_test), len(y_train), len(y_test)"
   ]
  },
  {
   "cell_type": "markdown",
   "id": "9fa397af-8ac8-4997-a459-7bef6c219c6a",
   "metadata": {},
   "source": [
    "## Building the model\n",
    "\n",
    "Now that we have prepared our dataset and split it into training and test sets, we are ready to build a classification model with PyTorch. The main steps are:\n",
    "\n",
    "- Setting up device-agnostic code, as we saw in the `introduction-to-tensors` notebook, so that our model can run on either CPU or GPU if available  \n",
    "- Building a model using `nn.Module`  \n",
    "- Defining a loss function and an optimizer  \n",
    "- Creating a training loop  \n",
    "\n",
    "Let’s start by setting up the device-agnostic code:"
   ]
  },
  {
   "cell_type": "code",
   "execution_count": 16,
   "id": "bc9dc8ed-7a22-4b3f-8b4e-bd428bb7134a",
   "metadata": {},
   "outputs": [],
   "source": [
    "# Make device agnostic code (on MacBook)\n",
    "device = torch.device(\"mps\") if torch.backends.mps.is_available() else \"cpu\""
   ]
  },
  {
   "cell_type": "code",
   "execution_count": 17,
   "id": "6e49cd5c-2e6a-4c8e-9898-cf16a5986b4c",
   "metadata": {},
   "outputs": [
    {
     "data": {
      "text/plain": [
       "device(type='mps')"
      ]
     },
     "execution_count": 17,
     "metadata": {},
     "output_type": "execute_result"
    }
   ],
   "source": [
    "device"
   ]
  },
  {
   "cell_type": "markdown",
   "id": "d0e6a3aa-16c6-4dd9-95d8-b1da2fcbc223",
   "metadata": {},
   "source": [
    "Our model needs to handle the input and output shapes of `X` and `y`. In particular, we have seen that `X` consists of two features, while `y` is the target variable, represented by a single label. Let’s create a model with the following characteristics:\n",
    "\n",
    "1. It should be a subclass of `nn.Module`  \n",
    "2. It should include two layers, specifically *linear layers* created with PyTorch’s `nn.Linear` constructor, capable of handling the input and output shapes of `X` and `y`  \n",
    "3. It should define a `forward()` method that implements the forward pass of the model  \n",
    "4. Finally, we will instantiate the model class and move it to the target `device`  "
   ]
  },
  {
   "cell_type": "code",
   "execution_count": 18,
   "id": "01fa32de-f987-4c1f-84e1-fa7d6e479ae7",
   "metadata": {},
   "outputs": [],
   "source": [
    "# Building a simple Neural Network for classification\n",
    "class CircleModel_v0(nn.Module):\n",
    "    def __init__(self):\n",
    "        # inheritance from nn.Module \n",
    "        super().__init__()\n",
    "\n",
    "        # Defining layers as class attributes\n",
    "        self.layer_1 = nn.Linear(in_features=2, out_features=5) # take 2 input features and output 5 features\n",
    "        self.layer_2 = nn.Linear(in_features=5, out_features=1) # take 5 input features and output 1 feature (y)\n",
    "\n",
    "        \n",
    "    # Define the forward metho\n",
    "    def forward(self, x):\n",
    "        # Return the output of layer_2, a single feature, the same shape as y\n",
    "        return self.layer_2(self.layer_1(x))        "
   ]
  },
  {
   "cell_type": "code",
   "execution_count": 19,
   "id": "1741a953-7ad0-4683-a412-e6930d882712",
   "metadata": {},
   "outputs": [],
   "source": [
    "# 4. Create an instance of the model and send it to target device\n",
    "circlemodel_v0 = CircleModel_v0().to(device)"
   ]
  },
  {
   "cell_type": "code",
   "execution_count": 20,
   "id": "4339c1b5-042f-4550-a081-863a90c10c1f",
   "metadata": {},
   "outputs": [
    {
     "data": {
      "text/plain": [
       "CircleModel_v0(\n",
       "  (layer_1): Linear(in_features=2, out_features=5, bias=True)\n",
       "  (layer_2): Linear(in_features=5, out_features=1, bias=True)\n",
       ")"
      ]
     },
     "execution_count": 20,
     "metadata": {},
     "output_type": "execute_result"
    }
   ],
   "source": [
    "circlemodel_v0"
   ]
  },
  {
   "cell_type": "markdown",
   "id": "abfaf09e-3c20-4363-839a-78043acb14f4",
   "metadata": {},
   "source": [
    "So what is happening here? We have built a neural network with one hidden layer consisting of 5 units (or neurons). As we can see above, the first linear layer takes 2 input features and produces 5 outputs. This allows the model to represent the data using 5 numbers instead of just 2, which can potentially lead to better performance. Of course, we also need an additional layer to map those 5 features down to a single output, which corresponds to our target variable.\n",
    "\n",
    "The number of hidden neurons in a neural network is called a **hyperparameter**, since it is something we can choose and tune depending on how the model performs. In general, having more neurons can give the model more capacity, but this is not a strict rule. The “right” number of neurons depends on the problem at hand, the size and complexity of the dataset, the available computational resources, and other factors."
   ]
  },
  {
   "cell_type": "markdown",
   "id": "083f8496-0cbe-4c96-b250-fb4b0ed11dd8",
   "metadata": {},
   "source": [
    "When we have *sequential* layers as above, we can build the model with a simpler sintax using the `nn.Sequential` module, which already implements a forward method that performs a computation of the input data through the layers in the order they appear:"
   ]
  },
  {
   "cell_type": "code",
   "execution_count": 21,
   "id": "7fae33a8-6403-46d7-a81b-f218fe3b2e1e",
   "metadata": {},
   "outputs": [],
   "source": [
    "# Defining a sequential nn and sending it to device\n",
    "sequential_circlemodel = nn.Sequential(\n",
    "    nn.Linear(in_features=2, out_features=5),\n",
    "    nn.Linear(in_features=5, out_features=1)\n",
    ").to(device)"
   ]
  },
  {
   "cell_type": "code",
   "execution_count": 22,
   "id": "a9e7161e-9704-4faa-9078-95ed9d262017",
   "metadata": {},
   "outputs": [
    {
     "data": {
      "text/plain": [
       "Sequential(\n",
       "  (0): Linear(in_features=2, out_features=5, bias=True)\n",
       "  (1): Linear(in_features=5, out_features=1, bias=True)\n",
       ")"
      ]
     },
     "execution_count": 22,
     "metadata": {},
     "output_type": "execute_result"
    }
   ],
   "source": [
    "sequential_circlemodel"
   ]
  },
  {
   "cell_type": "markdown",
   "id": "82279228-5030-4d5e-9edc-e6e04350ec5d",
   "metadata": {},
   "source": [
    "Before writing a training loop, let's see how to use the untrained model and what data it generates:"
   ]
  },
  {
   "cell_type": "code",
   "execution_count": 23,
   "id": "2fe4566f-12af-44fe-a917-15401cc127c1",
   "metadata": {},
   "outputs": [],
   "source": [
    "# Make predictions with the untrained model --> Notice that we have to send X to the given device!\n",
    "untrained_preds = circlemodel_v0(X_test.to(device))"
   ]
  },
  {
   "cell_type": "code",
   "execution_count": 24,
   "id": "32cf66c4-ba0e-47b4-a577-e184956a6657",
   "metadata": {},
   "outputs": [
    {
     "name": "stdout",
     "output_type": "stream",
     "text": [
      "Length of predictions: 200, Shape: torch.Size([200, 1])\n",
      "Length of test samples: 200, Shape: torch.Size([200])\n"
     ]
    }
   ],
   "source": [
    "print(f\"Length of predictions: {len(untrained_preds)}, Shape: {untrained_preds.shape}\")\n",
    "print(f\"Length of test samples: {len(y_test)}, Shape: {y_test.shape}\")"
   ]
  },
  {
   "cell_type": "code",
   "execution_count": 25,
   "id": "627c8965-8263-4e30-aa70-4111294a98ec",
   "metadata": {},
   "outputs": [
    {
     "name": "stdout",
     "output_type": "stream",
     "text": [
      "\n",
      "First 10 predictions:\n",
      "tensor([[-0.1772],\n",
      "        [-0.2157],\n",
      "        [-0.0356],\n",
      "        [-0.2175],\n",
      "        [ 0.0286],\n",
      "        [ 0.0046],\n",
      "        [-0.1549],\n",
      "        [-0.1031],\n",
      "        [-0.0386],\n",
      "        [-0.2176]], device='mps:0', grad_fn=<SliceBackward0>)\n",
      "\n",
      "First 10 test labels:\n",
      "tensor([1., 0., 1., 0., 1., 1., 0., 0., 1., 0.])\n"
     ]
    }
   ],
   "source": [
    "print(f\"\\nFirst 10 predictions:\\n{untrained_preds[:10]}\")\n",
    "print(f\"\\nFirst 10 test labels:\\n{y_test[:10]}\")"
   ]
  },
  {
   "cell_type": "markdown",
   "id": "89b5af65-dc7b-4faf-bd72-ecf04ea551d6",
   "metadata": {},
   "source": [
    "Ok, there is something going on here. Indeed, our test labels are just 0/1 number while our NN outputs data between 0 and 1. So we need some additional steps to fix this. However, let's define a loss function and an optimizer before. "
   ]
  },
  {
   "cell_type": "markdown",
   "id": "478c34f6-d2c6-44f8-a790-ccf5fe27d795",
   "metadata": {},
   "source": [
    "In the `pytorch-workflow` notebook, we introduced the MAE loss function for regression problems. For classification problems, a commonly used loss function is **binary cross-entropy**. Let’s briefly explain what this loss function is.\n",
    "\n",
    "If you are familiar with physics, you know that **entropy** is a thermodynamic quantity which—roughly speaking—can be seen as a measure of disorder within a system. For example, when matter undergoes a state change (e.g. ice → liquid water), its entropy typically changes: ice has lower entropy, or “less disorder,” since H₂O molecules are arranged in a well-defined crystalline structure. In contrast, in liquid water, the molecules are free to move, making the overall state more disordered.\n",
    "\n",
    "This physical concept was later adopted in information theory to describe the uncertainty or “randomness” of a set of outcomes. Formally, the entropy of a discrete random variable is defined as:\n",
    "$$\n",
    "H(X) = - \\sum_i p(x_i)\\log(p(x_i))\n",
    "$$\n",
    "where $p$ is the probability distribution over the random variable $X$, and $x_i$ is a possible outcome.  \n",
    "\n",
    "Entropy can thus be interpreted as a measure of uncertainty: higher entropy means greater uncertainty, and lower entropy means less. Equivalently, entropy quantifies the expected amount of information required to describe the state of the variable, given its probability distribution.\n",
    "\n",
    "In machine learning, entropy provides intuition about how “confident” or “uncertain” a model’s predictions are. In classification problems, we are particularly interested in comparing two probability distributions:  \n",
    "- the true distribution of the target variable,  \n",
    "- the predicted distribution produced by our model.  \n",
    "\n",
    "Of course, we do not know the *true* probability distribution of the target variable—if we did, the classification problem would already be solved. Instead, we approximate it from the labels in the dataset, and then we compare it to the distribution produced by the model’s predictions.  \n",
    "\n",
    "The measure of dissimilarity between these two distributions is called **cross-entropy**, defined as:\n",
    "$$\n",
    "H(p(X), q(X)) = -\\sum_i p(x_i)\\log(q(x_i))\n",
    "$$\n",
    "Here, $p$ represents the true distribution and $q$ the predicted distribution. Intuitively, cross-entropy tells us how well the predictions $q$ approximate the true distribution $p$.  \n",
    "\n",
    "The *binary* version is the special case of binary classification, where the target variable can only take two values: 0 or 1. For each data point, we know the true label $y_i$, and the model outputs a predicted probability $q(x_i)$. The binary cross-entropy is then defined as:\n",
    "$$\n",
    "BCE(y, q(X)) = -\\sum_{i=1}^n \\left( y_i \\log(q(x_i)) + (1-y_i)\\log(1-q(x_i))\\right)\n",
    "$$\n",
    "This function penalizes the model more strongly when it assigns low probability to the correct class, encouraging it to make confident and accurate predictions."
   ]
  },
  {
   "cell_type": "markdown",
   "id": "46e91473-0e59-41f3-bef2-9308e72b5b88",
   "metadata": {},
   "source": [
    "In PyTorch there are two implementations of BCE:\n",
    "1. `torch.nn.BCELoss()`: it creates a loss function that measures the binary cross entropy between the target (label) and input (features).\n",
    "2.  `torch.nn.BCEWithLogitsLoss()`:  this is the same as above except it has a sigmoid layer (`nn.Sigmoid`) built-in.\n",
    "According to the pytorch documentation, the latter is numerically more stable so we will use this loss function.\n",
    "\n",
    "For the optimizer, we can still use the SGD or the Adam optimizer. Let's pick the SDG for this model:"
   ]
  },
  {
   "cell_type": "code",
   "execution_count": 26,
   "id": "f017506b-cab8-43b6-a1d9-facf5033fc8b",
   "metadata": {},
   "outputs": [],
   "source": [
    "# Create a loss function\n",
    "loss_fn = nn.BCEWithLogitsLoss() \n",
    "\n",
    "# Create an optimizer\n",
    "optimizer = torch.optim.SGD(params=circlemodel_v0.parameters(), \n",
    "                            lr=0.1)"
   ]
  },
  {
   "cell_type": "markdown",
   "id": "cc625245-64f5-409b-b3d3-507fed96cc9f",
   "metadata": {},
   "source": [
    "Before writing the training loop, we need to define an evaluation metric. During training, the model is optimized to minimize the loss function—in our case, the binary cross-entropy. However, at the end of training, we also need a metric to assess how good the model’s predictions are.  \n",
    "\n",
    "The simplest and most commonly used metric for classification is **accuracy**, which is computed as the number of correct predictions divided by the total number of predictions.  \n",
    "\n",
    "A PyTorch (tensor-based) implementation is the following:"
   ]
  },
  {
   "cell_type": "code",
   "execution_count": 34,
   "id": "2edeb839-a32f-44d6-a295-85bc11034a41",
   "metadata": {},
   "outputs": [],
   "source": [
    "# Tensorial evaluation of accuracy\n",
    "def accuracy_fn(y_true, y_preds):\n",
    "    # torch.eq() calculates where two tensors are equal\n",
    "    correct = torch.eq(y_true, y_preds).sum().item() \n",
    "    acc = (correct / len(y_preds)) * 100 \n",
    "    return acc"
   ]
  },
  {
   "cell_type": "markdown",
   "id": "6595aaaa-dfc0-40d2-8f60-447f27affc68",
   "metadata": {},
   "source": [
    "Above, we noticed that the untrained predictions are not simple 0/1 labels as we might expect. Why is that? Let’s take a closer look at what our neural network is actually doing.  \n",
    "\n",
    "If $\\boldsymbol{X}$ is our training set, the outputs $y$ are computed as:\n",
    "$$\n",
    "y = \\boldsymbol{X} \\cdot \\boldsymbol{W}^T + \\boldsymbol{B}\n",
    "$$\n",
    "This is the fundamental equation governing a simple sequential neural network like the one we defined. (We will explore this equation in more detail in the appendix.)  \n",
    "\n",
    "In essence, the outputs are obtained by multiplying the input features with a weight matrix $\\boldsymbol{W}$—whose values will be optimized during training—and then adding a bias term $\\boldsymbol{B}$. As a result, the raw outputs are not constrained to be between 0 and 1.  \n",
    "\n",
    "To handle this, we typically pass the raw outputs—often called **logits**—through an additional function. For binary classification, the most common choice is the **sigmoid function**, $S$, which squashes the values into the range $[0,1]$. We can then interpret the result as a probability and apply a simple decision rule:\n",
    "1. If $S(y) \\geq 0.5$, the model predicts class 1  \n",
    "2. If $S(y) < 0.5$, the model predicts class 0  \n"
   ]
  },
  {
   "cell_type": "code",
   "execution_count": 35,
   "id": "cd47721d-291f-4945-89be-968cb43f7f5f",
   "metadata": {
    "scrolled": true
   },
   "outputs": [
    {
     "data": {
      "text/plain": [
       "tensor([[-0.1772],\n",
       "        [-0.2157],\n",
       "        [-0.0356],\n",
       "        [-0.2175],\n",
       "        [ 0.0286],\n",
       "        [ 0.0046],\n",
       "        [-0.1549],\n",
       "        [-0.1031],\n",
       "        [-0.0386],\n",
       "        [-0.2176]], device='mps:0', grad_fn=<SliceBackward0>)"
      ]
     },
     "execution_count": 35,
     "metadata": {},
     "output_type": "execute_result"
    }
   ],
   "source": [
    "untrained_preds[:10]"
   ]
  },
  {
   "cell_type": "code",
   "execution_count": 36,
   "id": "b7d4016f-b270-49cb-8851-e2355da5c917",
   "metadata": {
    "scrolled": true
   },
   "outputs": [
    {
     "data": {
      "text/plain": [
       "tensor([[0.4558],\n",
       "        [0.4463],\n",
       "        [0.4911],\n",
       "        [0.4458],\n",
       "        [0.5072],\n",
       "        [0.5012],\n",
       "        [0.4614],\n",
       "        [0.4742],\n",
       "        [0.4904],\n",
       "        [0.4458]], device='mps:0', grad_fn=<SliceBackward0>)"
      ]
     },
     "execution_count": 36,
     "metadata": {},
     "output_type": "execute_result"
    }
   ],
   "source": [
    "# Use sigmoid on model logits\n",
    "y_pred_probs = torch.sigmoid(untrained_preds)\n",
    "y_pred_probs[:10]"
   ]
  },
  {
   "cell_type": "markdown",
   "id": "a5cd02f5-5741-419d-9789-216c86005d5b",
   "metadata": {},
   "source": [
    "To turn our prediction probabilities into prediction labels, we can round the outputs of the sigmoid activation function:"
   ]
  },
  {
   "cell_type": "code",
   "execution_count": 37,
   "id": "6593dddf-7640-4615-918a-bd897867186f",
   "metadata": {},
   "outputs": [],
   "source": [
    "# Find the predicted labels (round the prediction probabilities)\n",
    "y_preds = torch.round(y_pred_probs)"
   ]
  },
  {
   "cell_type": "code",
   "execution_count": 38,
   "id": "4378c692-0ed2-4499-936d-03cd6a549443",
   "metadata": {},
   "outputs": [
    {
     "data": {
      "text/plain": [
       "tensor([[0.],\n",
       "        [0.],\n",
       "        [0.],\n",
       "        [0.],\n",
       "        [1.]], device='mps:0', grad_fn=<SliceBackward0>)"
      ]
     },
     "execution_count": 38,
     "metadata": {},
     "output_type": "execute_result"
    }
   ],
   "source": [
    "y_preds[:5]"
   ]
  },
  {
   "cell_type": "markdown",
   "id": "a6cd774f-0c73-4b58-b0ef-6666978e01ab",
   "metadata": {},
   "source": [
    "Nice, we are now ready to write our training loop:"
   ]
  },
  {
   "cell_type": "code",
   "execution_count": 39,
   "id": "1e3a5d29-96c9-4883-bfa9-fa1e01a75441",
   "metadata": {},
   "outputs": [],
   "source": [
    "# Defining epochs\n",
    "epochs = 500"
   ]
  },
  {
   "cell_type": "code",
   "execution_count": 41,
   "id": "c582d299-23d0-411d-87db-7e09419d0b54",
   "metadata": {},
   "outputs": [
    {
     "name": "stdout",
     "output_type": "stream",
     "text": [
      "Epoch: 0 | Loss: 0.69567, Accuracy: 46.88% | Test loss: 0.69210, Test acc: 49.50%\n",
      "Epoch: 10 | Loss: 0.69491, Accuracy: 47.50% | Test loss: 0.69165, Test acc: 52.00%\n",
      "Epoch: 20 | Loss: 0.69450, Accuracy: 48.12% | Test loss: 0.69153, Test acc: 51.00%\n",
      "Epoch: 30 | Loss: 0.69424, Accuracy: 48.38% | Test loss: 0.69153, Test acc: 53.00%\n",
      "Epoch: 40 | Loss: 0.69407, Accuracy: 48.88% | Test loss: 0.69159, Test acc: 53.00%\n",
      "Epoch: 50 | Loss: 0.69393, Accuracy: 48.75% | Test loss: 0.69167, Test acc: 52.50%\n",
      "Epoch: 60 | Loss: 0.69383, Accuracy: 49.00% | Test loss: 0.69176, Test acc: 53.00%\n",
      "Epoch: 70 | Loss: 0.69374, Accuracy: 48.62% | Test loss: 0.69186, Test acc: 54.50%\n",
      "Epoch: 80 | Loss: 0.69367, Accuracy: 49.00% | Test loss: 0.69195, Test acc: 54.50%\n",
      "Epoch: 90 | Loss: 0.69361, Accuracy: 48.50% | Test loss: 0.69205, Test acc: 53.00%\n",
      "Epoch: 100 | Loss: 0.69356, Accuracy: 49.12% | Test loss: 0.69213, Test acc: 54.00%\n",
      "Epoch: 110 | Loss: 0.69351, Accuracy: 49.00% | Test loss: 0.69222, Test acc: 54.00%\n",
      "Epoch: 120 | Loss: 0.69347, Accuracy: 49.38% | Test loss: 0.69230, Test acc: 53.00%\n",
      "Epoch: 130 | Loss: 0.69343, Accuracy: 49.38% | Test loss: 0.69238, Test acc: 53.00%\n",
      "Epoch: 140 | Loss: 0.69340, Accuracy: 49.75% | Test loss: 0.69245, Test acc: 52.00%\n",
      "Epoch: 150 | Loss: 0.69338, Accuracy: 49.88% | Test loss: 0.69253, Test acc: 52.50%\n",
      "Epoch: 160 | Loss: 0.69335, Accuracy: 49.62% | Test loss: 0.69259, Test acc: 51.00%\n",
      "Epoch: 170 | Loss: 0.69333, Accuracy: 50.12% | Test loss: 0.69266, Test acc: 50.50%\n",
      "Epoch: 180 | Loss: 0.69331, Accuracy: 49.62% | Test loss: 0.69272, Test acc: 51.00%\n",
      "Epoch: 190 | Loss: 0.69329, Accuracy: 49.50% | Test loss: 0.69278, Test acc: 51.00%\n",
      "Epoch: 200 | Loss: 0.69327, Accuracy: 49.38% | Test loss: 0.69283, Test acc: 51.00%\n",
      "Epoch: 210 | Loss: 0.69326, Accuracy: 50.00% | Test loss: 0.69288, Test acc: 51.50%\n",
      "Epoch: 220 | Loss: 0.69324, Accuracy: 50.50% | Test loss: 0.69293, Test acc: 49.00%\n",
      "Epoch: 230 | Loss: 0.69323, Accuracy: 50.12% | Test loss: 0.69298, Test acc: 49.00%\n",
      "Epoch: 240 | Loss: 0.69322, Accuracy: 50.62% | Test loss: 0.69303, Test acc: 48.00%\n",
      "Epoch: 250 | Loss: 0.69321, Accuracy: 50.38% | Test loss: 0.69307, Test acc: 48.50%\n",
      "Epoch: 260 | Loss: 0.69320, Accuracy: 50.38% | Test loss: 0.69311, Test acc: 48.50%\n",
      "Epoch: 270 | Loss: 0.69319, Accuracy: 50.00% | Test loss: 0.69315, Test acc: 51.00%\n",
      "Epoch: 280 | Loss: 0.69318, Accuracy: 49.75% | Test loss: 0.69319, Test acc: 51.50%\n",
      "Epoch: 290 | Loss: 0.69317, Accuracy: 50.12% | Test loss: 0.69323, Test acc: 52.00%\n",
      "Epoch: 300 | Loss: 0.69316, Accuracy: 49.50% | Test loss: 0.69326, Test acc: 54.50%\n",
      "Epoch: 310 | Loss: 0.69315, Accuracy: 49.00% | Test loss: 0.69330, Test acc: 52.00%\n",
      "Epoch: 320 | Loss: 0.69314, Accuracy: 49.88% | Test loss: 0.69333, Test acc: 52.00%\n",
      "Epoch: 330 | Loss: 0.69314, Accuracy: 49.62% | Test loss: 0.69336, Test acc: 51.50%\n",
      "Epoch: 340 | Loss: 0.69313, Accuracy: 49.25% | Test loss: 0.69339, Test acc: 51.50%\n",
      "Epoch: 350 | Loss: 0.69312, Accuracy: 49.50% | Test loss: 0.69342, Test acc: 51.00%\n",
      "Epoch: 360 | Loss: 0.69312, Accuracy: 50.00% | Test loss: 0.69345, Test acc: 49.50%\n",
      "Epoch: 370 | Loss: 0.69311, Accuracy: 50.00% | Test loss: 0.69348, Test acc: 50.00%\n",
      "Epoch: 380 | Loss: 0.69310, Accuracy: 50.50% | Test loss: 0.69351, Test acc: 50.50%\n",
      "Epoch: 390 | Loss: 0.69310, Accuracy: 50.12% | Test loss: 0.69353, Test acc: 51.50%\n",
      "Epoch: 400 | Loss: 0.69309, Accuracy: 50.38% | Test loss: 0.69356, Test acc: 51.50%\n",
      "Epoch: 410 | Loss: 0.69309, Accuracy: 50.12% | Test loss: 0.69358, Test acc: 50.00%\n",
      "Epoch: 420 | Loss: 0.69308, Accuracy: 50.38% | Test loss: 0.69361, Test acc: 49.50%\n",
      "Epoch: 430 | Loss: 0.69308, Accuracy: 50.62% | Test loss: 0.69363, Test acc: 49.50%\n",
      "Epoch: 440 | Loss: 0.69308, Accuracy: 50.38% | Test loss: 0.69365, Test acc: 49.50%\n",
      "Epoch: 450 | Loss: 0.69307, Accuracy: 50.38% | Test loss: 0.69367, Test acc: 48.00%\n",
      "Epoch: 460 | Loss: 0.69307, Accuracy: 50.25% | Test loss: 0.69370, Test acc: 48.00%\n",
      "Epoch: 470 | Loss: 0.69306, Accuracy: 50.88% | Test loss: 0.69372, Test acc: 47.50%\n",
      "Epoch: 480 | Loss: 0.69306, Accuracy: 51.00% | Test loss: 0.69374, Test acc: 47.50%\n",
      "Epoch: 490 | Loss: 0.69306, Accuracy: 50.25% | Test loss: 0.69376, Test acc: 47.50%\n"
     ]
    }
   ],
   "source": [
    "# TRAINING LOOP\n",
    "torch.manual_seed(42)\n",
    "\n",
    "# Put data to target device\n",
    "X_train, y_train = X_train.to(device), y_train.to(device)\n",
    "X_test, y_test = X_test.to(device), y_test.to(device)\n",
    "\n",
    "for epoch in range(epochs):\n",
    "    ### TRAINING\n",
    "\n",
    "    # This command put the model in training mode\n",
    "    circlemodel_v0.train()\n",
    "\n",
    "    # 1. Pass the training data through the forward() method of the model\n",
    "    y_logits = circlemodel_v0(X_train).squeeze() # squeeze to remove the extra dimension\n",
    "    y_preds = torch.round(torch.sigmoid(y_logits))\n",
    "\n",
    "    # 2. Calculate the loss and accuract\n",
    "    loss = loss_fn(y_logits, y_train)\n",
    "    acc = accuracy_fn(y_true=y_train, y_preds=y_preds) \n",
    "\n",
    "    # 3. Zero grad of the optimizer --> we zero the gradients since they accumalate at each epochs\n",
    "    optimizer.zero_grad()\n",
    "\n",
    "    # 4. Loss backward\n",
    "    loss.backward()\n",
    "\n",
    "    # 5. Progress the optimizer\n",
    "    optimizer.step()\n",
    "\n",
    "    ### TESTING\n",
    "    # Put the model in evaluation mode\n",
    "    circlemodel_v0.eval()\n",
    "\n",
    "    # Make the inference\n",
    "    with torch.inference_mode():\n",
    "        # 1. Forward pass on test data\n",
    "        test_logits = circlemodel_v0(X_test).squeeze()\n",
    "        test_preds = torch.round(torch.sigmoid(test_logits))\n",
    "\n",
    "        # 2. Caculate loss/accuracy\n",
    "        test_loss = loss_fn(test_logits,y_test)\n",
    "        test_acc = accuracy_fn(y_true=y_test, y_preds=test_preds)\n",
    "\n",
    "        # Print out what's happening every 10 epochs\n",
    "        if epoch % 10 == 0:\n",
    "            print(f\"Epoch: {epoch} | Loss: {loss:.5f}, Accuracy: {acc:.2f}% | Test loss: {test_loss:.5f}, Test acc: {test_acc:.2f}%\")"
   ]
  },
  {
   "cell_type": "markdown",
   "id": "e858f40b-1cf1-40e7-896b-91dedab3aa5d",
   "metadata": {},
   "source": [
    "What’s going on here? It seems that our model’s performance is very poor, and it even degrades as the training loop progresses. In practice, the model is predicting the target labels no better than random guessing. Why might this be happening? To gain more insight, let’s visualize the decision boundary learned by the model:"
   ]
  },
  {
   "cell_type": "code",
   "execution_count": 42,
   "id": "eab1cce9-28c9-46f7-93d5-7b90363416cf",
   "metadata": {},
   "outputs": [],
   "source": [
    "# Create a meshgrid that covers the data space\n",
    "x_min, x_max = df_circles[\"X_1\"].min() - 0.5, df_circles[\"X_1\"].max() + 0.5\n",
    "y_min, y_max = df_circles[\"X_2\"].min() - 0.5, df_circles[\"X_2\"].max() + 0.5\n",
    "\n",
    "xx, yy = np.meshgrid(np.linspace(x_min, x_max, 200),\n",
    "                     np.linspace(y_min, y_max, 200))"
   ]
  },
  {
   "cell_type": "code",
   "execution_count": 47,
   "id": "29667b28-c05b-463b-a81b-cee26ad401d4",
   "metadata": {},
   "outputs": [],
   "source": [
    "# Put the grid in the right shape for the model\n",
    "grid = np.c_[xx.ravel(), yy.ravel()]\n",
    "grid_tensor = torch.tensor(grid, dtype=torch.float32)"
   ]
  },
  {
   "cell_type": "code",
   "execution_count": 48,
   "id": "3f2c69b1-c717-44c4-8a60-d9703f1be8ad",
   "metadata": {},
   "outputs": [],
   "source": [
    "grid_tensor = grid_tensor.to(device)"
   ]
  },
  {
   "cell_type": "code",
   "execution_count": 50,
   "id": "740340f2-e853-4f15-ac90-c7fdfcd0f734",
   "metadata": {},
   "outputs": [],
   "source": [
    "# Get model predictions (logits → sigmoid → probabilities)\n",
    "with torch.no_grad():\n",
    "    point_preds = torch.sigmoid(circlemodel_v0(grid_tensor)).to(\"cpu\").numpy().reshape(xx.shape)"
   ]
  },
  {
   "cell_type": "code",
   "execution_count": 57,
   "id": "88642e4c-472c-46ef-9e88-af3513d90b72",
   "metadata": {},
   "outputs": [
    {
     "data": {
      "image/png": "[encoded data removed]",
      "text/plain": [
       "<Figure size 500x500 with 1 Axes>"
      ]
     },
     "metadata": {},
     "output_type": "display_data"
    }
   ],
   "source": [
    "# Plot the decision regions\n",
    "fig, ax = plt.subplots(figsize=(5, 5))\n",
    "ax.contourf(xx, yy, point_preds, levels=[0, 0.5, 1], alpha=0.3, colors=[\"salmon\", \"royalblue\"])\n",
    "\n",
    "# Also plot the decision boundary line (at probability = 0.5)\n",
    "ax.contour(xx, yy, point_preds, levels=[0.5], colors=\"grey\", linewidths=1.5)\n",
    "\n",
    "ax.scatter(df_circles[\"X_1\"], df_circles[\"X_2\"], c=df_circles[\"label\"].map(lambda x: \"royalblue\" if x == 1 else \"salmon\"))\n",
    "ax.set_xlabel(r\"$X_1$\")\n",
    "ax.set_ylabel(r\"$X_2$\")\n",
    "plt.show()"
   ]
  },
  {
   "cell_type": "markdown",
   "id": "f02d2a34-e794-4077-88d1-d4930de0d03f",
   "metadata": {},
   "source": [
    "Ta-da! Our model has learned a linear decision boundary, which explains why it struggles to make accurate predictions: our dataset is clearly non-linear. To address this, we need to introduce non-linearity into the model. PyTorch has a bunch of non-linear functions *activation* functions that can be inserted as as an hidden layer of our neural network. One of the most common used is the **ReLU** or **Rectified Linear Unit**. A ReLU function is defined as follows:\n",
    "$$\n",
    "\\text{ReLU}(x) = \\max(0, x) = \\frac{x+|x|}{2}\n",
    "$$"
   ]
  },
  {
   "cell_type": "markdown",
   "id": "e0c8cbee-cadd-4072-90bb-e116e5800371",
   "metadata": {},
   "source": [
    "Let's plot it to see its shape:"
   ]
  },
  {
   "cell_type": "code",
   "execution_count": 58,
   "id": "1383d16f-7540-4499-a421-797fab90f7b8",
   "metadata": {},
   "outputs": [],
   "source": [
    "# Generate N aranged X coordinates\n",
    "x = np.arange(-2, 2, 0.1)"
   ]
  },
  {
   "cell_type": "code",
   "execution_count": 63,
   "id": "169cfff7-8cb0-4390-a2c1-2391ef3c1128",
   "metadata": {},
   "outputs": [],
   "source": [
    "# Computing ReLU of x using torch native method\n",
    "relu_x = torch.relu(torch.tensor(x))"
   ]
  },
  {
   "cell_type": "code",
   "execution_count": 68,
   "id": "eee8a8d0-bd3c-450b-927e-35d19d8e1bdf",
   "metadata": {},
   "outputs": [
    {
     "data": {
      "image/png": "[encoded data removed]",
      "text/plain": [
       "<Figure size 600x400 with 1 Axes>"
      ]
     },
     "metadata": {},
     "output_type": "display_data"
    }
   ],
   "source": [
    "fig, ax = plt.subplots(figsize=(6,4))\n",
    "\n",
    "ax.plot(x, relu_x.numpy(), color=\"royalblue\", label=\"ReLU\")\n",
    "ax.legend()\n",
    "ax.grid(True, linestyle=\"--\", color=\"lightgrey\")"
   ]
  },
  {
   "cell_type": "markdown",
   "id": "962ce911-e14c-4821-998e-b10cdb42b016",
   "metadata": {},
   "source": [
    "ReLU can be thought of as a “ramp function”: it is a straight line with slope $m=1$ for positive inputs, while it outputs zero for negative inputs. It is a simple nonlinear function, very fast to compute, and in most cases sufficient to introduce the necessary non-linearity into the model. Let's build again our model introducing ReLU layers:"
   ]
  },
  {
   "cell_type": "code",
   "execution_count": 95,
   "id": "766159e6-4d26-4c31-bb29-7d7a6be63530",
   "metadata": {},
   "outputs": [],
   "source": [
    "# Building a simple Neural Network for classification\n",
    "class CircleModel_v1(nn.Module):\n",
    "    def __init__(self):\n",
    "        # inheritance from nn.Module \n",
    "        super().__init__()\n",
    "\n",
    "        # Defining layers as class attributes\n",
    "        self.layer_1 = nn.Linear(in_features=2, out_features=10) # take 2 input features and output 10 features\n",
    "        self.layer_2 = nn.Linear(in_features=10, out_features=10) # take 10 input features and output 10 feature (y)\n",
    "        self.layer_3 = nn.Linear(in_features=10, out_features=1)\n",
    "        self.relu = nn.ReLU() # <- add in ReLU activation function\n",
    "\n",
    "        \n",
    "    # Define the forward method\n",
    "    def forward(self, x):\n",
    "        # Intersperse the ReLU activation function between layers\n",
    "        return self.layer_3(self.relu(self.layer_2(self.relu(self.layer_1(x)))))"
   ]
  },
  {
   "cell_type": "code",
   "execution_count": 96,
   "id": "e2e815cc-75d4-4618-9d33-938605868321",
   "metadata": {},
   "outputs": [],
   "source": [
    "# 4. Create an instance of the model and send it to target device\n",
    "circlemodel_v1 = CircleModel_v1().to(device)"
   ]
  },
  {
   "cell_type": "code",
   "execution_count": 97,
   "id": "525190cf-7c86-4882-ae7f-7265ad0b2130",
   "metadata": {},
   "outputs": [],
   "source": [
    "# Setup loss and optimizer \n",
    "loss_fn_v1 = nn.BCEWithLogitsLoss()\n",
    "optimizer_v1 = torch.optim.SGD(circlemodel_v1.parameters(), lr=0.1)"
   ]
  },
  {
   "cell_type": "code",
   "execution_count": 98,
   "id": "629bc63d-2166-4a2d-9cbd-066e82c9f6f2",
   "metadata": {},
   "outputs": [
    {
     "name": "stdout",
     "output_type": "stream",
     "text": [
      "Epoch: 0 | Loss: 0.69295, Accuracy: 50.00% | Test loss: 0.69319, Test acc: 50.00%\n",
      "Epoch: 200 | Loss: 0.68977, Accuracy: 53.37% | Test loss: 0.68940, Test acc: 55.00%\n",
      "Epoch: 400 | Loss: 0.68517, Accuracy: 52.75% | Test loss: 0.68411, Test acc: 56.50%\n",
      "Epoch: 600 | Loss: 0.67515, Accuracy: 54.50% | Test loss: 0.67285, Test acc: 56.00%\n",
      "Epoch: 800 | Loss: 0.65160, Accuracy: 64.00% | Test loss: 0.64757, Test acc: 67.50%\n",
      "Epoch: 1000 | Loss: 0.56818, Accuracy: 87.75% | Test loss: 0.57378, Test acc: 86.50%\n",
      "Epoch: 1200 | Loss: 0.37056, Accuracy: 97.75% | Test loss: 0.40595, Test acc: 92.00%\n",
      "Epoch: 1400 | Loss: 0.17180, Accuracy: 99.50% | Test loss: 0.22108, Test acc: 97.50%\n",
      "Epoch: 1600 | Loss: 0.09123, Accuracy: 99.88% | Test loss: 0.12741, Test acc: 99.50%\n",
      "Epoch: 1800 | Loss: 0.05773, Accuracy: 99.88% | Test loss: 0.08672, Test acc: 99.50%\n"
     ]
    }
   ],
   "source": [
    "# TRAINING LOOP\n",
    "epochs = 2000\n",
    "torch.manual_seed(42)\n",
    "\n",
    "# Put data to target device\n",
    "X_train, y_train = X_train.to(device), y_train.to(device)\n",
    "X_test, y_test = X_test.to(device), y_test.to(device)\n",
    "\n",
    "for epoch in range(epochs):\n",
    "    ### TRAINING\n",
    "\n",
    "    # This command put the model in training mode\n",
    "    circlemodel_v1.train()\n",
    "\n",
    "    # 1. Pass the training data through the forward() method of the model\n",
    "    y_logits = circlemodel_v1(X_train).squeeze() # squeeze to remove the extra dimension\n",
    "    y_preds = torch.round(torch.sigmoid(y_logits))\n",
    "\n",
    "    # 2. Calculate the loss and accuract\n",
    "    loss = loss_fn_v1(y_logits, y_train)\n",
    "    acc = accuracy_fn(y_true=y_train, y_preds=y_preds) \n",
    "\n",
    "    # 3. Zero grad of the optimizer --> we zero the gradients since they accumalate at each epochs\n",
    "    optimizer_v1.zero_grad()\n",
    "\n",
    "    # 4. Loss backward\n",
    "    loss.backward()\n",
    "\n",
    "    # 5. Progress the optimizer\n",
    "    optimizer_v1.step()\n",
    "\n",
    "    ### TESTING\n",
    "    # Put the model in evaluation mode\n",
    "    circlemodel_v1.eval()\n",
    "\n",
    "    # Make the inference\n",
    "    with torch.inference_mode():\n",
    "        # 1. Forward pass on test data\n",
    "        test_logits = circlemodel_v1(X_test).squeeze()\n",
    "        test_preds = torch.round(torch.sigmoid(test_logits))\n",
    "\n",
    "        # 2. Caculate loss/accuracy\n",
    "        test_loss = loss_fn(test_logits,y_test)\n",
    "        test_acc = accuracy_fn(y_true=y_test, y_preds=test_preds)\n",
    "\n",
    "        # Print out what's happening every 10 epochs\n",
    "        if epoch % 200 == 0:\n",
    "            print(f\"Epoch: {epoch} | Loss: {loss:.5f}, Accuracy: {acc:.2f}% | Test loss: {test_loss:.5f}, Test acc: {test_acc:.2f}%\")"
   ]
  },
  {
   "cell_type": "markdown",
   "id": "a48f13d6-44d3-4c77-a658-5ae541865e81",
   "metadata": {},
   "source": [
    "Wow, now the test accuracy is far better than before!"
   ]
  },
  {
   "cell_type": "code",
   "execution_count": 99,
   "id": "2768d119-81be-48ec-8208-67e0f11b759a",
   "metadata": {},
   "outputs": [],
   "source": [
    "# Get model predictions (logits → sigmoid → probabilities)\n",
    "with torch.no_grad():\n",
    "    point_preds = torch.sigmoid(circlemodel_v1(grid_tensor)).to(\"cpu\").numpy().reshape(xx.shape)"
   ]
  },
  {
   "cell_type": "code",
   "execution_count": 100,
   "id": "84d4d611-a072-4092-ba2a-6f8f69520d53",
   "metadata": {},
   "outputs": [
    {
     "data": {
      "image/png": "[encoded data removed]",
      "text/plain": [
       "<Figure size 500x500 with 1 Axes>"
      ]
     },
     "metadata": {},
     "output_type": "display_data"
    }
   ],
   "source": [
    "# Plot the decision regions\n",
    "fig, ax = plt.subplots(figsize=(5, 5))\n",
    "ax.contourf(xx, yy, point_preds, levels=[0, 0.5, 1], alpha=0.3, colors=[\"salmon\", \"royalblue\"])\n",
    "\n",
    "# Also plot the decision boundary line (at probability = 0.5)\n",
    "ax.contour(xx, yy, point_preds, levels=[0.5], colors=\"grey\", linewidths=1.5)\n",
    "\n",
    "ax.scatter(df_circles[\"X_1\"], df_circles[\"X_2\"], c=df_circles[\"label\"].map(lambda x: \"royalblue\" if x == 1 else \"salmon\"))\n",
    "ax.set_xlabel(r\"$X_1$\")\n",
    "ax.set_ylabel(r\"$X_2$\")\n",
    "plt.show()"
   ]
  },
  {
   "cell_type": "code",
   "execution_count": null,
   "id": "e38af71e-eb90-4abd-b632-cce2f80ea09c",
   "metadata": {},
   "outputs": [],
   "source": []
  }
 ],
 "metadata": {
  "kernelspec": {
   "display_name": "Python 3 (ipykernel)",
   "language": "python",
   "name": "python3"
  },
  "language_info": {
   "codemirror_mode": {
    "name": "ipython",
    "version": 3
   },
   "file_extension": ".py",
   "mimetype": "text/x-python",
   "name": "python",
   "nbconvert_exporter": "python",
   "pygments_lexer": "ipython3",
   "version": "3.11.9"
  }
 },
 "nbformat": 4,
 "nbformat_minor": 5
}
