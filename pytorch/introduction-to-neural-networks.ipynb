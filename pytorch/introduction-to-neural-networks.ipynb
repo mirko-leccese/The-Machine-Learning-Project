{
 "cells": [
  {
   "cell_type": "code",
   "execution_count": 27,
   "id": "a494255a-2901-4caa-8e54-3cfeff026fdf",
   "metadata": {},
   "outputs": [],
   "source": [
    "import torch\n",
    "from torch import nn \n",
    "import numpy as np\n",
    "import pandas as pd\n",
    "import matplotlib.pyplot as plt\n",
    "\n",
    "from pathlib import Path\n",
    "from sklearn.datasets import make_circles\n",
    "from sklearn.model_selection import train_test_split"
   ]
  },
  {
   "cell_type": "markdown",
   "id": "5da3a9c3-8644-457d-8a67-7cc252a03271",
   "metadata": {},
   "source": [
    "# Introduction to Neural Networks\n",
    "\n",
    "In machine learning, classification tasks are among the most common problems. A classification task consists of assigning a class to a given object. For example, deciding whether a photo shows a dog or a cat, determining whether a biopsy image is cancerous or not, or assigning a category to a web article are all examples of classification problems.  \n",
    "\n",
    "In general, we can distinguish three main types of classification problems:\n",
    "\n",
    "1. **Binary classification**: here, the target variable can take only one of two possible values (yes/no, true/false, dog/cat, etc.). These are the simplest classification problems, but also among the most frequent in real-world applications.  \n",
    "2. **Multi-class classification**: in this case, the target variable can take more than two possible values. For instance, in sentiment analysis, a tweet might be classified as positive, negative, or neutral.  \n",
    "3. **Multi-label classification**: here, the target can be assigned multiple labels simultaneously. For example, when classifying the themes of a web article, we might assign more than one label, such as *science*, *mathematics*, and so on.  \n",
    "\n",
    "Classification problems can be solved with traditional machine learning algorithms, such as *Decision Trees*, *Logistic Regression*, or *Naive Bayes*. In this notebook, however, we will focus on more advanced approaches: *Neural Networks*. We will build a simple neural network for classification from scratch using PyTorch, while also briefly discussing the mathematics behind the architecture.  \n",
    "\n",
    "In particular, we will cover:  \n",
    "- The typical architecture of a neural network;  \n",
    "- How to build a neural network model with PyTorch from scratch, including the loss function, the optimizer, and the training loop;  \n",
    "- How to train the model and make predictions on unseen data;  \n",
    "- How to improve the model from an architectural perspective.  \n"
   ]
  },
  {
   "cell_type": "markdown",
   "id": "8ec062f3-fa76-4770-9179-0605fd63d123",
   "metadata": {},
   "source": [
    "## Make classification data\n",
    "\n",
    "First of all, we need a classification problem! Let's stick to example shown in the *Zero to Mastery* course, i.e we use the `make_circles` function from `sklearn` to generate two circles of different radius:"
   ]
  },
  {
   "cell_type": "code",
   "execution_count": 3,
   "id": "c4d51574-eda2-4585-a7d1-e934208cc05f",
   "metadata": {},
   "outputs": [],
   "source": [
    "# Create circles, \n",
    "X, y = make_circles(1000, noise = 0.03, random_state = 42)"
   ]
  },
  {
   "cell_type": "code",
   "execution_count": 6,
   "id": "bffa09de-589b-460e-957b-8b1831c6cf28",
   "metadata": {},
   "outputs": [
    {
     "data": {
      "text/plain": [
       "array([[ 0.75424625,  0.23148074],\n",
       "       [-0.75615888,  0.15325888],\n",
       "       [-0.81539193,  0.17328203],\n",
       "       [-0.39373073,  0.69288277],\n",
       "       [ 0.44220765, -0.89672343]])"
      ]
     },
     "execution_count": 6,
     "metadata": {},
     "output_type": "execute_result"
    }
   ],
   "source": [
    "X[:5]"
   ]
  },
  {
   "cell_type": "code",
   "execution_count": 8,
   "id": "f04493d2-dd28-4dd6-ae10-e999603b464d",
   "metadata": {},
   "outputs": [
    {
     "data": {
      "text/plain": [
       "(1000, 2)"
      ]
     },
     "execution_count": 8,
     "metadata": {},
     "output_type": "execute_result"
    }
   ],
   "source": [
    "X.shape"
   ]
  },
  {
   "cell_type": "code",
   "execution_count": 7,
   "id": "19e07514-2aee-4c02-9a8f-caecd7ea3193",
   "metadata": {},
   "outputs": [
    {
     "data": {
      "text/plain": [
       "array([1, 1, 1, 1, 0])"
      ]
     },
     "execution_count": 7,
     "metadata": {},
     "output_type": "execute_result"
    }
   ],
   "source": [
    "y[:5]"
   ]
  },
  {
   "cell_type": "code",
   "execution_count": 9,
   "id": "b10adc9b-4b16-4748-9d1a-16190ff36897",
   "metadata": {},
   "outputs": [
    {
     "data": {
      "text/plain": [
       "(1000,)"
      ]
     },
     "execution_count": 9,
     "metadata": {},
     "output_type": "execute_result"
    }
   ],
   "source": [
    "y.shape"
   ]
  },
  {
   "cell_type": "markdown",
   "id": "39b3311f-59ff-4f6c-9d7e-387b4b5cecb9",
   "metadata": {},
   "source": [
    "We see that $X$ is an array of shape (1000, 2), i.e. we have 1000 points with two coordinates, say $X_1, X_2$. In contrast, $y$ is an array of shape (1000,1) with 0, 1 values. Let's make a pandas dataframe from these two arrays and plot the corresponding circle."
   ]
  },
  {
   "cell_type": "code",
   "execution_count": 11,
   "id": "f1cae367-ab0a-4fce-9e94-6ab4b890bb8c",
   "metadata": {},
   "outputs": [],
   "source": [
    "# Create a pandas dataframe\n",
    "df_circles = pd.DataFrame(\n",
    "    {\n",
    "        \"X_1\": X[:,0], \n",
    "        \"X_2\": X[:,1],\n",
    "        \"label\": y\n",
    "    }\n",
    ")"
   ]
  },
  {
   "cell_type": "code",
   "execution_count": 12,
   "id": "ce8d6f40-0f5d-4190-b563-6b7e6f2cdf54",
   "metadata": {},
   "outputs": [
    {
     "data": {
      "text/html": [
       "<div>\n",
       "<style scoped>\n",
       "    .dataframe tbody tr th:only-of-type {\n",
       "        vertical-align: middle;\n",
       "    }\n",
       "\n",
       "    .dataframe tbody tr th {\n",
       "        vertical-align: top;\n",
       "    }\n",
       "\n",
       "    .dataframe thead th {\n",
       "        text-align: right;\n",
       "    }\n",
       "</style>\n",
       "<table border=\"1\" class=\"dataframe\">\n",
       "  <thead>\n",
       "    <tr style=\"text-align: right;\">\n",
       "      <th></th>\n",
       "      <th>X_1</th>\n",
       "      <th>X_2</th>\n",
       "      <th>label</th>\n",
       "    </tr>\n",
       "  </thead>\n",
       "  <tbody>\n",
       "    <tr>\n",
       "      <th>0</th>\n",
       "      <td>0.754246</td>\n",
       "      <td>0.231481</td>\n",
       "      <td>1</td>\n",
       "    </tr>\n",
       "    <tr>\n",
       "      <th>1</th>\n",
       "      <td>-0.756159</td>\n",
       "      <td>0.153259</td>\n",
       "      <td>1</td>\n",
       "    </tr>\n",
       "    <tr>\n",
       "      <th>2</th>\n",
       "      <td>-0.815392</td>\n",
       "      <td>0.173282</td>\n",
       "      <td>1</td>\n",
       "    </tr>\n",
       "    <tr>\n",
       "      <th>3</th>\n",
       "      <td>-0.393731</td>\n",
       "      <td>0.692883</td>\n",
       "      <td>1</td>\n",
       "    </tr>\n",
       "    <tr>\n",
       "      <th>4</th>\n",
       "      <td>0.442208</td>\n",
       "      <td>-0.896723</td>\n",
       "      <td>0</td>\n",
       "    </tr>\n",
       "    <tr>\n",
       "      <th>...</th>\n",
       "      <td>...</td>\n",
       "      <td>...</td>\n",
       "      <td>...</td>\n",
       "    </tr>\n",
       "    <tr>\n",
       "      <th>995</th>\n",
       "      <td>0.244054</td>\n",
       "      <td>0.944125</td>\n",
       "      <td>0</td>\n",
       "    </tr>\n",
       "    <tr>\n",
       "      <th>996</th>\n",
       "      <td>-0.978655</td>\n",
       "      <td>-0.272373</td>\n",
       "      <td>0</td>\n",
       "    </tr>\n",
       "    <tr>\n",
       "      <th>997</th>\n",
       "      <td>-0.136900</td>\n",
       "      <td>-0.810012</td>\n",
       "      <td>1</td>\n",
       "    </tr>\n",
       "    <tr>\n",
       "      <th>998</th>\n",
       "      <td>0.670362</td>\n",
       "      <td>-0.767502</td>\n",
       "      <td>0</td>\n",
       "    </tr>\n",
       "    <tr>\n",
       "      <th>999</th>\n",
       "      <td>0.281057</td>\n",
       "      <td>0.963824</td>\n",
       "      <td>0</td>\n",
       "    </tr>\n",
       "  </tbody>\n",
       "</table>\n",
       "<p>1000 rows × 3 columns</p>\n",
       "</div>"
      ],
      "text/plain": [
       "          X_1       X_2  label\n",
       "0    0.754246  0.231481      1\n",
       "1   -0.756159  0.153259      1\n",
       "2   -0.815392  0.173282      1\n",
       "3   -0.393731  0.692883      1\n",
       "4    0.442208 -0.896723      0\n",
       "..        ...       ...    ...\n",
       "995  0.244054  0.944125      0\n",
       "996 -0.978655 -0.272373      0\n",
       "997 -0.136900 -0.810012      1\n",
       "998  0.670362 -0.767502      0\n",
       "999  0.281057  0.963824      0\n",
       "\n",
       "[1000 rows x 3 columns]"
      ]
     },
     "execution_count": 12,
     "metadata": {},
     "output_type": "execute_result"
    }
   ],
   "source": [
    "df_circles"
   ]
  },
  {
   "cell_type": "code",
   "execution_count": 21,
   "id": "1ba4ab42-5525-4655-913c-9fb792eca41b",
   "metadata": {},
   "outputs": [
    {
     "data": {
      "text/plain": [
       "Text(0, 0.5, '$X_2$')"
      ]
     },
     "execution_count": 21,
     "metadata": {},
     "output_type": "execute_result"
    },
    {
     "data": {
      "image/png": "[encoded data removed]",
      "text/plain": [
       "<Figure size 500x500 with 1 Axes>"
      ]
     },
     "metadata": {},
     "output_type": "display_data"
    }
   ],
   "source": [
    "# Plotting the circles:\n",
    "fig, ax = plt.subplots(figsize=(5, 5))\n",
    "\n",
    "ax.scatter(df_circles[\"X_1\"], df_circles[\"X_2\"], c=df_circles[\"label\"].map(lambda x: \"royalblue\" if x == 1 else \"salmon\"))\n",
    "ax.set_xlabel(r\"$X_1$\")\n",
    "ax.set_ylabel(r\"$X_2$\")"
   ]
  },
  {
   "cell_type": "code",
   "execution_count": 22,
   "id": "74f3edcb-1428-445e-a94f-0ab5f64f6d2d",
   "metadata": {},
   "outputs": [
    {
     "data": {
      "text/plain": [
       "label\n",
       "1    500\n",
       "0    500\n",
       "Name: count, dtype: int64"
      ]
     },
     "execution_count": 22,
     "metadata": {},
     "output_type": "execute_result"
    }
   ],
   "source": [
    "# Let's check different labels\n",
    "df_circles[\"label\"].value_counts()"
   ]
  },
  {
   "cell_type": "markdown",
   "id": "f5f49cf1-7488-4e04-9273-3bc79669e64d",
   "metadata": {},
   "source": [
    "It looks like we have our classification problem set up: given a pair of coordinates $X_1$ and $X_2$, we need to classify the corresponding point into \"red\" or \"blue\", i.e. understanding whether it belongs to the inner or the outer circle. Of course, this is just a **toy dataset**, a dataset that we are using just for testing our model architecture and to make practice. "
   ]
  },
  {
   "cell_type": "markdown",
   "id": "6eff6b52-795a-4e89-bdd8-6f6f5398cd03",
   "metadata": {},
   "source": [
    "### Input and Output Layers\n",
    "\n",
    "But what is a neural network?  \n",
    "\n",
    "Informally, we can think of a neural network as a **black box**: it takes some input values and produces some output values. All the complexity of the network lies inside this box, which is nothing more than a sequence of mathematical operations applied to the input.  \n",
    "\n",
    "The reason it is called *neural* is that its structure was inspired—at least loosely—by how the human brain works. The box is organized into **layers**, often referred to as *hidden layers*. Each layer is made up of units called **neurons**, and each neuron performs a simple mathematical operation on its inputs. By stacking and connecting many neurons across multiple layers, the network can transform raw input data step by step until it produces an output.  \n",
    "\n",
    "In this sense, a neural network resembles the propagation of a signal in the brain:  \n",
    "- an **input signal** (the input values) arrives,  \n",
    "- the **neurons** process this signal through a series of transformations,  \n",
    "- an **output signal** is produced (in our case, the predicted target variable).  \n",
    "\n",
    "Below, you can see a diagram that visually represents the structure of a neural network.  \n",
    "\n",
    "![NN-Architecture](../images/nn-architecture.png)\n",
    "---\n",
    "\n",
    "Before we dive into the internal structure (the hidden layers), we first need to understand how to define and represent the **input** and **output layers** in PyTorch.  \n",
    "\n",
    "A key point to grasp is the **shape** of these layers. Since PyTorch models are built on tensors, most of the common errors you will face come from mismatched tensor shapes during operations. This is, by far, the most frequent beginner mistake—and you will almost certainly run into it yourself. However, by constantly paying attention to the shape of your data and familiarizing yourself with it, you will gradually reduce these errors and become more confident in debugging them.\n"
   ]
  },
  {
   "cell_type": "code",
   "execution_count": 23,
   "id": "668c80ad-9432-428a-9990-0519a652cad6",
   "metadata": {},
   "outputs": [
    {
     "name": "stdout",
     "output_type": "stream",
     "text": [
      "Values for one sample of X: [0.75424625 0.23148074] and the same for y: 1\n",
      "Shapes for one sample of X: (2,) and the same for y: ()\n"
     ]
    }
   ],
   "source": [
    "# View the first example of features and labels\n",
    "X_sample = X[0]\n",
    "y_sample = y[0]\n",
    "print(f\"Values for one sample of X: {X_sample} and the same for y: {y_sample}\")\n",
    "print(f\"Shapes for one sample of X: {X_sample.shape} and the same for y: {y_sample.shape}\")"
   ]
  },
  {
   "cell_type": "markdown",
   "id": "5ca8d38a-9251-47c0-a8d3-182022107b7f",
   "metadata": {},
   "source": [
    "We see that the shape of a single example of features is $2$, meaning that we have two feature values per record. Hence, a tensor representing the input values will have the second dimension equal to 2. On the other hand, one sample of $y$ has \"0 dimensions\", meaning that it's a **scalar value**.\n",
    "\n",
    "Now we need to:\n",
    "1. Turn out data into *tensors*;\n",
    "2. Split our data into training and test sets"
   ]
  },
  {
   "cell_type": "code",
   "execution_count": 24,
   "id": "846293bd-9697-443d-8301-69cb02c43592",
   "metadata": {},
   "outputs": [],
   "source": [
    "# Turning data into tensors\n",
    "X = torch.from_numpy(X).type(torch.float)\n",
    "y = torch.from_numpy(y).type(torch.float)"
   ]
  },
  {
   "cell_type": "code",
   "execution_count": 25,
   "id": "fb09f738-5148-4937-94e5-146f4a450b3b",
   "metadata": {},
   "outputs": [
    {
     "data": {
      "text/plain": [
       "(tensor([[ 0.7542,  0.2315],\n",
       "         [-0.7562,  0.1533],\n",
       "         [-0.8154,  0.1733],\n",
       "         [-0.3937,  0.6929],\n",
       "         [ 0.4422, -0.8967]]),\n",
       " tensor([1., 1., 1., 1., 0.]))"
      ]
     },
     "execution_count": 25,
     "metadata": {},
     "output_type": "execute_result"
    }
   ],
   "source": [
    "# View the first five samples\n",
    "X[:5], y[:5]"
   ]
  },
  {
   "cell_type": "code",
   "execution_count": 28,
   "id": "58fa52ce-9043-46f9-8ec6-7ad81dba4eb4",
   "metadata": {},
   "outputs": [],
   "source": [
    "# Let's use the train_test_split() from sklearn\n",
    "X_train, X_test, y_train, y_test = train_test_split(\n",
    "    X, \n",
    "    y,\n",
    "    test_size=0.2, # 20% test, 80% train\n",
    "    random_state=42\n",
    ") # make the random split reproducible"
   ]
  },
  {
   "cell_type": "code",
   "execution_count": 30,
   "id": "d64aea36-12f0-43f5-8f2d-14037faee976",
   "metadata": {},
   "outputs": [
    {
     "data": {
      "text/plain": [
       "(800, 200, 800, 200)"
      ]
     },
     "execution_count": 30,
     "metadata": {},
     "output_type": "execute_result"
    }
   ],
   "source": [
    "# Checking dimensions\n",
    "len(X_train), len(X_test), len(y_train), len(y_test)"
   ]
  },
  {
   "cell_type": "code",
   "execution_count": null,
   "id": "592de3d7-d5eb-48a1-912b-83bbce7bbb38",
   "metadata": {},
   "outputs": [],
   "source": []
  }
 ],
 "metadata": {
  "kernelspec": {
   "display_name": "Python 3 (ipykernel)",
   "language": "python",
   "name": "python3"
  },
  "language_info": {
   "codemirror_mode": {
    "name": "ipython",
    "version": 3
   },
   "file_extension": ".py",
   "mimetype": "text/x-python",
   "name": "python",
   "nbconvert_exporter": "python",
   "pygments_lexer": "ipython3",
   "version": "3.11.9"
  }
 },
 "nbformat": 4,
 "nbformat_minor": 5
}
