{
 "cells": [
  {
   "cell_type": "code",
   "execution_count": 136,
   "id": "1698b9a3-32b5-4693-9cfc-6c73f3439947",
   "metadata": {},
   "outputs": [],
   "source": [
    "import torch\n",
    "from torch import nn \n",
    "import numpy as np\n",
    "import matplotlib.pyplot as plt"
   ]
  },
  {
   "cell_type": "markdown",
   "id": "e197dcb3-6706-4475-879a-39d579a5df61",
   "metadata": {},
   "source": [
    "# From data to model deployment: the PyTorch workflow\n",
    "\n",
    "In the first notebook, `introduction-to-tensors`, we discussed the concept of tensors and explored the main methods and functions used to manipulate them. We can now move on to how tensors—and the PyTorch library more broadly—can be used to define, train, and evaluate machine learning models. We'll start with the basics, using the simplest machine learning model: linear regression. The goal here is not to explain linear regression itself in detail, but rather to demonstrate how a typical machine learning **workflow** can be implemented using PyTorch—from the initial train/test split to model deployment."
   ]
  },
  {
   "cell_type": "code",
   "execution_count": 137,
   "id": "31285241-f07c-48c8-ac40-e7d541f0b435",
   "metadata": {},
   "outputs": [],
   "source": [
    "# define parameter\n",
    "m = .5\n",
    "b = .3"
   ]
  },
  {
   "cell_type": "code",
   "execution_count": 138,
   "id": "fd6a6bb8-703b-47c3-890b-b5e57153756a",
   "metadata": {},
   "outputs": [],
   "source": [
    "# Synthetically creating data\n",
    "a = 0\n",
    "b = 1 \n",
    "step = 0.01\n",
    "\n",
    "X = torch.arange(a, b, step).unsqueeze(dim=1)"
   ]
  },
  {
   "cell_type": "code",
   "execution_count": 139,
   "id": "b9bd6942-e56f-4999-b7f3-d377d844309f",
   "metadata": {},
   "outputs": [
    {
     "data": {
      "text/plain": [
       "torch.Size([100, 1])"
      ]
     },
     "execution_count": 139,
     "metadata": {},
     "output_type": "execute_result"
    }
   ],
   "source": [
    "X.shape"
   ]
  },
  {
   "cell_type": "markdown",
   "id": "2a5eae80-1091-4168-b0a6-6c3f787b894a",
   "metadata": {},
   "source": [
    "We defined the `X` tensor, storing the X values of our linear function. As for the y values:"
   ]
  },
  {
   "cell_type": "code",
   "execution_count": 140,
   "id": "8dbe95f7-e288-4636-a8f5-b432bca71495",
   "metadata": {},
   "outputs": [],
   "source": [
    "# The linear function\n",
    "y = m * X + b"
   ]
  },
  {
   "cell_type": "markdown",
   "id": "412b1f8d-ab8b-4867-b69f-ea1de0e95bc2",
   "metadata": {},
   "source": [
    "`X` and `y` represent the initial data: `X` are the feature values, while `y` is the target variable. Our goal is to learn a regression model, i.e learn the parameters `m` and `b` which define the relationship between features and labels (y). "
   ]
  },
  {
   "cell_type": "code",
   "execution_count": 141,
   "id": "1aaff92e-2dca-4dcc-9576-f2a67f27accd",
   "metadata": {},
   "outputs": [
    {
     "data": {
      "image/png": "[encoded data removed]",
      "text/plain": [
       "<Figure size 800x400 with 1 Axes>"
      ]
     },
     "metadata": {},
     "output_type": "display_data"
    }
   ],
   "source": [
    "fig, ax = plt.subplots(figsize=(8,4))\n",
    "\n",
    "ax.plot(X.numpy(), y.numpy(), linestyle=\"--\", color=\"darkorange\")\n",
    "ax.set_xlabel(\"X\")\n",
    "ax.set_ylabel(\"y\")\n",
    "ax.grid(True, linestyle=\"--\", c=\"lightgray\")"
   ]
  },
  {
   "cell_type": "markdown",
   "id": "bd7010e9-1238-43a4-80a4-e27b07708c65",
   "metadata": {},
   "source": [
    "## Data Preparation"
   ]
  },
  {
   "cell_type": "markdown",
   "id": "9bccc529-9749-4b5f-9ed8-77b1230cac3c",
   "metadata": {},
   "source": [
    "Before building a model, we need to split our data into three datasets:\n",
    "\n",
    "- **Training set**: This dataset is used to train the model, i.e., to learn the model parameters. Typically, 60–80% of the original dataset is used for training.\n",
    "- **Validation set**: This dataset is used to tune the model, i.e., to adjust the hyperparameters that the model depends on in order to achieve the best performance according to a chosen metric (e.g., accuracy). The validation set is not always used, but when it is, it usually represents around 10–20% of the original dataset.\n",
    "- **Test set**: This dataset is used to evaluate the model after the training phase. It typically accounts for 10–20% of the original dataset."
   ]
  },
  {
   "cell_type": "code",
   "execution_count": 142,
   "id": "6ea69446-51d7-4094-85cd-ada67657b826",
   "metadata": {},
   "outputs": [],
   "source": [
    "# A function to split the dataset \n",
    "def line_train_test_split(X, y, p: float = 0.80):\n",
    "\n",
    "    # Define the train split\n",
    "    train_split = int(p * len(X))\n",
    "\n",
    "    X_train, y_train = X[:train_split], y[:train_split]\n",
    "    X_test, y_test = X[train_split:], y[train_split:]\n",
    "\n",
    "    return X_train, y_train, X_test, y_test"
   ]
  },
  {
   "cell_type": "code",
   "execution_count": 143,
   "id": "1c14b367-78d7-4123-888b-3f08580236ef",
   "metadata": {},
   "outputs": [],
   "source": [
    "X_train, y_train, X_test, y_test = line_train_test_split(X, y)"
   ]
  },
  {
   "cell_type": "markdown",
   "id": "20f87742-9176-43d6-9939-53ebbe650acd",
   "metadata": {},
   "source": [
    "## A Linear Regression model in PyTorch\n",
    "\n",
    "Let’s now build a linear regression model to learn the relationship between `X` and `y`. While we could use the linear regression implementation from scikit-learn, the goal here is to demonstrate how a similar model can be built using PyTorch. We'll first write out the complete code and then go through each part in detail."
   ]
  },
  {
   "cell_type": "code",
   "execution_count": 144,
   "id": "fca8d1f8-dd43-4ff1-ae48-a3bda0d855ff",
   "metadata": {},
   "outputs": [],
   "source": [
    "class LinearRegressionModel(nn.Module):\n",
    "    def __init__(self):\n",
    "        super().__init__()\n",
    "        self.weights = nn.Parameter(torch.randn(1, dtype=torch.float), requires_grad = True)\n",
    "        self.bias = nn.Parameter(torch.randn(1, dtype=torch.float), requires_grad = True)\n",
    "\n",
    "    # Forward defines the computation in the model\n",
    "    def forward(self, x: torch.Tensor) -> torch.Tensor:\n",
    "        # Linear regression formula\n",
    "        return self.weights * x + self.bias"
   ]
  },
  {
   "cell_type": "markdown",
   "id": "22582716-c3af-4c5d-9a4d-c1ea27673168",
   "metadata": {},
   "source": [
    "First of all, we defined a class called `LinearRegressionModel`, which inherits from `nn.Module`. In PyTorch, almost everything is based on `nn.Module`. The nn module (short for neural networks) contains all the building blocks needed for deep learning models. `Module` is the base class for constructing any neural network. When creating a custom model, we define a class that extends `Module`. **<span style=\"color: red\">This base class requires the implementation of a `forward` method, which specifies the computation to be performed on the input data</span>**.\n",
    "\n",
    "The `nn.Parameter` class is used to store tensors that should be treated as learnable parameters within a model. If `requires_grad` is set to True, PyTorch will automatically compute gradients for these parameters during backpropagation—one of the major advantages of using PyTorch tensors."
   ]
  },
  {
   "cell_type": "code",
   "execution_count": 145,
   "id": "99187084-4458-4ee1-8368-f99ded750072",
   "metadata": {},
   "outputs": [
    {
     "data": {
      "text/plain": [
       "<torch._C.Generator at 0x110aa09d0>"
      ]
     },
     "execution_count": 145,
     "metadata": {},
     "output_type": "execute_result"
    }
   ],
   "source": [
    "# Check a PyTorch model\n",
    "torch.manual_seed(42)"
   ]
  },
  {
   "cell_type": "code",
   "execution_count": 146,
   "id": "c404c5a4-3c92-4970-b148-4da059fc1753",
   "metadata": {},
   "outputs": [],
   "source": [
    "# Create an instance of the model (this is a subclass of nn.Module that contains nn.Parameter(s))\n",
    "lr_model = LinearRegressionModel()"
   ]
  },
  {
   "cell_type": "code",
   "execution_count": 147,
   "id": "8f2248d7-caf1-4efc-baac-0ec84ac78f08",
   "metadata": {},
   "outputs": [
    {
     "data": {
      "text/plain": [
       "[Parameter containing:\n",
       " tensor([0.3367], requires_grad=True),\n",
       " Parameter containing:\n",
       " tensor([0.1288], requires_grad=True)]"
      ]
     },
     "execution_count": 147,
     "metadata": {},
     "output_type": "execute_result"
    }
   ],
   "source": [
    "# Check the nn.Parameter(s) within the nn.Module subclass we created\n",
    "list(lr_model.parameters())"
   ]
  },
  {
   "cell_type": "markdown",
   "id": "43ac7cee-45e1-48ae-a847-c174dcd628e8",
   "metadata": {},
   "source": [
    "We can also get the state of the model, i.e. what the model \"contains\", using:"
   ]
  },
  {
   "cell_type": "code",
   "execution_count": 148,
   "id": "9ac1c8b2-6474-473a-a212-18326b8c5232",
   "metadata": {
    "scrolled": true
   },
   "outputs": [
    {
     "data": {
      "text/plain": [
       "OrderedDict([('weights', tensor([0.3367])), ('bias', tensor([0.1288]))])"
      ]
     },
     "execution_count": 148,
     "metadata": {},
     "output_type": "execute_result"
    }
   ],
   "source": [
    "lr_model.state_dict()"
   ]
  },
  {
   "cell_type": "markdown",
   "id": "938c5039-2583-4447-9bbe-2ee91f65b7ed",
   "metadata": {},
   "source": [
    "`weights` and `bias` have been initialized as random tensors. "
   ]
  },
  {
   "cell_type": "markdown",
   "id": "9939981d-604e-492a-b47a-d1066706f8ae",
   "metadata": {},
   "source": [
    "### Making a prediction\n",
    "\n",
    "As mentioned earlier, when we pass data to the model, it is processed through the `forward` method. To obtain the predicted values (i.e., perform inference), we need to set the model to inference mode. This is done using `torch.inference_mode()`, which is a Python *context manager*:"
   ]
  },
  {
   "cell_type": "code",
   "execution_count": 149,
   "id": "a3fe45ba-402e-420f-b967-21bd25166a53",
   "metadata": {},
   "outputs": [],
   "source": [
    "with torch.inference_mode():\n",
    "    y_preds = lr_model(X_train)"
   ]
  },
  {
   "cell_type": "code",
   "execution_count": 150,
   "id": "482a1684-7d95-4e1d-91e6-2fae2c23271c",
   "metadata": {},
   "outputs": [
    {
     "data": {
      "text/plain": [
       "tensor([0.1288])"
      ]
     },
     "execution_count": 150,
     "metadata": {},
     "output_type": "execute_result"
    }
   ],
   "source": [
    "y_preds[0]"
   ]
  },
  {
   "cell_type": "markdown",
   "id": "6a67e6e9-6170-44a6-911c-e83cf3c7441f",
   "metadata": {},
   "source": [
    "Naturally, the values produced at this stage will be quite poor and far from the true target values, since we haven’t optimized the model parameters yet—we’re simply making predictions based on randomly initialized parameters. In fact:"
   ]
  },
  {
   "cell_type": "code",
   "execution_count": 151,
   "id": "06eb6c1a-a42f-4d95-b870-b2f2cf1d7bac",
   "metadata": {},
   "outputs": [
    {
     "data": {
      "text/plain": [
       "tensor([0.1288], grad_fn=<AddBackward0>)"
      ]
     },
     "execution_count": 151,
     "metadata": {},
     "output_type": "execute_result"
    }
   ],
   "source": [
    "# The predicted value is simply the one obtained by passing the values in the forward formula \n",
    "X_train[0]*lr_model.weights + lr_model.bias"
   ]
  },
  {
   "cell_type": "markdown",
   "id": "b7821648-4d6d-4e08-abe9-5df8e697b827",
   "metadata": {},
   "source": [
    "Let's plot the test and predicted values for comparison:"
   ]
  },
  {
   "cell_type": "code",
   "execution_count": 152,
   "id": "44530ae4-9d2f-4fe0-a740-262b86c476cc",
   "metadata": {},
   "outputs": [],
   "source": [
    "with torch.inference_mode():\n",
    "    y_predictions = lr_model(X_test)"
   ]
  },
  {
   "cell_type": "code",
   "execution_count": 153,
   "id": "d9c9124a-f347-4a3e-a528-f6ea12e51bba",
   "metadata": {},
   "outputs": [
    {
     "data": {
      "image/png": "[encoded data removed]",
      "text/plain": [
       "<Figure size 800x400 with 1 Axes>"
      ]
     },
     "metadata": {},
     "output_type": "display_data"
    }
   ],
   "source": [
    "fig, ax = plt.subplots(figsize=(8,4))\n",
    "\n",
    "ax.plot(X_train.numpy(), y_train.numpy(), linestyle=\"--\", color=\"royalblue\", label=\"Training\")\n",
    "ax.plot(X_test.numpy(), y_test.numpy(), linestyle=\"--\", color=\"lightgrey\", label=\"Test\")\n",
    "ax.plot(X_test.numpy(), y_predictions.numpy(), linestyle=\"--\", color=\"red\", label=\"Prediction\")\n",
    "ax.set_xlabel(\"X\")\n",
    "ax.set_ylabel(\"y\")\n",
    "ax.grid(True, linestyle=\"--\", c=\"lightgray\")"
   ]
  },
  {
   "cell_type": "markdown",
   "id": "a9735361-84d4-402b-a2c8-ed88b499f24f",
   "metadata": {},
   "source": [
    "Of course, as expected, our predictions are very bad, because so far we have just initialized at random the learning parameters. We need to update these parameters so that they can better represent the data. In other words, we need to *train* our model."
   ]
  },
  {
   "cell_type": "markdown",
   "id": "9cd738ba-be8c-462b-8bc1-4cc3b298b2e2",
   "metadata": {},
   "source": [
    "### Train the model\n",
    "\n",
    "To train a model in PyTorch, we need to introduce two additional components:\n",
    "\n",
    "- **Loss function**: a function that measures how far our model’s predictions are from the true values, i.e., how much the predicted outputs differ from the targets.  \n",
    "- **Optimizer**: the algorithm that updates the model’s internal parameters in order to minimize the loss.\n",
    "\n",
    "PyTorch provides built-in implementations of both loss functions and optimizers. For loss functions, the most commonly used are **Mean Absolute Error (MAE)** for regression and **Binary Cross-Entropy (BCE)** for classification problems. Since we are training a linear regression model, we will use **MAE**, which is defined as:\n",
    "\n",
    "$$\n",
    "MAE = \\frac{1}{N} \\sum_{i=1}^N |y_p^{(i)} - y_t^{(i)}|\n",
    "$$\n",
    "\n",
    "where $y_p$ are the predicted values and $y_t$ are the true values.  \n",
    "\n",
    "As for optimizers, two of the most widely used are **Stochastic Gradient Descent (SGD)** and the **Adam optimizer**. At the end of this notebook, we will cover the mathematical details of these optimization methods. For now, let’s see how to apply them in PyTorch to train our linear regression model.\n"
   ]
  },
  {
   "cell_type": "code",
   "execution_count": 154,
   "id": "71df90c4-3040-4682-9f22-61306abcf2b2",
   "metadata": {},
   "outputs": [],
   "source": [
    "# L1Loss is MAE in PyTorch\n",
    "lr_loss = nn.L1Loss()"
   ]
  },
  {
   "cell_type": "code",
   "execution_count": 155,
   "id": "948f27e0-2212-4fc8-9f9a-c3e6233f9498",
   "metadata": {},
   "outputs": [],
   "source": [
    "# Create the optimizer\n",
    "lr_optimizer = torch.optim.SGD(\n",
    "    params = lr_model.parameters(),\n",
    "    lr=0.01\n",
    ")"
   ]
  },
  {
   "cell_type": "markdown",
   "id": "be526b99-ded8-43cd-ba0c-74b490b4bfc6",
   "metadata": {},
   "source": [
    "We are using the *Stochastic Gradient Descent* optimizer, which is defined in PyTorch with `torch.optim.SGD()`. This built-in function takes two main arguments:\n",
    "\n",
    "1. `params`: the model parameters to optimize;  \n",
    "2. `lr`: the **learning rate**, which controls the step size of each update. Higher values correspond to larger updates, while lower values correspond to smaller updates.  \n",
    "\n",
    "If the learning rate is too high, the optimizer may fail to converge; if it is too low, the training process can become very slow. The learning rate is a **hyperparameter**, meaning it must be chosen and set manually by the machine learning engineer."
   ]
  },
  {
   "cell_type": "markdown",
   "id": "81d58631-51bb-4d98-8e59-56e877e399f9",
   "metadata": {},
   "source": [
    "Below, the full code to train and test the model. Let's run it and then discuss it step-by-step:"
   ]
  },
  {
   "cell_type": "code",
   "execution_count": 156,
   "id": "fcb72a37-645d-45d7-a92f-734ab59351c3",
   "metadata": {},
   "outputs": [],
   "source": [
    "# Set the number of epochs: how many times the model will pass over the training data\n",
    "epochs = 100"
   ]
  },
  {
   "cell_type": "code",
   "execution_count": 157,
   "id": "35361943-080f-40ec-8093-2642c4797172",
   "metadata": {},
   "outputs": [],
   "source": [
    "# Create empty loss lists to track values\n",
    "train_loss_values = []\n",
    "test_loss_values = []\n",
    "epoch_count = []"
   ]
  },
  {
   "cell_type": "code",
   "execution_count": 158,
   "id": "b1dcdc93-51fd-4e3f-9314-101cf9879c7d",
   "metadata": {},
   "outputs": [
    {
     "name": "stdout",
     "output_type": "stream",
     "text": [
      "Epoch: 0 | MAE Train Loss: 0.9356979131698608 | MAE Test Loss: 1.0038174390792847 \n",
      "Epoch: 10 | MAE Train Loss: 0.8200953602790833 | MAE Test Loss: 0.8684649467468262 \n",
      "Epoch: 20 | MAE Train Loss: 0.7044928669929504 | MAE Test Loss: 0.7331124544143677 \n",
      "Epoch: 30 | MAE Train Loss: 0.588890552520752 | MAE Test Loss: 0.597760021686554 \n",
      "Epoch: 40 | MAE Train Loss: 0.47328799962997437 | MAE Test Loss: 0.4624076783657074 \n",
      "Epoch: 50 | MAE Train Loss: 0.3576856553554535 | MAE Test Loss: 0.3270552456378937 \n",
      "Epoch: 60 | MAE Train Loss: 0.24208326637744904 | MAE Test Loss: 0.19170284271240234 \n",
      "Epoch: 70 | MAE Train Loss: 0.1264808475971222 | MAE Test Loss: 0.05635044723749161 \n",
      "Epoch: 80 | MAE Train Loss: 0.03413804620504379 | MAE Test Loss: 0.05251990631222725 \n",
      "Epoch: 90 | MAE Train Loss: 0.027357865124940872 | MAE Test Loss: 0.06144831329584122 \n"
     ]
    }
   ],
   "source": [
    "# TRAINING LOOP\n",
    "torch.manual_seed(42)\n",
    "\n",
    "for epoch in range(epochs):\n",
    "    ### TRAINING\n",
    "\n",
    "    # This command put the model in training mode\n",
    "    lr_model.train()\n",
    "\n",
    "    # 1. Pass the training data through the forward() method of the model\n",
    "    y_pred = lr_model(X_train)\n",
    "\n",
    "    # 2. Calculate the loss between predicted and true values\n",
    "    loss = lr_loss(y_pred, y_train)\n",
    "\n",
    "    # 3. Zero grad of the optimizer --> we zero the gradients since they accumalate at each epochs\n",
    "    lr_optimizer.zero_grad()\n",
    "\n",
    "    # 4. Loss backward\n",
    "    loss.backward()\n",
    "\n",
    "    # 5. Progress the optimizer\n",
    "    lr_optimizer.step()\n",
    "\n",
    "    ### TESTING\n",
    "    # Put the model in evaluation mode\n",
    "    lr_model.eval()\n",
    "\n",
    "    # Make the inference\n",
    "    with torch.inference_mode():\n",
    "        # 1. Forward pass on test data\n",
    "        test_pred = lr_model(X_test)\n",
    "\n",
    "        # 2. Caculate loss on test data\n",
    "        # predictions come in torch.float datatype, so comparisons need to be done with tensors of the same type\n",
    "        test_loss = lr_loss(test_pred, y_test.type(torch.float)) \n",
    "\n",
    "        # Print out what's happening \n",
    "        if epoch % 10 == 0:\n",
    "            epoch_count.append(epoch)\n",
    "            train_loss_values.append(loss.detach().item())\n",
    "            test_loss_values.append(test_loss.detach().item())\n",
    "            print(f\"Epoch: {epoch} | MAE Train Loss: {loss} | MAE Test Loss: {test_loss} \")"
   ]
  },
  {
   "cell_type": "code",
   "execution_count": 159,
   "id": "943e9371-fc7c-4970-9f2a-b06d0bce79e3",
   "metadata": {},
   "outputs": [
    {
     "data": {
      "image/png": "[encoded data removed]",
      "text/plain": [
       "<Figure size 800x400 with 1 Axes>"
      ]
     },
     "metadata": {},
     "output_type": "display_data"
    }
   ],
   "source": [
    "# Plot the loss curves\n",
    "fig, ax = plt.subplots(figsize=(8,4))\n",
    "ax.plot(epoch_count, train_loss_values, label=\"Train loss\", color=\"royalblue\", linewidth=2, marker=\"o\")\n",
    "ax.plot(epoch_count, test_loss_values, label=\"Test loss\", color=\"salmon\", linewidth=2, marker=\"o\")\n",
    "ax.set_title(\"Training and test loss curves\")\n",
    "ax.set_ylabel(\"Loss\")\n",
    "ax.set_xlabel(\"Epochs\")\n",
    "\n",
    "ax.grid(True, linestyle=\"--\", color=\"lightgrey\")\n",
    "ax.legend()\n",
    "plt.show()"
   ]
  },
  {
   "cell_type": "code",
   "execution_count": null,
   "id": "731265ef-a57c-4783-9c3a-65a501ff2c58",
   "metadata": {},
   "outputs": [],
   "source": []
  }
 ],
 "metadata": {
  "kernelspec": {
   "display_name": "Python 3 (ipykernel)",
   "language": "python",
   "name": "python3"
  },
  "language_info": {
   "codemirror_mode": {
    "name": "ipython",
    "version": 3
   },
   "file_extension": ".py",
   "mimetype": "text/x-python",
   "name": "python",
   "nbconvert_exporter": "python",
   "pygments_lexer": "ipython3",
   "version": "3.11.9"
  }
 },
 "nbformat": 4,
 "nbformat_minor": 5
}
