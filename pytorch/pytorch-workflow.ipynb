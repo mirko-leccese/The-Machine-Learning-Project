{
 "cells": [
  {
   "cell_type": "code",
   "execution_count": 39,
   "id": "1698b9a3-32b5-4693-9cfc-6c73f3439947",
   "metadata": {},
   "outputs": [],
   "source": [
    "import torch\n",
    "from torch import nn \n",
    "import numpy as np\n",
    "import matplotlib.pyplot as plt\n",
    "\n",
    "from pathlib import Path"
   ]
  },
  {
   "cell_type": "markdown",
   "id": "0948c32b-d3d2-42d1-b446-1347d46a9d6c",
   "metadata": {},
   "source": [
    "<span style=\"color: red\">**NOTE**</span>: The content of this notebook is based on the free course [Zero to Mastery: Learn PyTorch for Deep Learning](https://www.learnpytorch.io/01_pytorch_workflow/), with some personal modifications and additional explanations.\n"
   ]
  },
  {
   "cell_type": "markdown",
   "id": "e197dcb3-6706-4475-879a-39d579a5df61",
   "metadata": {},
   "source": [
    "# From data to model deployment: the PyTorch workflow\n",
    "\n",
    "In the first notebook, `introduction-to-tensors`, we discussed the concept of tensors and explored the main methods and functions used to manipulate them. We can now move on to how tensors—and the PyTorch library more broadly—can be used to define, train, and evaluate machine learning models. We'll start with the basics, using the simplest machine learning model: linear regression. The goal here is not to explain linear regression itself in detail, but rather to demonstrate how a typical machine learning **workflow** can be implemented using PyTorch—from the initial train/test split to model deployment."
   ]
  },
  {
   "cell_type": "code",
   "execution_count": 40,
   "id": "31285241-f07c-48c8-ac40-e7d541f0b435",
   "metadata": {},
   "outputs": [],
   "source": [
    "# define parameter\n",
    "m = .5\n",
    "b = .3"
   ]
  },
  {
   "cell_type": "code",
   "execution_count": 41,
   "id": "fd6a6bb8-703b-47c3-890b-b5e57153756a",
   "metadata": {},
   "outputs": [],
   "source": [
    "# Synthetically creating data\n",
    "a = 0\n",
    "b = 1 \n",
    "step = 0.01\n",
    "\n",
    "X = torch.arange(a, b, step).unsqueeze(dim=1)"
   ]
  },
  {
   "cell_type": "code",
   "execution_count": 42,
   "id": "b9bd6942-e56f-4999-b7f3-d377d844309f",
   "metadata": {},
   "outputs": [
    {
     "data": {
      "text/plain": [
       "torch.Size([100, 1])"
      ]
     },
     "execution_count": 42,
     "metadata": {},
     "output_type": "execute_result"
    }
   ],
   "source": [
    "X.shape"
   ]
  },
  {
   "cell_type": "markdown",
   "id": "2a5eae80-1091-4168-b0a6-6c3f787b894a",
   "metadata": {},
   "source": [
    "We defined the `X` tensor, storing the X values of our linear function. As for the y values:"
   ]
  },
  {
   "cell_type": "code",
   "execution_count": 43,
   "id": "8dbe95f7-e288-4636-a8f5-b432bca71495",
   "metadata": {},
   "outputs": [],
   "source": [
    "# The linear function\n",
    "y = m * X + b"
   ]
  },
  {
   "cell_type": "markdown",
   "id": "412b1f8d-ab8b-4867-b69f-ea1de0e95bc2",
   "metadata": {},
   "source": [
    "`X` and `y` represent the initial data: `X` are the feature values, while `y` is the target variable. Our goal is to learn a regression model, i.e learn the parameters `m` and `b` which define the relationship between features and labels (y). "
   ]
  },
  {
   "cell_type": "code",
   "execution_count": 44,
   "id": "1aaff92e-2dca-4dcc-9576-f2a67f27accd",
   "metadata": {},
   "outputs": [
    {
     "data": {
      "image/png": "[encoded data removed]",
      "text/plain": [
       "<Figure size 800x400 with 1 Axes>"
      ]
     },
     "metadata": {},
     "output_type": "display_data"
    }
   ],
   "source": [
    "fig, ax = plt.subplots(figsize=(8,4))\n",
    "\n",
    "ax.plot(X.numpy(), y.numpy(), linestyle=\"--\", color=\"darkorange\")\n",
    "ax.set_xlabel(\"X\")\n",
    "ax.set_ylabel(\"y\")\n",
    "ax.grid(True, linestyle=\"--\", c=\"lightgray\")"
   ]
  },
  {
   "cell_type": "markdown",
   "id": "bd7010e9-1238-43a4-80a4-e27b07708c65",
   "metadata": {},
   "source": [
    "## Data Preparation"
   ]
  },
  {
   "cell_type": "markdown",
   "id": "9bccc529-9749-4b5f-9ed8-77b1230cac3c",
   "metadata": {},
   "source": [
    "Before building a model, we need to split our data into three datasets:\n",
    "\n",
    "- **Training set**: This dataset is used to train the model, i.e., to learn the model parameters. Typically, 60–80% of the original dataset is used for training.\n",
    "- **Validation set**: This dataset is used to tune the model, i.e., to adjust the hyperparameters that the model depends on in order to achieve the best performance according to a chosen metric (e.g., accuracy). The validation set is not always used, but when it is, it usually represents around 10–20% of the original dataset.\n",
    "- **Test set**: This dataset is used to evaluate the model after the training phase. It typically accounts for 10–20% of the original dataset."
   ]
  },
  {
   "cell_type": "code",
   "execution_count": 45,
   "id": "6ea69446-51d7-4094-85cd-ada67657b826",
   "metadata": {},
   "outputs": [],
   "source": [
    "# A function to split the dataset \n",
    "def line_train_test_split(X, y, p: float = 0.80):\n",
    "\n",
    "    # Define the train split\n",
    "    train_split = int(p * len(X))\n",
    "\n",
    "    X_train, y_train = X[:train_split], y[:train_split]\n",
    "    X_test, y_test = X[train_split:], y[train_split:]\n",
    "\n",
    "    return X_train, y_train, X_test, y_test"
   ]
  },
  {
   "cell_type": "code",
   "execution_count": 46,
   "id": "1c14b367-78d7-4123-888b-3f08580236ef",
   "metadata": {},
   "outputs": [],
   "source": [
    "X_train, y_train, X_test, y_test = line_train_test_split(X, y)"
   ]
  },
  {
   "cell_type": "markdown",
   "id": "20f87742-9176-43d6-9939-53ebbe650acd",
   "metadata": {},
   "source": [
    "## A Linear Regression model in PyTorch\n",
    "\n",
    "Let’s now build a linear regression model to learn the relationship between `X` and `y`. While we could use the linear regression implementation from scikit-learn, the goal here is to demonstrate how a similar model can be built using PyTorch. We'll first write out the complete code and then go through each part in detail."
   ]
  },
  {
   "cell_type": "code",
   "execution_count": 47,
   "id": "fca8d1f8-dd43-4ff1-ae48-a3bda0d855ff",
   "metadata": {},
   "outputs": [],
   "source": [
    "class LinearRegressionModel(nn.Module):\n",
    "    def __init__(self):\n",
    "        super().__init__()\n",
    "        self.weights = nn.Parameter(torch.randn(1, dtype=torch.float), requires_grad = True)\n",
    "        self.bias = nn.Parameter(torch.randn(1, dtype=torch.float), requires_grad = True)\n",
    "\n",
    "    # Forward defines the computation in the model\n",
    "    def forward(self, x: torch.Tensor) -> torch.Tensor:\n",
    "        # Linear regression formula\n",
    "        return self.weights * x + self.bias"
   ]
  },
  {
   "cell_type": "markdown",
   "id": "22582716-c3af-4c5d-9a4d-c1ea27673168",
   "metadata": {},
   "source": [
    "First of all, we defined a class called `LinearRegressionModel`, which inherits from `nn.Module`. In PyTorch, almost everything is based on `nn.Module`. The nn module (short for neural networks) contains all the building blocks needed for deep learning models. `Module` is the base class for constructing any neural network. When creating a custom model, we define a class that extends `Module`. **<span style=\"color: red\">This base class requires the implementation of a `forward` method, which specifies the computation to be performed on the input data</span>**.\n",
    "\n",
    "The `nn.Parameter` class is used to store tensors that should be treated as learnable parameters within a model. If `requires_grad` is set to True, PyTorch will automatically compute gradients for these parameters during backpropagation—one of the major advantages of using PyTorch tensors."
   ]
  },
  {
   "cell_type": "code",
   "execution_count": 48,
   "id": "99187084-4458-4ee1-8368-f99ded750072",
   "metadata": {},
   "outputs": [
    {
     "data": {
      "text/plain": [
       "<torch._C.Generator at 0x107b70330>"
      ]
     },
     "execution_count": 48,
     "metadata": {},
     "output_type": "execute_result"
    }
   ],
   "source": [
    "# Check a PyTorch model\n",
    "torch.manual_seed(42)"
   ]
  },
  {
   "cell_type": "code",
   "execution_count": 49,
   "id": "c404c5a4-3c92-4970-b148-4da059fc1753",
   "metadata": {},
   "outputs": [],
   "source": [
    "# Create an instance of the model (this is a subclass of nn.Module that contains nn.Parameter(s))\n",
    "lr_model = LinearRegressionModel()"
   ]
  },
  {
   "cell_type": "code",
   "execution_count": 50,
   "id": "8f2248d7-caf1-4efc-baac-0ec84ac78f08",
   "metadata": {},
   "outputs": [
    {
     "data": {
      "text/plain": [
       "[Parameter containing:\n",
       " tensor([0.3367], requires_grad=True),\n",
       " Parameter containing:\n",
       " tensor([0.1288], requires_grad=True)]"
      ]
     },
     "execution_count": 50,
     "metadata": {},
     "output_type": "execute_result"
    }
   ],
   "source": [
    "# Check the nn.Parameter(s) within the nn.Module subclass we created\n",
    "list(lr_model.parameters())"
   ]
  },
  {
   "cell_type": "markdown",
   "id": "43ac7cee-45e1-48ae-a847-c174dcd628e8",
   "metadata": {},
   "source": [
    "We can also get the state of the model, i.e. what the model \"contains\", using:"
   ]
  },
  {
   "cell_type": "code",
   "execution_count": 51,
   "id": "9ac1c8b2-6474-473a-a212-18326b8c5232",
   "metadata": {
    "scrolled": true
   },
   "outputs": [
    {
     "data": {
      "text/plain": [
       "OrderedDict([('weights', tensor([0.3367])), ('bias', tensor([0.1288]))])"
      ]
     },
     "execution_count": 51,
     "metadata": {},
     "output_type": "execute_result"
    }
   ],
   "source": [
    "lr_model.state_dict()"
   ]
  },
  {
   "cell_type": "markdown",
   "id": "938c5039-2583-4447-9bbe-2ee91f65b7ed",
   "metadata": {},
   "source": [
    "`weights` and `bias` have been initialized as random tensors. "
   ]
  },
  {
   "cell_type": "markdown",
   "id": "9939981d-604e-492a-b47a-d1066706f8ae",
   "metadata": {},
   "source": [
    "### Making a prediction\n",
    "\n",
    "As mentioned earlier, when we pass data to the model, it is processed through the `forward` method. To obtain the predicted values (i.e., perform inference), we need to set the model to inference mode. This is done using `torch.inference_mode()`, which is a Python *context manager*:"
   ]
  },
  {
   "cell_type": "code",
   "execution_count": 52,
   "id": "a3fe45ba-402e-420f-b967-21bd25166a53",
   "metadata": {},
   "outputs": [],
   "source": [
    "with torch.inference_mode():\n",
    "    y_preds = lr_model(X_train)"
   ]
  },
  {
   "cell_type": "code",
   "execution_count": 53,
   "id": "482a1684-7d95-4e1d-91e6-2fae2c23271c",
   "metadata": {},
   "outputs": [
    {
     "data": {
      "text/plain": [
       "tensor([0.1288])"
      ]
     },
     "execution_count": 53,
     "metadata": {},
     "output_type": "execute_result"
    }
   ],
   "source": [
    "y_preds[0]"
   ]
  },
  {
   "cell_type": "markdown",
   "id": "6a67e6e9-6170-44a6-911c-e83cf3c7441f",
   "metadata": {},
   "source": [
    "Naturally, the values produced at this stage will be quite poor and far from the true target values, since we haven’t optimized the model parameters yet—we’re simply making predictions based on randomly initialized parameters. In fact:"
   ]
  },
  {
   "cell_type": "code",
   "execution_count": 54,
   "id": "06eb6c1a-a42f-4d95-b870-b2f2cf1d7bac",
   "metadata": {},
   "outputs": [
    {
     "data": {
      "text/plain": [
       "tensor([0.1288], grad_fn=<AddBackward0>)"
      ]
     },
     "execution_count": 54,
     "metadata": {},
     "output_type": "execute_result"
    }
   ],
   "source": [
    "# The predicted value is simply the one obtained by passing the values in the forward formula \n",
    "X_train[0]*lr_model.weights + lr_model.bias"
   ]
  },
  {
   "cell_type": "markdown",
   "id": "b7821648-4d6d-4e08-abe9-5df8e697b827",
   "metadata": {},
   "source": [
    "Let's plot the test and predicted values for comparison:"
   ]
  },
  {
   "cell_type": "code",
   "execution_count": 55,
   "id": "44530ae4-9d2f-4fe0-a740-262b86c476cc",
   "metadata": {},
   "outputs": [],
   "source": [
    "with torch.inference_mode():\n",
    "    y_predictions = lr_model(X_test)"
   ]
  },
  {
   "cell_type": "code",
   "execution_count": 56,
   "id": "d9c9124a-f347-4a3e-a528-f6ea12e51bba",
   "metadata": {},
   "outputs": [
    {
     "data": {
      "image/png": "[encoded data removed]",
      "text/plain": [
       "<Figure size 800x400 with 1 Axes>"
      ]
     },
     "metadata": {},
     "output_type": "display_data"
    }
   ],
   "source": [
    "fig, ax = plt.subplots(figsize=(8,4))\n",
    "\n",
    "ax.plot(X_train.numpy(), y_train.numpy(), linestyle=\"--\", color=\"royalblue\", label=\"Training\")\n",
    "ax.plot(X_test.numpy(), y_test.numpy(), linestyle=\"--\", color=\"lightgrey\", label=\"Test\")\n",
    "ax.plot(X_test.numpy(), y_predictions.numpy(), linestyle=\"--\", color=\"red\", label=\"Prediction\")\n",
    "ax.set_xlabel(\"X\")\n",
    "ax.set_ylabel(\"y\")\n",
    "ax.grid(True, linestyle=\"--\", c=\"lightgray\")"
   ]
  },
  {
   "cell_type": "markdown",
   "id": "a9735361-84d4-402b-a2c8-ed88b499f24f",
   "metadata": {},
   "source": [
    "Of course, as expected, our predictions are very bad, because so far we have just initialized at random the learning parameters. We need to update these parameters so that they can better represent the data. In other words, we need to *train* our model."
   ]
  },
  {
   "cell_type": "markdown",
   "id": "9cd738ba-be8c-462b-8bc1-4cc3b298b2e2",
   "metadata": {},
   "source": [
    "### Train the model\n",
    "\n",
    "To train a model in PyTorch, we need to introduce two additional components:\n",
    "\n",
    "- **Loss function**: a function that measures how far our model’s predictions are from the true values, i.e., how much the predicted outputs differ from the targets.  \n",
    "- **Optimizer**: the algorithm that updates the model’s internal parameters in order to minimize the loss.\n",
    "\n",
    "PyTorch provides built-in implementations of both loss functions and optimizers. For loss functions, the most commonly used are **Mean Absolute Error (MAE)** for regression and **Binary Cross-Entropy (BCE)** for classification problems. Since we are training a linear regression model, we will use **MAE**, which is defined as:\n",
    "\n",
    "$$\n",
    "MAE = \\frac{1}{N} \\sum_{i=1}^N |y_p^{(i)} - y_t^{(i)}|\n",
    "$$\n",
    "\n",
    "where $y_p$ are the predicted values and $y_t$ are the true values.  \n",
    "\n",
    "As for optimizers, two of the most widely used are **Stochastic Gradient Descent (SGD)** and the **Adam optimizer**. At the end of this notebook, we will cover the mathematical details of these optimization methods. For now, let’s see how to apply them in PyTorch to train our linear regression model.\n"
   ]
  },
  {
   "cell_type": "code",
   "execution_count": 57,
   "id": "71df90c4-3040-4682-9f22-61306abcf2b2",
   "metadata": {},
   "outputs": [],
   "source": [
    "# L1Loss is MAE in PyTorch\n",
    "lr_loss = nn.L1Loss()"
   ]
  },
  {
   "cell_type": "code",
   "execution_count": 58,
   "id": "948f27e0-2212-4fc8-9f9a-c3e6233f9498",
   "metadata": {},
   "outputs": [],
   "source": [
    "# Create the optimizer\n",
    "lr_optimizer = torch.optim.SGD(\n",
    "    params = lr_model.parameters(),\n",
    "    lr=0.01\n",
    ")"
   ]
  },
  {
   "cell_type": "markdown",
   "id": "be526b99-ded8-43cd-ba0c-74b490b4bfc6",
   "metadata": {},
   "source": [
    "We are using the *Stochastic Gradient Descent* optimizer, which is defined in PyTorch with `torch.optim.SGD()`. This built-in function takes two main arguments:\n",
    "\n",
    "1. `params`: the model parameters to optimize;  \n",
    "2. `lr`: the **learning rate**, which controls the step size of each update. Higher values correspond to larger updates, while lower values correspond to smaller updates.  \n",
    "\n",
    "If the learning rate is too high, the optimizer may fail to converge; if it is too low, the training process can become very slow. The learning rate is a **hyperparameter**, meaning it must be chosen and set manually by the machine learning engineer."
   ]
  },
  {
   "cell_type": "markdown",
   "id": "81d58631-51bb-4d98-8e59-56e877e399f9",
   "metadata": {},
   "source": [
    "Below, the full code to train and test the model. Let's run it and then discuss it step-by-step:"
   ]
  },
  {
   "cell_type": "code",
   "execution_count": 59,
   "id": "fcb72a37-645d-45d7-a92f-734ab59351c3",
   "metadata": {},
   "outputs": [],
   "source": [
    "# Set the number of epochs: how many times the model will pass over the training data\n",
    "epochs = 1000"
   ]
  },
  {
   "cell_type": "code",
   "execution_count": 60,
   "id": "35361943-080f-40ec-8093-2642c4797172",
   "metadata": {},
   "outputs": [],
   "source": [
    "# Create empty loss lists to track values\n",
    "train_loss_values = []\n",
    "test_loss_values = []\n",
    "epoch_count = []"
   ]
  },
  {
   "cell_type": "code",
   "execution_count": 61,
   "id": "b1dcdc93-51fd-4e3f-9314-101cf9879c7d",
   "metadata": {},
   "outputs": [
    {
     "name": "stdout",
     "output_type": "stream",
     "text": [
      "Epoch: 0 | MAE Train Loss: 0.9356979131698608 | MAE Test Loss: 1.0038174390792847 \n",
      "Epoch: 10 | MAE Train Loss: 0.8200953602790833 | MAE Test Loss: 0.8684649467468262 \n",
      "Epoch: 20 | MAE Train Loss: 0.7044928669929504 | MAE Test Loss: 0.7331124544143677 \n",
      "Epoch: 30 | MAE Train Loss: 0.588890552520752 | MAE Test Loss: 0.597760021686554 \n",
      "Epoch: 40 | MAE Train Loss: 0.47328799962997437 | MAE Test Loss: 0.4624076783657074 \n",
      "Epoch: 50 | MAE Train Loss: 0.3576856553554535 | MAE Test Loss: 0.3270552456378937 \n",
      "Epoch: 60 | MAE Train Loss: 0.24208326637744904 | MAE Test Loss: 0.19170284271240234 \n",
      "Epoch: 70 | MAE Train Loss: 0.1264808475971222 | MAE Test Loss: 0.05635044723749161 \n",
      "Epoch: 80 | MAE Train Loss: 0.03413804620504379 | MAE Test Loss: 0.05251990631222725 \n",
      "Epoch: 90 | MAE Train Loss: 0.027357865124940872 | MAE Test Loss: 0.06144831329584122 \n",
      "Epoch: 100 | MAE Train Loss: 0.023902876302599907 | MAE Test Loss: 0.05483921617269516 \n",
      "Epoch: 110 | MAE Train Loss: 0.020475853234529495 | MAE Test Loss: 0.04719162732362747 \n",
      "Epoch: 120 | MAE Train Loss: 0.01704884134232998 | MAE Test Loss: 0.03954402729868889 \n",
      "Epoch: 130 | MAE Train Loss: 0.01362377405166626 | MAE Test Loss: 0.031208496540784836 \n",
      "Epoch: 140 | MAE Train Loss: 0.010197730734944344 | MAE Test Loss: 0.02321692742407322 \n",
      "Epoch: 150 | MAE Train Loss: 0.006771688349545002 | MAE Test Loss: 0.015225368551909924 \n",
      "Epoch: 160 | MAE Train Loss: 0.0033480816055089235 | MAE Test Loss: 0.007235974073410034 \n",
      "Epoch: 170 | MAE Train Loss: 0.0060801743529737 | MAE Test Loss: 0.009177202358841896 \n",
      "Epoch: 180 | MAE Train Loss: 0.0060801743529737 | MAE Test Loss: 0.009177202358841896 \n",
      "Epoch: 190 | MAE Train Loss: 0.0060801743529737 | MAE Test Loss: 0.009177202358841896 \n",
      "Epoch: 200 | MAE Train Loss: 0.0060801743529737 | MAE Test Loss: 0.009177202358841896 \n",
      "Epoch: 210 | MAE Train Loss: 0.0060801743529737 | MAE Test Loss: 0.009177202358841896 \n",
      "Epoch: 220 | MAE Train Loss: 0.0060801743529737 | MAE Test Loss: 0.009177202358841896 \n",
      "Epoch: 230 | MAE Train Loss: 0.0060801743529737 | MAE Test Loss: 0.009177202358841896 \n",
      "Epoch: 240 | MAE Train Loss: 0.0060801743529737 | MAE Test Loss: 0.009177202358841896 \n",
      "Epoch: 250 | MAE Train Loss: 0.0060801743529737 | MAE Test Loss: 0.009177202358841896 \n",
      "Epoch: 260 | MAE Train Loss: 0.0060801743529737 | MAE Test Loss: 0.009177202358841896 \n",
      "Epoch: 270 | MAE Train Loss: 0.0060801743529737 | MAE Test Loss: 0.009177202358841896 \n",
      "Epoch: 280 | MAE Train Loss: 0.0060801743529737 | MAE Test Loss: 0.009177202358841896 \n",
      "Epoch: 290 | MAE Train Loss: 0.0060801743529737 | MAE Test Loss: 0.009177202358841896 \n",
      "Epoch: 300 | MAE Train Loss: 0.0060801743529737 | MAE Test Loss: 0.009177202358841896 \n",
      "Epoch: 310 | MAE Train Loss: 0.0060801743529737 | MAE Test Loss: 0.009177202358841896 \n",
      "Epoch: 320 | MAE Train Loss: 0.0060801743529737 | MAE Test Loss: 0.009177202358841896 \n",
      "Epoch: 330 | MAE Train Loss: 0.0060801743529737 | MAE Test Loss: 0.009177202358841896 \n",
      "Epoch: 340 | MAE Train Loss: 0.0060801743529737 | MAE Test Loss: 0.009177202358841896 \n",
      "Epoch: 350 | MAE Train Loss: 0.0060801743529737 | MAE Test Loss: 0.009177202358841896 \n",
      "Epoch: 360 | MAE Train Loss: 0.0060801743529737 | MAE Test Loss: 0.009177202358841896 \n",
      "Epoch: 370 | MAE Train Loss: 0.0060801743529737 | MAE Test Loss: 0.009177202358841896 \n",
      "Epoch: 380 | MAE Train Loss: 0.0060801743529737 | MAE Test Loss: 0.009177202358841896 \n",
      "Epoch: 390 | MAE Train Loss: 0.0060801743529737 | MAE Test Loss: 0.009177202358841896 \n",
      "Epoch: 400 | MAE Train Loss: 0.0060801743529737 | MAE Test Loss: 0.009177202358841896 \n",
      "Epoch: 410 | MAE Train Loss: 0.0060801743529737 | MAE Test Loss: 0.009177202358841896 \n",
      "Epoch: 420 | MAE Train Loss: 0.0060801743529737 | MAE Test Loss: 0.009177202358841896 \n",
      "Epoch: 430 | MAE Train Loss: 0.0060801743529737 | MAE Test Loss: 0.009177202358841896 \n",
      "Epoch: 440 | MAE Train Loss: 0.0060801743529737 | MAE Test Loss: 0.009177202358841896 \n",
      "Epoch: 450 | MAE Train Loss: 0.0060801743529737 | MAE Test Loss: 0.009177202358841896 \n",
      "Epoch: 460 | MAE Train Loss: 0.0060801743529737 | MAE Test Loss: 0.009177202358841896 \n",
      "Epoch: 470 | MAE Train Loss: 0.0060801743529737 | MAE Test Loss: 0.009177202358841896 \n",
      "Epoch: 480 | MAE Train Loss: 0.0060801743529737 | MAE Test Loss: 0.009177202358841896 \n",
      "Epoch: 490 | MAE Train Loss: 0.0060801743529737 | MAE Test Loss: 0.009177202358841896 \n",
      "Epoch: 500 | MAE Train Loss: 0.0060801743529737 | MAE Test Loss: 0.009177202358841896 \n",
      "Epoch: 510 | MAE Train Loss: 0.0060801743529737 | MAE Test Loss: 0.009177202358841896 \n",
      "Epoch: 520 | MAE Train Loss: 0.0060801743529737 | MAE Test Loss: 0.009177202358841896 \n",
      "Epoch: 530 | MAE Train Loss: 0.0060801743529737 | MAE Test Loss: 0.009177202358841896 \n",
      "Epoch: 540 | MAE Train Loss: 0.0060801743529737 | MAE Test Loss: 0.009177202358841896 \n",
      "Epoch: 550 | MAE Train Loss: 0.0060801743529737 | MAE Test Loss: 0.009177202358841896 \n",
      "Epoch: 560 | MAE Train Loss: 0.0060801743529737 | MAE Test Loss: 0.009177202358841896 \n",
      "Epoch: 570 | MAE Train Loss: 0.0060801743529737 | MAE Test Loss: 0.009177202358841896 \n",
      "Epoch: 580 | MAE Train Loss: 0.0060801743529737 | MAE Test Loss: 0.009177202358841896 \n",
      "Epoch: 590 | MAE Train Loss: 0.0060801743529737 | MAE Test Loss: 0.009177202358841896 \n",
      "Epoch: 600 | MAE Train Loss: 0.0060801743529737 | MAE Test Loss: 0.009177202358841896 \n",
      "Epoch: 610 | MAE Train Loss: 0.0060801743529737 | MAE Test Loss: 0.009177202358841896 \n",
      "Epoch: 620 | MAE Train Loss: 0.0060801743529737 | MAE Test Loss: 0.009177202358841896 \n",
      "Epoch: 630 | MAE Train Loss: 0.0060801743529737 | MAE Test Loss: 0.009177202358841896 \n",
      "Epoch: 640 | MAE Train Loss: 0.0060801743529737 | MAE Test Loss: 0.009177202358841896 \n",
      "Epoch: 650 | MAE Train Loss: 0.0060801743529737 | MAE Test Loss: 0.009177202358841896 \n",
      "Epoch: 660 | MAE Train Loss: 0.0060801743529737 | MAE Test Loss: 0.009177202358841896 \n",
      "Epoch: 670 | MAE Train Loss: 0.0060801743529737 | MAE Test Loss: 0.009177202358841896 \n",
      "Epoch: 680 | MAE Train Loss: 0.0060801743529737 | MAE Test Loss: 0.009177202358841896 \n",
      "Epoch: 690 | MAE Train Loss: 0.0060801743529737 | MAE Test Loss: 0.009177202358841896 \n",
      "Epoch: 700 | MAE Train Loss: 0.0060801743529737 | MAE Test Loss: 0.009177202358841896 \n",
      "Epoch: 710 | MAE Train Loss: 0.0060801743529737 | MAE Test Loss: 0.009177202358841896 \n",
      "Epoch: 720 | MAE Train Loss: 0.0060801743529737 | MAE Test Loss: 0.009177202358841896 \n",
      "Epoch: 730 | MAE Train Loss: 0.0060801743529737 | MAE Test Loss: 0.009177202358841896 \n",
      "Epoch: 740 | MAE Train Loss: 0.0060801743529737 | MAE Test Loss: 0.009177202358841896 \n",
      "Epoch: 750 | MAE Train Loss: 0.0060801743529737 | MAE Test Loss: 0.009177202358841896 \n",
      "Epoch: 760 | MAE Train Loss: 0.0060801743529737 | MAE Test Loss: 0.009177202358841896 \n",
      "Epoch: 770 | MAE Train Loss: 0.0060801743529737 | MAE Test Loss: 0.009177202358841896 \n",
      "Epoch: 780 | MAE Train Loss: 0.0060801743529737 | MAE Test Loss: 0.009177202358841896 \n",
      "Epoch: 790 | MAE Train Loss: 0.0060801743529737 | MAE Test Loss: 0.009177202358841896 \n",
      "Epoch: 800 | MAE Train Loss: 0.0060801743529737 | MAE Test Loss: 0.009177202358841896 \n",
      "Epoch: 810 | MAE Train Loss: 0.0060801743529737 | MAE Test Loss: 0.009177202358841896 \n",
      "Epoch: 820 | MAE Train Loss: 0.0060801743529737 | MAE Test Loss: 0.009177202358841896 \n",
      "Epoch: 830 | MAE Train Loss: 0.0060801743529737 | MAE Test Loss: 0.009177202358841896 \n",
      "Epoch: 840 | MAE Train Loss: 0.0060801743529737 | MAE Test Loss: 0.009177202358841896 \n",
      "Epoch: 850 | MAE Train Loss: 0.0060801743529737 | MAE Test Loss: 0.009177202358841896 \n",
      "Epoch: 860 | MAE Train Loss: 0.0060801743529737 | MAE Test Loss: 0.009177202358841896 \n",
      "Epoch: 870 | MAE Train Loss: 0.0060801743529737 | MAE Test Loss: 0.009177202358841896 \n",
      "Epoch: 880 | MAE Train Loss: 0.0060801743529737 | MAE Test Loss: 0.009177202358841896 \n",
      "Epoch: 890 | MAE Train Loss: 0.0060801743529737 | MAE Test Loss: 0.009177202358841896 \n",
      "Epoch: 900 | MAE Train Loss: 0.0060801743529737 | MAE Test Loss: 0.009177202358841896 \n",
      "Epoch: 910 | MAE Train Loss: 0.0060801743529737 | MAE Test Loss: 0.009177202358841896 \n",
      "Epoch: 920 | MAE Train Loss: 0.0060801743529737 | MAE Test Loss: 0.009177202358841896 \n",
      "Epoch: 930 | MAE Train Loss: 0.0060801743529737 | MAE Test Loss: 0.009177202358841896 \n",
      "Epoch: 940 | MAE Train Loss: 0.0060801743529737 | MAE Test Loss: 0.009177202358841896 \n",
      "Epoch: 950 | MAE Train Loss: 0.0060801743529737 | MAE Test Loss: 0.009177202358841896 \n",
      "Epoch: 960 | MAE Train Loss: 0.0060801743529737 | MAE Test Loss: 0.009177202358841896 \n",
      "Epoch: 970 | MAE Train Loss: 0.0060801743529737 | MAE Test Loss: 0.009177202358841896 \n",
      "Epoch: 980 | MAE Train Loss: 0.0060801743529737 | MAE Test Loss: 0.009177202358841896 \n",
      "Epoch: 990 | MAE Train Loss: 0.0060801743529737 | MAE Test Loss: 0.009177202358841896 \n"
     ]
    }
   ],
   "source": [
    "# TRAINING LOOP\n",
    "torch.manual_seed(42)\n",
    "\n",
    "for epoch in range(epochs):\n",
    "    ### TRAINING\n",
    "\n",
    "    # This command put the model in training mode\n",
    "    lr_model.train()\n",
    "\n",
    "    # 1. Pass the training data through the forward() method of the model\n",
    "    y_pred = lr_model(X_train)\n",
    "\n",
    "    # 2. Calculate the loss between predicted and true values\n",
    "    loss = lr_loss(y_pred, y_train)\n",
    "\n",
    "    # 3. Zero grad of the optimizer --> we zero the gradients since they accumalate at each epochs\n",
    "    lr_optimizer.zero_grad()\n",
    "\n",
    "    # 4. Loss backward\n",
    "    loss.backward()\n",
    "\n",
    "    # 5. Progress the optimizer\n",
    "    lr_optimizer.step()\n",
    "\n",
    "    ### TESTING\n",
    "    # Put the model in evaluation mode\n",
    "    lr_model.eval()\n",
    "\n",
    "    # Make the inference\n",
    "    with torch.inference_mode():\n",
    "        # 1. Forward pass on test data\n",
    "        test_pred = lr_model(X_test)\n",
    "\n",
    "        # 2. Caculate loss on test data\n",
    "        # predictions come in torch.float datatype, so comparisons need to be done with tensors of the same type\n",
    "        test_loss = lr_loss(test_pred, y_test.type(torch.float)) \n",
    "\n",
    "        # Print out what's happening \n",
    "        if epoch % 10 == 0:\n",
    "            epoch_count.append(epoch)\n",
    "            train_loss_values.append(loss.detach().item())\n",
    "            test_loss_values.append(test_loss.detach().item())\n",
    "            print(f\"Epoch: {epoch} | MAE Train Loss: {loss} | MAE Test Loss: {test_loss} \")"
   ]
  },
  {
   "cell_type": "markdown",
   "id": "98449f91-ee9c-45f4-a66c-6d03ed9598f9",
   "metadata": {},
   "source": [
    "A training and test loop in PyTorch works as follows. For each epoch (i.e., one pass over the training data):\n",
    "\n",
    "- `model.train()`: switch the model to **training** mode (layers like dropout and batch norm use their training behavior).\n",
    "- `model(X_train)`: pass `X_train` through the model’s `forward` method. This produces the current predictions/outputs for the training data.\n",
    "- `loss(...)`: compute the loss between the predictions and the ground-truth targets.\n",
    "- `optimizer.zero_grad()`: clear (zero) all parameter gradients. Gradients accumulate by default across backward passes, so we reset them before computing new ones.\n",
    "- `loss.backward()`: run reverse-mode automatic differentiation. PyTorch traverses the computation graph built during the forward pass and computes $\\partial L/\\partial \\theta$ for every parameter `θ` with `requires_grad=True`. These gradients are accumulated into each parameter’s `.grad` buffer (they are not applied yet).\n",
    "- `optimizer.step()`: take one optimization step (e.g., SGD, Adam), updating the model parameters using the gradients stored in their `.grad` buffers.\n",
    "- `model.eval()`: switch the model to **evaluation** mode (dropout/batch norm use inference behavior), then compute predictions on the test set—typically inside a `with torch.no_grad():` block to disable gradient tracking.\n",
    "\n",
    "To be more precise, what we are doing with this loop is:\n",
    "\n",
    "1. During the **forward pass**, the model takes the input data and produces predictions based on its current parameters (weights and biases).\n",
    "2. The **loss function** measures how far these predictions are from the true targets.\n",
    "3. When we call `loss.backward()`, PyTorch applies **backpropagation**: it traverses the computation graph in reverse and computes the partial derivatives of the loss with respect to each parameter. In other words, it tells us *how much* and in *which direction* each weight should be adjusted to reduce the error. These values are stored in the `.grad` attribute of each parameter tensor.\n",
    "4. Finally, `optimizer.step()` uses these gradients to actually update the model’s parameters. For example, in stochastic gradient descent (SGD), each parameter is moved a small step in the opposite direction of the gradient, scaled by the learning rate: $$\\theta \\leftarrow \\theta - \\eta \\frac{\\partial L }{\\partial \\theta}$$ More advanced optimizers like Adam use the same gradients but apply additional heuristics (momentum, adaptive learning rates, etc.).\n",
    "\n",
    "In summary:\n",
    "- `loss.backward()` **computes the gradients** but does not change the parameters.\n",
    "- `optimizer.step()` **updates the parameters** using those gradients.\n",
    "\n",
    "We can collect both training and test loss values and plot them. In a well-behaved run, both curves tend to go down over epochs as the optimizer refines the weights and biases (if test loss rises while training loss falls, that may indicate overfitting).\n"
   ]
  },
  {
   "cell_type": "code",
   "execution_count": 62,
   "id": "943e9371-fc7c-4970-9f2a-b06d0bce79e3",
   "metadata": {},
   "outputs": [
    {
     "data": {
      "image/png": "[encoded data removed]",
      "text/plain": [
       "<Figure size 800x400 with 1 Axes>"
      ]
     },
     "metadata": {},
     "output_type": "display_data"
    }
   ],
   "source": [
    "# Plot the loss curves\n",
    "fig, ax = plt.subplots(figsize=(8,4))\n",
    "ax.plot(epoch_count, train_loss_values, label=\"Train loss\", color=\"royalblue\", linewidth=2, marker=\"o\")\n",
    "ax.plot(epoch_count, test_loss_values, label=\"Test loss\", color=\"salmon\", linewidth=2, marker=\"o\")\n",
    "ax.set_title(\"Training and test loss curves\")\n",
    "ax.set_ylabel(\"Loss\")\n",
    "ax.set_xlabel(\"Epochs\")\n",
    "\n",
    "ax.grid(True, linestyle=\"--\", color=\"lightgrey\")\n",
    "ax.legend()\n",
    "plt.show()"
   ]
  },
  {
   "cell_type": "markdown",
   "id": "e4e0ce59-1908-4d98-b49a-5156d5234c70",
   "metadata": {},
   "source": [
    "### Make predictions with a trained model\n",
    "\n",
    "Once we have trained the model, we can make predictions with it. Again:"
   ]
  },
  {
   "cell_type": "code",
   "execution_count": 63,
   "id": "f8e38e07-9355-48a6-97a3-7e2ca7e580c0",
   "metadata": {},
   "outputs": [],
   "source": [
    "# 1. Set the model in evaluation mode\n",
    "lr_model.eval()\n",
    "\n",
    "# 2. Setup the inference mode context manager\n",
    "with torch.inference_mode():\n",
    "  y_final_pred = lr_model(X_test)"
   ]
  },
  {
   "cell_type": "code",
   "execution_count": 64,
   "id": "4186e3f0-c0e8-49d6-9e53-c89a0b5599cd",
   "metadata": {},
   "outputs": [
    {
     "data": {
      "text/plain": [
       "tensor([[1.3953],\n",
       "        [1.4003],\n",
       "        [1.4054],\n",
       "        [1.4104],\n",
       "        [1.4155],\n",
       "        [1.4205],\n",
       "        [1.4255],\n",
       "        [1.4306],\n",
       "        [1.4356],\n",
       "        [1.4406],\n",
       "        [1.4457],\n",
       "        [1.4507],\n",
       "        [1.4557],\n",
       "        [1.4608],\n",
       "        [1.4658],\n",
       "        [1.4708],\n",
       "        [1.4759],\n",
       "        [1.4809],\n",
       "        [1.4859],\n",
       "        [1.4910]])"
      ]
     },
     "execution_count": 64,
     "metadata": {},
     "output_type": "execute_result"
    }
   ],
   "source": [
    "y_final_pred"
   ]
  },
  {
   "cell_type": "code",
   "execution_count": 65,
   "id": "baf0c5a8-594a-4857-bb77-41a35b722698",
   "metadata": {},
   "outputs": [
    {
     "data": {
      "image/png": "[encoded data removed]",
      "text/plain": [
       "<Figure size 800x400 with 1 Axes>"
      ]
     },
     "metadata": {},
     "output_type": "display_data"
    }
   ],
   "source": [
    "fig, ax = plt.subplots(figsize=(8,4))\n",
    "\n",
    "ax.plot(X_train.numpy(), y_train.numpy(), linestyle=\"--\", color=\"royalblue\", label=\"Training\")\n",
    "ax.plot(X_test.numpy(), y_test.numpy(), linestyle=\"--\", color=\"lightgrey\", label=\"Test\")\n",
    "ax.plot(X_test.numpy(), y_final_pred.numpy(), linestyle=\"--\", color=\"red\", label=\"Prediction\")\n",
    "ax.set_xlabel(\"X\")\n",
    "ax.set_ylabel(\"y\")\n",
    "ax.grid(True, linestyle=\"--\", c=\"lightgray\")"
   ]
  },
  {
   "cell_type": "markdown",
   "id": "7383bbc4-06c1-4053-9b25-c85e04349ea0",
   "metadata": {},
   "source": [
    "We can see that now our predictions are far better than before! There is one extra thing we need to remember when making predictions with a PyTorch model: **<span style=\"color: red\"> all predictions should be made with objects on the same device, e.g. data and model on GPU only or on CPU only.</span>** Here, we haven't setup device-agnostic code yet hence both data and model are by default on CPU."
   ]
  },
  {
   "cell_type": "markdown",
   "id": "22ce9893-c01a-4477-925d-635bf2923d2c",
   "metadata": {},
   "source": [
    "### Save and Load the model\n",
    "\n",
    "Once we have trained a model and are satisfied with its performance, it is often desirable to save it so that we can later reload it in another environment without having to retrain from scratch.  \n",
    "The recommended best practice in PyTorch is to save the model’s `state_dict` rather than the entire model object.  \n",
    "\n",
    "As the PyTorch documentation explains, saving the full model has a major drawback:  \n",
    "\n",
    "> *The disadvantage of this approach is that the serialized data is bound to the specific classes and the exact directory structure used when the model is saved. Because of this, your code can break in various ways when used in other projects or after refactoring.*\n",
    "\n",
    "For this reason, <span style=\"color:red\">the preferred approach is to save only the model’s **state dictionary**, which contains all the learnable parameters (weights and biases) of the model, but is independent of the surrounding code structure.</span>\n",
    "\n",
    "Let’s see how to save and load a model’s state dictionary:"
   ]
  },
  {
   "cell_type": "code",
   "execution_count": 66,
   "id": "c2699fe0-2834-4fc5-b6b6-ea8269c12164",
   "metadata": {},
   "outputs": [
    {
     "name": "stdout",
     "output_type": "stream",
     "text": [
      "Saving model to: models/01_pytorch_lr_model1.pth\n"
     ]
    }
   ],
   "source": [
    "# 1. Create models directory \n",
    "model_path = Path(\"models\")\n",
    "model_path.mkdir(parents=True, exist_ok=True)\n",
    "\n",
    "# 2. Create model save path \n",
    "model_name = \"01_pytorch_lr_model1.pth\"\n",
    "model_save_path = model_path / model_name\n",
    "\n",
    "# 3. Save the model state dict \n",
    "print(f\"Saving model to: {model_save_path}\")\n",
    "torch.save(obj=lr_model.state_dict(), # only saving the state_dict() only saves the models learned parameters\n",
    "           f=model_save_path)"
   ]
  },
  {
   "cell_type": "markdown",
   "id": "dd8f8fd7-c70b-4f75-837b-61d52908fd8e",
   "metadata": {},
   "source": [
    "To load the saved model we need to:\n",
    "1. create a new instance of the model class\n",
    "2. load the `state_dict` using `load_state_dict`"
   ]
  },
  {
   "cell_type": "code",
   "execution_count": 67,
   "id": "c0b6ae25-6b77-4152-a90c-625fae80960e",
   "metadata": {},
   "outputs": [],
   "source": [
    "# New instance\n",
    "loaded_model = LinearRegressionModel()"
   ]
  },
  {
   "cell_type": "code",
   "execution_count": 68,
   "id": "64cd0b3e-1555-454f-a904-efe73bdecb90",
   "metadata": {},
   "outputs": [
    {
     "name": "stderr",
     "output_type": "stream",
     "text": [
      "/var/folders/xh/7gjfwn1156386st5775zf6cc0000gn/T/ipykernel_9585/2937666412.py:2: FutureWarning: You are using `torch.load` with `weights_only=False` (the current default value), which uses the default pickle module implicitly. It is possible to construct malicious pickle data which will execute arbitrary code during unpickling (See https://github.com/pytorch/pytorch/blob/main/SECURITY.md#untrusted-models for more details). In a future release, the default value for `weights_only` will be flipped to `True`. This limits the functions that could be executed during unpickling. Arbitrary objects will no longer be allowed to be loaded via this mode unless they are explicitly allowlisted by the user via `torch.serialization.add_safe_globals`. We recommend you start setting `weights_only=True` for any use case where you don't have full control of the loaded file. Please open an issue on GitHub for any issues related to this experimental feature.\n",
      "  loaded_model.load_state_dict(torch.load(f=model_save_path))\n"
     ]
    },
    {
     "data": {
      "text/plain": [
       "<All keys matched successfully>"
      ]
     },
     "execution_count": 68,
     "metadata": {},
     "output_type": "execute_result"
    }
   ],
   "source": [
    "# load the state dict\n",
    "loaded_model.load_state_dict(torch.load(f=model_save_path))"
   ]
  },
  {
   "cell_type": "code",
   "execution_count": 69,
   "id": "adba4203-db1f-43ff-8077-766dbcda2f2a",
   "metadata": {},
   "outputs": [],
   "source": [
    "# 1. making predictions with loaded model\n",
    "loaded_model.eval()\n",
    "\n",
    "# 2. Setup the inference mode context manager\n",
    "with torch.inference_mode():\n",
    "  y_loaded_pred = loaded_model(X_test)"
   ]
  },
  {
   "cell_type": "code",
   "execution_count": 70,
   "id": "7eb0510c-1193-4985-b68d-12329ae89deb",
   "metadata": {},
   "outputs": [
    {
     "data": {
      "text/plain": [
       "tensor([[1.3953],\n",
       "        [1.4003],\n",
       "        [1.4054],\n",
       "        [1.4104],\n",
       "        [1.4155],\n",
       "        [1.4205],\n",
       "        [1.4255],\n",
       "        [1.4306],\n",
       "        [1.4356],\n",
       "        [1.4406],\n",
       "        [1.4457],\n",
       "        [1.4507],\n",
       "        [1.4557],\n",
       "        [1.4608],\n",
       "        [1.4658],\n",
       "        [1.4708],\n",
       "        [1.4759],\n",
       "        [1.4809],\n",
       "        [1.4859],\n",
       "        [1.4910]])"
      ]
     },
     "execution_count": 70,
     "metadata": {},
     "output_type": "execute_result"
    }
   ],
   "source": [
    "y_loaded_pred"
   ]
  },
  {
   "cell_type": "markdown",
   "id": "306d5699-432a-4f42-acf3-17c252c79b7d",
   "metadata": {},
   "source": [
    "## Extra: the SDG and Adam optimizers\n",
    "\n",
    "We have seen that one essential ingredient in training a model (not necessarily a PyTorch model) is the *optimizer*. An optimizer is an algorithm that updates the parameters of the model in order to minimize the loss. Let’s take a closer look at the math behind the most common optimizers.  \n",
    "\n",
    "In general, suppose we have a model with a parameter vector $\\boldsymbol{\\theta}$ of dimension $N$. For each choice of parameter values, the loss function $L(\\boldsymbol{\\theta})$ will take on some value. In other words, $L(\\boldsymbol{\\theta})$ defines a hypersurface in the $N$-dimensional parameter space. Optimization begins by picking an initial set of parameters (often at random) and evaluating the loss. The goal is then to move across this hypersurface to search for minima (ideally the global minimum).  \n",
    "\n",
    "The simplest approach is to compute the *gradient* of the loss with respect to the parameters. The gradient vector points in the direction of steepest increase, so a natural way to reduce the loss is to update parameters in the *opposite* direction:  \n",
    "\n",
    "$$\n",
    "\\boldsymbol{\\theta} \\gets \\boldsymbol{\\theta} - \\eta \\nabla_{\\theta} L\n",
    "$$  \n",
    "\n",
    "Here, $\\eta$ is the **learning rate**. It is a scalar that controls the step size: a higher learning rate can speed up convergence but also risks overshooting minima, while a too small learning rate can make convergence extremely slow. This method is known as **stochastic gradient descent (SGD)**.  \n",
    "\n",
    "A more advanced and widely used algorithm is **Adam** (*adaptive moment estimation*), first introduced by Kingma and Ba in their influential paper *\"Adam: A Method for Stochastic Optimization\"*. Adam combines ideas from both SGD with momentum and RMSProp. In particular, it keeps track of **exponentially weighted moving averages of past gradients (the first moment)** and **squared gradients (the second moment)**. This allows Adam to adapt the learning rate for each parameter individually, making training more stable and often faster.  \n",
    "\n",
    "In simplified form, Adam updates parameters at time $t$ according to:  \n",
    "\n",
    "$$\n",
    "\\boldsymbol{\\theta}_{t+1} \\gets \\boldsymbol{\\theta}_t - \\eta \\, \\frac{\\hat{\\boldsymbol{m}}_t}{\\sqrt{\\hat{\\boldsymbol{v}}_t} + \\epsilon}\n",
    "$$  \n",
    "\n",
    "where:  \n",
    "- $\\boldsymbol{m}_t$ is the exponentially weighted moving average of past gradients (the **first moment**), updated as  \n",
    "  $$\n",
    "  \\boldsymbol{m}_t = \\beta_1 \\boldsymbol{m}_{t-1} + (1-\\beta_1) \\nabla_{\\theta_t} L\n",
    "  $$  \n",
    "- $\\boldsymbol{v}_t$ is the moving average of squared gradients (the **second moment**),  \n",
    "- $\\beta_1$ and $\\beta_2$ are hyperparameters controlling the decay rates (commonly $\\beta_1 = 0.9$, $\\beta_2 = 0.999$),  \n",
    "- $\\hat{\\boldsymbol{m}}_t$ and $\\hat{\\boldsymbol{v}}_t$ are bias-corrected estimates,  \n",
    "- $\\epsilon$ is a small constant added for numerical stability.  \n",
    "\n",
    "In practice, the key intuition is:  \n",
    "- **SGD** takes steps proportional to the raw gradient.  \n",
    "- **Adam** smooths gradients over time and scales updates per-parameter, often leading to faster and more robust convergence in deep learning.  \n"
   ]
  },
  {
   "cell_type": "code",
   "execution_count": null,
   "id": "6a7de1e1-c276-4579-9c0e-82307040c899",
   "metadata": {},
   "outputs": [],
   "source": []
  }
 ],
 "metadata": {
  "kernelspec": {
   "display_name": "Python 3 (ipykernel)",
   "language": "python",
   "name": "python3"
  },
  "language_info": {
   "codemirror_mode": {
    "name": "ipython",
    "version": 3
   },
   "file_extension": ".py",
   "mimetype": "text/x-python",
   "name": "python",
   "nbconvert_exporter": "python",
   "pygments_lexer": "ipython3",
   "version": "3.11.9"
  }
 },
 "nbformat": 4,
 "nbformat_minor": 5
}
