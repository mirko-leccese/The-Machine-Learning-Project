{
 "cells": [
  {
   "cell_type": "code",
   "execution_count": 2,
   "id": "4fe7a05a-340c-4ddf-81b8-6edd60036782",
   "metadata": {},
   "outputs": [],
   "source": [
    "import pandas as pd\n",
    "import numpy as np\n",
    "import matplotlib.pyplot as plt\n",
    "import seaborn as sns"
   ]
  },
  {
   "cell_type": "code",
   "execution_count": 3,
   "id": "bd426986-c992-4390-8773-0ec7b94b943b",
   "metadata": {},
   "outputs": [],
   "source": [
    "from sklearn.feature_extraction.text import CountVectorizer\n",
    "from sklearn.model_selection import train_test_split\n",
    "from sklearn.metrics import accuracy_score, precision_score, recall_score, f1_score\n",
    "from sklearn.metrics import confusion_matrix"
   ]
  },
  {
   "cell_type": "code",
   "execution_count": 4,
   "id": "b40182df-df63-409b-9f02-a2e7d9a0efab",
   "metadata": {},
   "outputs": [],
   "source": [
    "import re"
   ]
  },
  {
   "cell_type": "code",
   "execution_count": 5,
   "id": "12b657e4-9026-475b-8fb4-ef7fd9e69c77",
   "metadata": {},
   "outputs": [],
   "source": [
    "import nltk\n",
    "from nltk.corpus import stopwords"
   ]
  },
  {
   "cell_type": "code",
   "execution_count": 6,
   "id": "755e69d6-da1a-4a87-911d-7cc5e30edfa4",
   "metadata": {},
   "outputs": [],
   "source": [
    "pd.set_option('display.max_colwidth', None)"
   ]
  },
  {
   "cell_type": "code",
   "execution_count": 7,
   "id": "a5c46867-94fb-42bb-8d22-74dadcdf6813",
   "metadata": {},
   "outputs": [
    {
     "name": "stderr",
     "output_type": "stream",
     "text": [
      "[nltk_data] Downloading package stopwords to\n",
      "[nltk_data]     /Users/mirkoleccese/nltk_data...\n",
      "[nltk_data]   Package stopwords is already up-to-date!\n"
     ]
    },
    {
     "data": {
      "text/plain": [
       "True"
      ]
     },
     "execution_count": 7,
     "metadata": {},
     "output_type": "execute_result"
    }
   ],
   "source": [
    "# Download the stopwords from NLTK (this needs to be run only once)\n",
    "nltk.download('stopwords')"
   ]
  },
  {
   "cell_type": "markdown",
   "id": "bfd9701e-6e96-4adc-b37e-dc6652789ad9",
   "metadata": {},
   "source": [
    "# Classification with *Naive Bayes* algorithm \n",
    "\n",
    "In Machine Learning, classification algorithms are methods used to predict a characteristic or \"label\" of a given object. Most traditional methods are **supervised learning** techniques, meaning they utilize a training set of labeled data to learn how to predict new data. Often, classification problems involve binary classification, where we need to determine whether a given property is met or not. Common examples of **binary classification** problems include predicting whether a human tissue sample is cancerous, determining if a financial transaction is fraudulent, or identifying whether an email is spam.\n",
    "\n",
    "There are many algorithms that can be applied to binary classification, but in this notebook, we will specifically focus on the so-called **<span style=\"color: red\">Naive Bayes</span>** method, which leverages the principles of **Bayesian statistics**. In particular, we will code a class to perform Naive Bayes on text data and apply it to the well-known example of *predicting whether an email is spam*, often referred to as **<span style=\"color: red\">Bayesian Spam Filtering</span>**."
   ]
  },
  {
   "cell_type": "markdown",
   "id": "7702ad02-939b-4794-83e3-2cfd128aff5a",
   "metadata": {},
   "source": [
    "## Theoretical introduction\n",
    "\n",
    "Let suppose to have a set of emails $X$ labeled as \"spam\" or \"not spam\". For the sake of notation, we use the letter $x$ to denote a text email and the letter $y$ to denote the binary label, i.e. $y=1$ means \"spam\" while $y=0$ means \"not spam\". According to the **Bayes Theorem**, we could write:\n",
    "$$\n",
    "p(y|x) = \\frac{p(x|y)p(x)}{p(y)}\n",
    "$$\n",
    "that is, the probability of label $y$ given a text $x$ for the email, $p(y|x)$, can be computed from the **prior probability** $p(x|y)$, i.e. the probability of a having a text $x$ given the email is spam or not. In the above formula, the term for which we may have a good estimate right from the problem definition is $p(y)$, i.e. the probability of being spam or not. Indeed, if $N$ is the total number of email and $N_1$, $N_0$ denote respectively the number of spam and not spam emails in the dataset, then \n",
    "$$\n",
    "\\begin{gather}\n",
    "p(y=1) \\approx \\frac{N_1}{N} \\\\\n",
    "p(y=0) \\approx \\frac{N_0}{N} \n",
    "\\end{gather}\n",
    "$$"
   ]
  },
  {
   "cell_type": "markdown",
   "id": "a48aca19-6d76-4188-aa61-90e89c0096a8",
   "metadata": {},
   "source": [
    "The problem, however, is that we do not know neither the prior probability $p(x|y)$ or the $p(x)$ probability, i.e. the probability of observing a given email text, regardless its nature. We may dispose of knowing $p(x)$ if we accept of quantifying just the following ratio:\n",
    "$$\n",
    "R(x) = \\frac{p(y=1| x)}{p(y=0|x)} = \\frac{p(x|y=1)}{p(y=1)} \\frac{p(y=0)}{p(x|y=0)}\n",
    "$$\n",
    "We may decide that the email is spam whenever $R(x)$ exceeds a given threshold $t$. Of course, if $t$ is large, our algorithm may be too conservative and classifiy spam emails as not spam. On the other hand, if $t$ is small, the algorithm may be overclassify emails as spam. "
   ]
  },
  {
   "cell_type": "markdown",
   "id": "382b389e-10ab-4258-ab18-2b6b71ce8104",
   "metadata": {},
   "source": [
    "## CountVectorizer tutorial"
   ]
  },
  {
   "cell_type": "code",
   "execution_count": 8,
   "id": "8f9488a3-680c-46e1-b34b-d7b8e89fff58",
   "metadata": {},
   "outputs": [],
   "source": [
    "# Sample documents\n",
    "documents = [\n",
    "    \"Hello World!\",\n",
    "    \"Hello World again!\",\n",
    "    \"Again Hello, but not World\",\n",
    "    \"Yes!\",\n",
    "]"
   ]
  },
  {
   "cell_type": "code",
   "execution_count": 9,
   "id": "6fa7e877-c7a0-4381-a0e6-cf5a0647ef4e",
   "metadata": {},
   "outputs": [],
   "source": [
    "# Create an instance of CountVectorizer\n",
    "vectorizer = CountVectorizer()\n",
    "\n",
    "# Fit the vectorizer to the documents and transform the documents into a document-term matrix\n",
    "X = vectorizer.fit_transform(documents)\n",
    "\n",
    "# Get the feature names (tokens)\n",
    "feature_names = vectorizer.get_feature_names_out()"
   ]
  },
  {
   "cell_type": "code",
   "execution_count": 10,
   "id": "35b07789-9783-4dd1-b384-256c5f55244c",
   "metadata": {},
   "outputs": [
    {
     "name": "stdout",
     "output_type": "stream",
     "text": [
      "['again' 'but' 'hello' 'not' 'world' 'yes']\n",
      "[[0 0 1 0 1 0]\n",
      " [1 0 1 0 1 0]\n",
      " [1 1 1 1 1 0]\n",
      " [0 0 0 0 0 1]]\n"
     ]
    }
   ],
   "source": [
    "#Print the feature names\n",
    "print(feature_names)\n",
    "\n",
    "# Print the document-term matrix\n",
    "print(X.toarray())"
   ]
  },
  {
   "cell_type": "code",
   "execution_count": 11,
   "id": "9af0573f-8e46-47a4-8a25-40f51f08932b",
   "metadata": {},
   "outputs": [
    {
     "data": {
      "text/plain": [
       "(4, 6)"
      ]
     },
     "execution_count": 11,
     "metadata": {},
     "output_type": "execute_result"
    }
   ],
   "source": [
    "X.toarray().shape"
   ]
  },
  {
   "cell_type": "markdown",
   "id": "bed2747a-f4be-47b6-997a-93ff86f870cc",
   "metadata": {},
   "source": [
    "The 6 columns here corresponds to the 6 unique words in the document. Each row represent the document, the value represent the number of times the word appears in that document. So for instance, the first document has the first represention:"
   ]
  },
  {
   "cell_type": "code",
   "execution_count": 12,
   "id": "876ea453-4d3b-4c77-97bc-2c221b4beac9",
   "metadata": {
    "scrolled": true
   },
   "outputs": [
    {
     "data": {
      "text/plain": [
       "array([0, 0, 1, 0, 1, 0])"
      ]
     },
     "execution_count": 12,
     "metadata": {},
     "output_type": "execute_result"
    }
   ],
   "source": [
    "X.toarray()[0]"
   ]
  },
  {
   "cell_type": "markdown",
   "id": "3c8852bb-898c-4f7a-ab3f-99dbd288d961",
   "metadata": {},
   "source": [
    "that is, just the word **hello** and **world** appears. "
   ]
  },
  {
   "cell_type": "code",
   "execution_count": 13,
   "id": "835af78a-9c74-4731-a1fb-c584e4ceca2c",
   "metadata": {},
   "outputs": [],
   "source": [
    "df_emails = pd.read_csv(\"../datasets/spam-emails.csv\")"
   ]
  },
  {
   "cell_type": "code",
   "execution_count": 14,
   "id": "e8c697fe-ce3c-44f5-b64c-d5f14684eb7d",
   "metadata": {},
   "outputs": [
    {
     "data": {
      "text/html": [
       "<div>\n",
       "<style scoped>\n",
       "    .dataframe tbody tr th:only-of-type {\n",
       "        vertical-align: middle;\n",
       "    }\n",
       "\n",
       "    .dataframe tbody tr th {\n",
       "        vertical-align: top;\n",
       "    }\n",
       "\n",
       "    .dataframe thead th {\n",
       "        text-align: right;\n",
       "    }\n",
       "</style>\n",
       "<table border=\"1\" class=\"dataframe\">\n",
       "  <thead>\n",
       "    <tr style=\"text-align: right;\">\n",
       "      <th></th>\n",
       "      <th>text</th>\n",
       "      <th>spam</th>\n",
       "    </tr>\n",
       "  </thead>\n",
       "  <tbody>\n",
       "    <tr>\n",
       "      <th>0</th>\n",
       "      <td>Subject: naturally irresistible your corporate identity  lt is really hard to recollect a company : the  market is full of suqgestions and the information isoverwhelminq ; but a good  catchy logo , stylish statlonery and outstanding website  will make the task much easier .  we do not promise that havinq ordered a iogo your  company will automaticaily become a world ieader : it isguite ciear that  without good products , effective business organization and practicable aim it  will be hotat nowadays market ; but we do promise that your marketing efforts  will become much more effective . here is the list of clear  benefits : creativeness : hand - made , original logos , specially done  to reflect your distinctive company image . convenience : logo and stationery  are provided in all formats ; easy - to - use content management system letsyou  change your website content and even its structure . promptness : you  will see logo drafts within three business days . affordability : your  marketing break - through shouldn ' t make gaps in your budget . 100 % satisfaction  guaranteed : we provide unlimited amount of changes with no extra fees for you to  be surethat you will love the result of this collaboration . have a look at our  portfolio _ _ _ _ _ _ _ _ _ _ _ _ _ _ _ _ _ _ _ _ _ _ _ _ _ _ _ _ _ _ _ _ _ _ _ _ _ _ _ _ _ _ _ _ _ _ _ _ _ _ _ _ not interested . . . _ _ _ _ _ _ _ _ _ _ _ _ _ _ _ _ _ _ _ _ _ _ _ _ _ _ _ _ _ _ _ _ _ _ _ _ _ _ _ _ _ _ _ _ _ _ _ _ _ _ _ _</td>\n",
       "      <td>1</td>\n",
       "    </tr>\n",
       "    <tr>\n",
       "      <th>1</th>\n",
       "      <td>Subject: the stock trading gunslinger  fanny is merrill but muzo not colza attainder and penultimate like esmark perspicuous ramble is segovia not group try slung kansas tanzania yes chameleon or continuant clothesman no  libretto is chesapeake but tight not waterway herald and hawthorn like chisel morristown superior is deoxyribonucleic not clockwork try hall incredible mcdougall yes hepburn or einsteinian earmark no  sapling is boar but duane not plain palfrey and inflexible like huzzah pepperoni bedtime is nameable not attire try edt chronography optima yes pirogue or diffusion albeit no</td>\n",
       "      <td>1</td>\n",
       "    </tr>\n",
       "    <tr>\n",
       "      <th>2</th>\n",
       "      <td>Subject: unbelievable new homes made easy  im wanting to show you this  homeowner  you have been pre - approved for a $ 454 , 169 home loan at a 3 . 72 fixed rate .  this offer is being extended to you unconditionally and your credit is in no way a factor .  to take advantage of this limited time opportunity  all we ask is that you visit our website and complete  the 1 minute post approval form  look foward to hearing from you ,  dorcas pittman</td>\n",
       "      <td>1</td>\n",
       "    </tr>\n",
       "    <tr>\n",
       "      <th>3</th>\n",
       "      <td>Subject: 4 color printing special  request additional information now ! click here  click here for a printable version of our order form ( pdf format )  phone : ( 626 ) 338 - 8090 fax : ( 626 ) 338 - 8102 e - mail : ramsey @ goldengraphix . com  request additional information now ! click here  click here for a printable version of our order form ( pdf format )  golden graphix &amp; printing 5110 azusa canyon rd . irwindale , ca 91706 this e - mail message is an advertisement and / or solicitation .</td>\n",
       "      <td>1</td>\n",
       "    </tr>\n",
       "    <tr>\n",
       "      <th>4</th>\n",
       "      <td>Subject: do not have money , get software cds from here !  software compatibility . . . . ain ' t it great ?  grow old along with me the best is yet to be .  all tradgedies are finish ' d by death . all comedies are ended by marriage .</td>\n",
       "      <td>1</td>\n",
       "    </tr>\n",
       "  </tbody>\n",
       "</table>\n",
       "</div>"
      ],
      "text/plain": [
       "                                                                                                                                                                                                                                                                                                                                                                                                                                                                                                                                                                                                                                                                                                                                                                                                                                                                                                                                                                                                                                                                                                                                                                                                                                                                                                                                                                                                                                                                                                                                           text  \\\n",
       "0  Subject: naturally irresistible your corporate identity  lt is really hard to recollect a company : the  market is full of suqgestions and the information isoverwhelminq ; but a good  catchy logo , stylish statlonery and outstanding website  will make the task much easier .  we do not promise that havinq ordered a iogo your  company will automaticaily become a world ieader : it isguite ciear that  without good products , effective business organization and practicable aim it  will be hotat nowadays market ; but we do promise that your marketing efforts  will become much more effective . here is the list of clear  benefits : creativeness : hand - made , original logos , specially done  to reflect your distinctive company image . convenience : logo and stationery  are provided in all formats ; easy - to - use content management system letsyou  change your website content and even its structure . promptness : you  will see logo drafts within three business days . affordability : your  marketing break - through shouldn ' t make gaps in your budget . 100 % satisfaction  guaranteed : we provide unlimited amount of changes with no extra fees for you to  be surethat you will love the result of this collaboration . have a look at our  portfolio _ _ _ _ _ _ _ _ _ _ _ _ _ _ _ _ _ _ _ _ _ _ _ _ _ _ _ _ _ _ _ _ _ _ _ _ _ _ _ _ _ _ _ _ _ _ _ _ _ _ _ _ not interested . . . _ _ _ _ _ _ _ _ _ _ _ _ _ _ _ _ _ _ _ _ _ _ _ _ _ _ _ _ _ _ _ _ _ _ _ _ _ _ _ _ _ _ _ _ _ _ _ _ _ _ _ _   \n",
       "1                                                                                                                                                                                                                                                                                                                                                                                                                                                                                                                                                                                                                                                                                                                                                                                                                                                                                                                        Subject: the stock trading gunslinger  fanny is merrill but muzo not colza attainder and penultimate like esmark perspicuous ramble is segovia not group try slung kansas tanzania yes chameleon or continuant clothesman no  libretto is chesapeake but tight not waterway herald and hawthorn like chisel morristown superior is deoxyribonucleic not clockwork try hall incredible mcdougall yes hepburn or einsteinian earmark no  sapling is boar but duane not plain palfrey and inflexible like huzzah pepperoni bedtime is nameable not attire try edt chronography optima yes pirogue or diffusion albeit no    \n",
       "2                                                                                                                                                                                                                                                                                                                                                                                                                                                                                                                                                                                                                                                                                                                                                                                                                                                                                                                                                                                                                                                                              Subject: unbelievable new homes made easy  im wanting to show you this  homeowner  you have been pre - approved for a $ 454 , 169 home loan at a 3 . 72 fixed rate .  this offer is being extended to you unconditionally and your credit is in no way a factor .  to take advantage of this limited time opportunity  all we ask is that you visit our website and complete  the 1 minute post approval form  look foward to hearing from you ,  dorcas pittman   \n",
       "3                                                                                                                                                                                                                                                                                                                                                                                                                                                                                                                                                                                                                                                                                                                                                                                                                                                                                                                                                                                                                          Subject: 4 color printing special  request additional information now ! click here  click here for a printable version of our order form ( pdf format )  phone : ( 626 ) 338 - 8090 fax : ( 626 ) 338 - 8102 e - mail : ramsey @ goldengraphix . com  request additional information now ! click here  click here for a printable version of our order form ( pdf format )  golden graphix & printing 5110 azusa canyon rd . irwindale , ca 91706 this e - mail message is an advertisement and / or solicitation .    \n",
       "4                                                                                                                                                                                                                                                                                                                                                                                                                                                                                                                                                                                                                                                                                                                                                                                                                                                                                                                                                                                                                                                                                                                                                                                                                                                                                                   Subject: do not have money , get software cds from here !  software compatibility . . . . ain ' t it great ?  grow old along with me the best is yet to be .  all tradgedies are finish ' d by death . all comedies are ended by marriage .   \n",
       "\n",
       "   spam  \n",
       "0     1  \n",
       "1     1  \n",
       "2     1  \n",
       "3     1  \n",
       "4     1  "
      ]
     },
     "execution_count": 14,
     "metadata": {},
     "output_type": "execute_result"
    }
   ],
   "source": [
    "df_emails.head(5)"
   ]
  },
  {
   "cell_type": "code",
   "execution_count": 15,
   "id": "c8dcbe85-ebb3-4207-a72d-14e0d2ef299c",
   "metadata": {},
   "outputs": [
    {
     "data": {
      "text/plain": [
       "5728"
      ]
     },
     "execution_count": 15,
     "metadata": {},
     "output_type": "execute_result"
    }
   ],
   "source": [
    "len(df_emails)"
   ]
  },
  {
   "cell_type": "code",
   "execution_count": 16,
   "id": "9b20fc88-ec17-459e-b1d7-83a7d67df4eb",
   "metadata": {},
   "outputs": [],
   "source": [
    "def clean_text(text):\n",
    "    text = text.lower()\n",
    "    \n",
    "    words = text.split()\n",
    "    stop_words = set(stopwords.words('english'))\n",
    "    words =  [word for word in words if word not in stop_words]\n",
    "    \n",
    "    return ' '.join(words)"
   ]
  },
  {
   "cell_type": "code",
   "execution_count": 17,
   "id": "5c3db4d2-dfea-469b-8f37-7a58cc033564",
   "metadata": {},
   "outputs": [],
   "source": [
    "df_emails[\"clean_text\"] = df_emails[\"text\"].apply(clean_text)"
   ]
  },
  {
   "cell_type": "code",
   "execution_count": 18,
   "id": "5012bd3b-08dd-40b2-8022-1d6b6b4a8385",
   "metadata": {},
   "outputs": [
    {
     "data": {
      "text/plain": [
       "'Subject: the stock trading gunslinger  fanny is merrill but muzo not colza attainder and penultimate like esmark perspicuous ramble is segovia not group try slung kansas tanzania yes chameleon or continuant clothesman no  libretto is chesapeake but tight not waterway herald and hawthorn like chisel morristown superior is deoxyribonucleic not clockwork try hall incredible mcdougall yes hepburn or einsteinian earmark no  sapling is boar but duane not plain palfrey and inflexible like huzzah pepperoni bedtime is nameable not attire try edt chronography optima yes pirogue or diffusion albeit no '"
      ]
     },
     "execution_count": 18,
     "metadata": {},
     "output_type": "execute_result"
    }
   ],
   "source": [
    "df_emails[\"text\"][1]"
   ]
  },
  {
   "cell_type": "code",
   "execution_count": 19,
   "id": "d5827806-ae58-416d-9155-29a6bf702705",
   "metadata": {},
   "outputs": [
    {
     "data": {
      "text/plain": [
       "'subject: stock trading gunslinger fanny merrill muzo colza attainder penultimate like esmark perspicuous ramble segovia group try slung kansas tanzania yes chameleon continuant clothesman libretto chesapeake tight waterway herald hawthorn like chisel morristown superior deoxyribonucleic clockwork try hall incredible mcdougall yes hepburn einsteinian earmark sapling boar duane plain palfrey inflexible like huzzah pepperoni bedtime nameable attire try edt chronography optima yes pirogue diffusion albeit'"
      ]
     },
     "execution_count": 19,
     "metadata": {},
     "output_type": "execute_result"
    }
   ],
   "source": [
    "df_emails[\"clean_text\"][1]"
   ]
  },
  {
   "cell_type": "code",
   "execution_count": 20,
   "id": "bb431361-52b3-4879-80ea-24607084e199",
   "metadata": {},
   "outputs": [],
   "source": [
    "X_train, X_test, y_train, y_test = train_test_split(df_emails[\"clean_text\"], df_emails[\"spam\"], test_size=0.2, random_state=42)"
   ]
  },
  {
   "cell_type": "code",
   "execution_count": 21,
   "id": "e06f8a15-b2a0-4fda-b12f-c79a0e95c04a",
   "metadata": {},
   "outputs": [],
   "source": [
    "class BayesFiltering:\n",
    "\n",
    "    def __init__(self):\n",
    "        self.n = 0\n",
    "        self.w_neg = 0\n",
    "        self.w_pos = 0\n",
    "        self.P = np.array([])\n",
    "        self.vectorizer = CountVectorizer()\n",
    "\n",
    "    @staticmethod\n",
    "    def __get_priors(X, y):\n",
    "        num_pos = y.sum()\n",
    "        num_neg = len(y)-num_pos\n",
    "\n",
    "        return num_pos/len(y), num_neg/len(y)\n",
    "\n",
    "    def fit(self, X_train, y_train):\n",
    "        X_vectorized = self.vectorizer.fit_transform(X_train)\n",
    "\n",
    "        self.n = len(self.vectorizer.get_feature_names_out())\n",
    "        self.P = np.zeros((2, self.n))\n",
    "\n",
    "        for i, text_vector in enumerate(X_vectorized):\n",
    "            label = y_train.iloc[i]\n",
    "\n",
    "            # Get the word counts for the email (vectorized form)\n",
    "            word_counts = text_vector.toarray().flatten()  # Flatten the sparse matrix to get word counts\n",
    "\n",
    "            if label == 1:\n",
    "                self.P[0, :] += word_counts  \n",
    "                self.w_pos += word_counts.sum()  \n",
    "            else:  \n",
    "                self.P[1, :] += word_counts  \n",
    "                self.w_neg += word_counts.sum()  \n",
    "\n",
    "\n",
    "        # Step 5: Normalize to get probabilities (Laplace smoothing added to avoid zero probabilities)\n",
    "        self.P[0, :] = (self.P[0, :] + 1) / (self.w_pos + self.n)  # Probability of word given spam (with smoothing)\n",
    "        self.P[1, :] = (self.P[1, :] + 1) / (self.w_neg + self.n)   # Probability of word given ham (with smoothing)\n",
    "\n",
    "        # Set priors\n",
    "        self.prior_pos, self.prior_neg  = self.__get_priors(X_train, y_train)\n",
    "\n",
    "\n",
    "    def __predict_label(self, text):\n",
    "\n",
    "        text_vectorized = self.vectorizer.transform([text]).toarray().flatten()\n",
    "    \n",
    "        log_p_pos = np.log(self.prior_pos)\n",
    "        log_p_neg = np.log(self.prior_neg)\n",
    "\n",
    "        for j, count in enumerate(text_vectorized):\n",
    "            if count > 0:\n",
    "                log_p_pos += count*np.log(self.P[0,j])\n",
    "                log_p_neg += count*np.log(self.P[1,j])\n",
    "    \n",
    "    \n",
    "        if log_p_pos > log_p_neg:\n",
    "            return 1 \n",
    "        else:\n",
    "            return 0\n",
    "\n",
    "    def predict(self, X_test):\n",
    "        predictions = [self.__predict_label(text) for text in X_test]\n",
    "        \n",
    "        return np.array(predictions)"
   ]
  },
  {
   "cell_type": "code",
   "execution_count": 22,
   "id": "56737dc1-3cee-43f5-b3ff-641d0d4892c3",
   "metadata": {},
   "outputs": [],
   "source": [
    "spamFiltering = BayesFiltering()"
   ]
  },
  {
   "cell_type": "code",
   "execution_count": 23,
   "id": "671ebcf5-3e90-4bc8-9687-a472bb48f2bd",
   "metadata": {},
   "outputs": [],
   "source": [
    "spamFiltering.fit(X_train, y_train)"
   ]
  },
  {
   "cell_type": "code",
   "execution_count": 24,
   "id": "cf56dc26-cac2-4d03-9b26-f03611918358",
   "metadata": {},
   "outputs": [],
   "source": [
    "y_pred = spamFiltering.predict(X_test)"
   ]
  },
  {
   "cell_type": "code",
   "execution_count": 25,
   "id": "f0bec44a-66a9-4c91-b993-b7e67922eeb7",
   "metadata": {},
   "outputs": [
    {
     "data": {
      "image/png": "[encoded data removed]",
      "text/plain": [
       "<Figure size 640x480 with 2 Axes>"
      ]
     },
     "metadata": {},
     "output_type": "display_data"
    }
   ],
   "source": [
    "cm = confusion_matrix(y_test, y_pred)\n",
    "sns.heatmap(cm, annot=True, fmt='d', cmap='Greens', xticklabels=['Ham', 'Spam'], yticklabels=['Ham', 'Spam'])\n",
    "plt.xlabel('Predicted Label')\n",
    "plt.ylabel('True Label')\n",
    "plt.title('Confusion Matrix')\n",
    "plt.show()"
   ]
  },
  {
   "cell_type": "code",
   "execution_count": 27,
   "id": "7ca31c4d-cdcd-47f3-991b-d1fa8b481b7a",
   "metadata": {},
   "outputs": [
    {
     "name": "stdout",
     "output_type": "stream",
     "text": [
      "Accuracy: 0.99\n",
      "Precision: 0.98\n",
      "Recall: 0.97\n",
      "F1-score: 0.98\n"
     ]
    }
   ],
   "source": [
    "# Calculate accuracy\n",
    "accuracy = accuracy_score(y_test, y_pred)\n",
    "print(f'Accuracy: {accuracy:.2f}')\n",
    "\n",
    "# Calculate precision\n",
    "precision = precision_score(y_test, y_pred)\n",
    "print(f'Precision: {precision:.2f}')\n",
    "\n",
    "# Calculate recall\n",
    "recall = recall_score(y_test, y_pred)\n",
    "print(f'Recall: {recall:.2f}')\n",
    "\n",
    "# Calculate F1-score\n",
    "f1 = f1_score(y_test, y_pred)\n",
    "print(f'F1-score: {f1:.2f}')"
   ]
  },
  {
   "cell_type": "code",
   "execution_count": null,
   "id": "6fe620c8-f15c-46ef-8d97-2ca8985a9cc4",
   "metadata": {},
   "outputs": [],
   "source": []
  }
 ],
 "metadata": {
  "kernelspec": {
   "display_name": "Python 3 (ipykernel)",
   "language": "python",
   "name": "python3"
  },
  "language_info": {
   "codemirror_mode": {
    "name": "ipython",
    "version": 3
   },
   "file_extension": ".py",
   "mimetype": "text/x-python",
   "name": "python",
   "nbconvert_exporter": "python",
   "pygments_lexer": "ipython3",
   "version": "3.11.9"
  }
 },
 "nbformat": 4,
 "nbformat_minor": 5
}
