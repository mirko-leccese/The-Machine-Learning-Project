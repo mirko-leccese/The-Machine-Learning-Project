{
 "cells": [
  {
   "cell_type": "code",
   "execution_count": 1,
   "id": "4fe7a05a-340c-4ddf-81b8-6edd60036782",
   "metadata": {},
   "outputs": [],
   "source": [
    "import pandas as pd\n",
    "import numpy as np\n",
    "import matplotlib.pyplot as plt\n",
    "import seaborn as sns"
   ]
  },
  {
   "cell_type": "code",
   "execution_count": 2,
   "id": "bd426986-c992-4390-8773-0ec7b94b943b",
   "metadata": {},
   "outputs": [],
   "source": [
    "from sklearn.feature_extraction.text import CountVectorizer\n",
    "from sklearn.model_selection import train_test_split\n",
    "from sklearn.metrics import accuracy_score, precision_score, recall_score, f1_score\n",
    "from sklearn.metrics import confusion_matrix\n",
    "from sklearn.naive_bayes import MultinomialNB\n",
    "from sklearn.base import BaseEstimator, ClassifierMixin\n",
    "from sklearn.model_selection import cross_val_score"
   ]
  },
  {
   "cell_type": "code",
   "execution_count": 3,
   "id": "b40182df-df63-409b-9f02-a2e7d9a0efab",
   "metadata": {},
   "outputs": [],
   "source": [
    "import re"
   ]
  },
  {
   "cell_type": "code",
   "execution_count": 4,
   "id": "12b657e4-9026-475b-8fb4-ef7fd9e69c77",
   "metadata": {},
   "outputs": [],
   "source": [
    "import nltk\n",
    "from nltk.corpus import stopwords"
   ]
  },
  {
   "cell_type": "code",
   "execution_count": 5,
   "id": "755e69d6-da1a-4a87-911d-7cc5e30edfa4",
   "metadata": {},
   "outputs": [],
   "source": [
    "pd.set_option('display.max_colwidth', None)"
   ]
  },
  {
   "cell_type": "code",
   "execution_count": 6,
   "id": "a5c46867-94fb-42bb-8d22-74dadcdf6813",
   "metadata": {},
   "outputs": [
    {
     "name": "stderr",
     "output_type": "stream",
     "text": [
      "[nltk_data] Downloading package stopwords to\n",
      "[nltk_data]     /Users/mirkoleccese/nltk_data...\n",
      "[nltk_data]   Package stopwords is already up-to-date!\n"
     ]
    },
    {
     "data": {
      "text/plain": [
       "True"
      ]
     },
     "execution_count": 6,
     "metadata": {},
     "output_type": "execute_result"
    }
   ],
   "source": [
    "# Download the stopwords from NLTK (this needs to be run only once)\n",
    "nltk.download('stopwords')"
   ]
  },
  {
   "cell_type": "markdown",
   "id": "bfd9701e-6e96-4adc-b37e-dc6652789ad9",
   "metadata": {},
   "source": [
    "# Classification with *Naive Bayes* algorithm \n",
    "\n",
    "In Machine Learning, classification algorithms are methods used to predict a characteristic or \"label\" of a given object. Most traditional methods are **supervised learning** techniques, meaning they utilize a training set of labeled data to learn how to predict new data. Often, classification problems involve binary classification, where we need to determine whether a given property is met or not. Common examples of **binary classification** problems include predicting whether a human tissue sample is cancerous, determining if a financial transaction is fraudulent, or identifying whether an email is spam.\n",
    "\n",
    "There are many algorithms that can be applied to binary classification, but in this notebook, we will specifically focus on the so-called **<span style=\"color: red\">Naive Bayes</span>** method, which leverages the principles of **Bayesian statistics**. In particular, we will code a class to perform Naive Bayes on text data and apply it to the well-known example of *predicting whether an email is spam*, often referred to as **<span style=\"color: red\">Bayesian Filtering</span>**."
   ]
  },
  {
   "cell_type": "markdown",
   "id": "7702ad02-939b-4794-83e3-2cfd128aff5a",
   "metadata": {},
   "source": [
    "## Theoretical introduction\n",
    "\n",
    "Let suppose to have a set of emails $X$ labeled as \"spam\" or \"not spam\". For the sake of notation, we use the letter $x$ to denote a text email and the letter $y$ to denote the binary label, i.e. $y=1$ means \"spam\" while $y=0$ means \"not spam\". According to the **Bayes Theorem**, we could write:\n",
    "$$\n",
    "p(y|x) = \\frac{p(x|y)p(x)}{p(y)}\n",
    "$$\n",
    "that is, the probability of label $y$ given a text $x$ for the email, $p(y|x)$, can be computed from the probability $p(x|y)$, i.e. the probability of a having a text $x$ given the email is spam or not. In the above formula, the term for which we may have a good estimate right from the problem definition is the **prior** probability $p(y)$, i.e. the probability of being spam or not. Indeed, if $N$ is the total number of email and $N_1$, $N_0$ denote respectively the number of spam and not spam emails in the dataset, then \n",
    "$$\n",
    "\\begin{gather}\n",
    "p(y=1) \\approx \\frac{N_1}{N} \\\\\n",
    "p(y=0) \\approx \\frac{N_0}{N} \n",
    "\\end{gather}\n",
    "$$"
   ]
  },
  {
   "cell_type": "markdown",
   "id": "a48aca19-6d76-4188-aa61-90e89c0096a8",
   "metadata": {},
   "source": [
    "The problem, however, is that we do not know neither the probability $p(x|y)$ or the $p(x)$ probability, i.e. the probability of observing a given email text, regardless its nature. We may dispose of knowing $p(x)$ if we accept of quantifying just the following ratio:\n",
    "$$\n",
    "R(x) = \\frac{p(y=1| x)}{p(y=0|x)} = \\frac{p(x|y=1)}{p(y=1)} \\frac{p(y=0)}{p(x|y=0)}\n",
    "$$\n",
    "Thus, we may decide that the email is spam whenever $R(x)$ exceeds a given threshold $t$. Of course, if $t$ is too large, our algorithm will be too conservative and classifiy spam emails as not spam. On the other hand, if $t$ is too small, the algorithm will overclassify emails as spam. Nevertheless, the problem remains the estimate of the $p(x|y)$ probability. The **Naive Bayes** approach looks for an approximation of such prior, simplying the problem by introducing the hypothesis of statistical indpendence between words. In other words, we assume the following form:\n",
    "$$\n",
    "p(x|y) \\approx \\prod_{i=1}^{n_x} p(w^{i}| y)\n",
    "$$\n",
    "where $w^{i}$ denotes the $i$-th word in text $x$, $n_x$ denotes the total number of words in text $x$ and the sum runs over all words in text $x$. Writing such probability as a product of $p(w^i|y)$ probabilities amounts to the assumption of statistical independence between words. Of course, this is a strong assumption and may not be true in general, but in most cases it provides a good approximation of the prior probability. To estimate $p(w^i|y)$ we can use a frequentistic approach, i.e.\n",
    "$$\n",
    "p(w^i|y=1) = \\frac{\\sum_x^N \\sum_j \\delta_{ij} \\delta(x;y=1)}{\\sum_x^N \\sum_j \\delta(x;y=1)}\n",
    "$$\n",
    "where $\\delta(x;y=1)$ is a shortand notation to indicate $1$ if the text $x$ has label $y=1$, otherwise 0. Therefore, in the numerator, we sum $1$ for each document $x$ and each word $j$ if the $j$-th word of text $x$ is the word $w^i$ and the text has label $y=1$. The denominator is simply the total number of words in texts labeled as $y=1$.  Similarly, we can estimate $p(w^i|y=0)$. "
   ]
  },
  {
   "cell_type": "markdown",
   "id": "cf5c4572-e77a-4bb5-9f06-357331a2a276",
   "metadata": {},
   "source": [
    "## The Algorithm\n",
    "\n",
    "The above formula can be translated in the following algorithm:\n",
    "\n",
    "$$\n",
    "\\boxed{\n",
    "\\begin{array}{l}\n",
    "\\textbf{Naive Bayes Algorithm} \\\\\n",
    "\\hline \\\\\n",
    "\\ \\ \\textbf{Training}(X,Y) \\\\\n",
    "\\ \\ \\ \\ \\text{Extract full dictionary} \\ D \\ \\text{from} \\ X \\ \\text{with} \\ n \\ \\text{words} \\\\\n",
    "\\ \\ \\ \\ \\text{Compute} \\ N,N(y=1), N(y=0) \\\\\n",
    "\\ \\ \\ \\ \\text{Initialize the probability matrix} \\ P\\in \\mathbb{R}^{2\\times n}, P_{ij}=0 \\\\\n",
    "\\ \\ \\ \\ \\text{Compute priors:} \\\\ \n",
    "\\ \\ \\ \\ \\ \\ \\ \\log(p_1)=\\log(p(y=1))=\\log(N_1/N) \\\\\n",
    "\\ \\ \\ \\ \\ \\ \\ \\log(p_0)=\\log(p(y=0))=\\log(N_0/N) \\\\\n",
    "\\ \\ \\ \\ \\textbf{Count word occurences} \\\\\n",
    "\\ \\ \\ \\ f_i^j \\ \\text{denotes the frequency of word j in text i} \\\\\n",
    "\\ \\ \\ \\ \\text{for} \\ i = 1 \\ \\text{to} \\ N \\ \\text{do} \\\\\n",
    "\\ \\ \\ \\ \\ \\ \\text{if} \\ y=1 \\ \\text{then} \\\\\n",
    "\\ \\ \\ \\ \\ \\ \\ \\ \\text{for} \\ j=1 \\ \\text{to} \\ n \\ \\text{do} \\\\\n",
    "\\ \\ \\ \\ \\ \\ \\ \\ \\ \\ P_{0j} \\leftarrow P_{0j} + f_i^j \\\\ \n",
    "\\ \\ \\ \\ \\ \\ \\ \\ \\ \\ w_0 \\leftarrow w_0 + f_i^j \\\\ \n",
    "\\ \\ \\ \\ \\ \\ \\ \\ \\text{endfor} \\\\\n",
    "\\ \\ \\ \\ \\ \\ \\text{else} \\\\\n",
    "\\ \\ \\ \\ \\ \\ \\ \\ \\text{for} \\ j=1 \\ \\text{to} \\ n \\ \\text{do} \\\\\n",
    "\\ \\ \\ \\ \\ \\ \\ \\ \\ \\ P_{1j} \\leftarrow P_{1j} + f_i^j \\\\ \n",
    "\\ \\ \\ \\ \\ \\ \\ \\ \\ \\ w_1 \\leftarrow w_1 + f_i^j \\\\ \n",
    "\\ \\ \\ \\ \\ \\ \\ \\ \\text{endfor} \\\\\n",
    "\\ \\ \\ \\ \\ \\ \\text{endif} \\\\\n",
    "\\ \\ \\ \\ \\text{endfor} \\\\\n",
    "\\ \\ \\ \\ \\textbf{Normalization} \\\\\n",
    "\\ \\ \\ \\ \\text{for} \\ j = 1 \\ \\text{to} \\ N \\ \\text{do} \\\\\n",
    "\\ \\ \\ \\ \\ \\ P_{0j} \\leftarrow (P_{0j} + 1) / (w_0 + n) \\\\\n",
    "\\ \\ \\ \\ \\ \\ P_{1j} \\leftarrow (P_{1j} + 1) / (w_1 + n) \\\\\n",
    "\\ \\ \\ \\ \\text{endfor} \\\\\n",
    "\\ \\ \\textbf{Classify}(x) \\\\\n",
    "\\ \\ \\ \\ \\log(p(x|y=0)) \\leftarrow \\log(p_0) \\\\\n",
    "\\ \\ \\ \\ \\log(p(x|y=1)) \\leftarrow \\log(p_1) \\\\\n",
    "\\ \\ \\ \\ \\text{for} \\ j=1 \\ \\text{to} \\ n \\ \\text{do} \\\\\n",
    "\\ \\ \\ \\ \\ \\log(p(x|y=0)) \\leftarrow \\log(p(x|y=0)) + \\log(P_{0j}) \\\\\n",
    "\\ \\ \\ \\ \\ \\log(p(x|y=1)) \\leftarrow \\log(p(x|y=1)) + \\log(P_{1j}) \\\\\n",
    "\\ \\ \\ \\ \\text{endfor} \\\\\n",
    "\\ \\ \\ \\ \\text{if} \\ \\log(p(x|y=0)) > \\log(p(x|y=1)) \\ \\text{return 0 else 1} \\\\\n",
    "\\end{array}\n",
    "}\n",
    "$$\n",
    "\n",
    "We emphasize two points of the above algorithm:\n",
    "1. Instead of computing products of probabilities we are summing over the logarithms of each term. This can prevent numerical overflow or underflow when working with large products;\n",
    "2. In the normalization step, we increment probabilities by 1. This technique is called **additive or Laplace smoothing** ([Wikipedia](https://en.wikipedia.org/wiki/Additive_smoothing)) and can help in addressing the issue of estimating $p(w|y)$ for unseen words. Indeed, with such refinement, once trained the model on $X, Y$, we may use the estimated conditional probabilities to classify texts containing words not available in the dictionary, without the need of re-training each time. Of course, in real-life scenarios, it may useful to re-train after some time as the training set gets larger.\n",
    "\n",
    "Below, we code a Python class to perform Naive Bayes on a popular toy dataset, the **<span style=\"color: red\">Emails dataset</span>**, containing some emails labeled as **spam** ($y=1$) or **not spam** ($y=0$). However, before delving into the Python `class` development, let briefly review how to use the `CountVectorizer`,  a scikit-learn class that allows to easily create a numerical matrix represention of text documents. "
   ]
  },
  {
   "cell_type": "markdown",
   "id": "382b389e-10ab-4258-ab18-2b6b71ce8104",
   "metadata": {},
   "source": [
    "## Interacting with the `CountVectorizer` class\n",
    "\n",
    "`scikit-learn` provides a simple and efficient class to generate word counts from a text and interact with them. Before coding our Bayesian Filtering classifier, let's practice with this object. Let's consider the following documents collection represented as a list of strings:"
   ]
  },
  {
   "cell_type": "code",
   "execution_count": 7,
   "id": "8f9488a3-680c-46e1-b34b-d7b8e89fff58",
   "metadata": {},
   "outputs": [],
   "source": [
    "# Sample documents\n",
    "documents = [\n",
    "    \"Hello World!\",\n",
    "    \"Hello World again!\",\n",
    "    \"Again Hello, but not World\",\n",
    "    \"Yes!\",\n",
    "]"
   ]
  },
  {
   "cell_type": "markdown",
   "id": "8485ccd3-3f06-4d02-bf7f-cb5131e5ece8",
   "metadata": {},
   "source": [
    "Let instantiate the `CountVectorizer()` class and fit `documents`:"
   ]
  },
  {
   "cell_type": "code",
   "execution_count": 8,
   "id": "6fa7e877-c7a0-4381-a0e6-cf5a0647ef4e",
   "metadata": {},
   "outputs": [],
   "source": [
    "# Create an instance of CountVectorizer\n",
    "vectorizer = CountVectorizer()\n",
    "\n",
    "# Fit the vectorizer to the documents and transform the documents into a document-term matrix\n",
    "X = vectorizer.fit_transform(documents)"
   ]
  },
  {
   "cell_type": "markdown",
   "id": "3ab3c1d8-f303-490e-b3bc-67f0b07ba2fd",
   "metadata": {},
   "source": [
    "Basically, what does this class do is to build a dictionary of all words found across all documents and compute the frequency of each word in each document. By using the method `.get_feature_names_out()` we can extract list of unique words making up the dictionary. "
   ]
  },
  {
   "cell_type": "code",
   "execution_count": 9,
   "id": "6dee10b5-6608-4620-b913-69ebe83d7001",
   "metadata": {},
   "outputs": [],
   "source": [
    "# Get the feature names (tokens)\n",
    "feature_names = vectorizer.get_feature_names_out()"
   ]
  },
  {
   "cell_type": "code",
   "execution_count": 10,
   "id": "24e34846-1fe3-4696-93cc-f83fbed22285",
   "metadata": {},
   "outputs": [
    {
     "data": {
      "text/plain": [
       "array(['again', 'but', 'hello', 'not', 'world', 'yes'], dtype=object)"
      ]
     },
     "execution_count": 10,
     "metadata": {},
     "output_type": "execute_result"
    }
   ],
   "source": [
    "feature_names"
   ]
  },
  {
   "cell_type": "markdown",
   "id": "11953fe2-e36a-4c03-9502-5e6c2bef18fc",
   "metadata": {},
   "source": [
    "Notice that the punctuation has been removed. If we convert `X` to an array, we can see the frequency of each word. This is basically a **one-hot** representation of original documents list:"
   ]
  },
  {
   "cell_type": "code",
   "execution_count": 11,
   "id": "35b07789-9783-4dd1-b384-256c5f55244c",
   "metadata": {},
   "outputs": [
    {
     "name": "stdout",
     "output_type": "stream",
     "text": [
      "['again' 'but' 'hello' 'not' 'world' 'yes']\n",
      "[[0 0 1 0 1 0]\n",
      " [1 0 1 0 1 0]\n",
      " [1 1 1 1 1 0]\n",
      " [0 0 0 0 0 1]]\n"
     ]
    }
   ],
   "source": [
    "# Print the document-term matrix\n",
    "print(feature_names)\n",
    "\n",
    "print(X.toarray())"
   ]
  },
  {
   "cell_type": "code",
   "execution_count": 12,
   "id": "9af0573f-8e46-47a4-8a25-40f51f08932b",
   "metadata": {},
   "outputs": [
    {
     "data": {
      "text/plain": [
       "(4, 6)"
      ]
     },
     "execution_count": 12,
     "metadata": {},
     "output_type": "execute_result"
    }
   ],
   "source": [
    "X.toarray().shape"
   ]
  },
  {
   "cell_type": "markdown",
   "id": "bed2747a-f4be-47b6-997a-93ff86f870cc",
   "metadata": {},
   "source": [
    "The 6 columns here corresponds to the 6 unique words found across the documents collection. Each row represent the document, the value represent the number of times the word appears in that document. Each row is then a one-hot represention of a document. For the first one, for instance:"
   ]
  },
  {
   "cell_type": "code",
   "execution_count": 13,
   "id": "876ea453-4d3b-4c77-97bc-2c221b4beac9",
   "metadata": {
    "scrolled": true
   },
   "outputs": [
    {
     "data": {
      "text/plain": [
       "array([0, 0, 1, 0, 1, 0])"
      ]
     },
     "execution_count": 13,
     "metadata": {},
     "output_type": "execute_result"
    }
   ],
   "source": [
    "X.toarray()[0]"
   ]
  },
  {
   "cell_type": "markdown",
   "id": "3c8852bb-898c-4f7a-ab3f-99dbd288d961",
   "metadata": {},
   "source": [
    "that is, the document contains just the word **hello** and **world**. "
   ]
  },
  {
   "cell_type": "markdown",
   "id": "c7d4fec7-17c0-4359-8096-fcec639dc676",
   "metadata": {},
   "source": [
    "## The *spam email* dataset\n",
    "\n",
    "Let's now work on a typical dataset considered when illustrating the *naive Bayes* approach, the `spam-emails` dataset. This dataset consists of a collection of emails that have been classified as *spam* or *not spam*. Our goal is to build a classifier which is able to predict whether an email is spam or not."
   ]
  },
  {
   "cell_type": "code",
   "execution_count": 14,
   "id": "835af78a-9c74-4731-a1fb-c584e4ceca2c",
   "metadata": {},
   "outputs": [],
   "source": [
    "df_emails = pd.read_csv(\"../datasets/spam-emails.csv\")"
   ]
  },
  {
   "cell_type": "code",
   "execution_count": 15,
   "id": "e8c697fe-ce3c-44f5-b64c-d5f14684eb7d",
   "metadata": {},
   "outputs": [
    {
     "data": {
      "text/html": [
       "<div>\n",
       "<style scoped>\n",
       "    .dataframe tbody tr th:only-of-type {\n",
       "        vertical-align: middle;\n",
       "    }\n",
       "\n",
       "    .dataframe tbody tr th {\n",
       "        vertical-align: top;\n",
       "    }\n",
       "\n",
       "    .dataframe thead th {\n",
       "        text-align: right;\n",
       "    }\n",
       "</style>\n",
       "<table border=\"1\" class=\"dataframe\">\n",
       "  <thead>\n",
       "    <tr style=\"text-align: right;\">\n",
       "      <th></th>\n",
       "      <th>text</th>\n",
       "      <th>spam</th>\n",
       "    </tr>\n",
       "  </thead>\n",
       "  <tbody>\n",
       "    <tr>\n",
       "      <th>0</th>\n",
       "      <td>Subject: naturally irresistible your corporate identity  lt is really hard to recollect a company : the  market is full of suqgestions and the information isoverwhelminq ; but a good  catchy logo , stylish statlonery and outstanding website  will make the task much easier .  we do not promise that havinq ordered a iogo your  company will automaticaily become a world ieader : it isguite ciear that  without good products , effective business organization and practicable aim it  will be hotat nowadays market ; but we do promise that your marketing efforts  will become much more effective . here is the list of clear  benefits : creativeness : hand - made , original logos , specially done  to reflect your distinctive company image . convenience : logo and stationery  are provided in all formats ; easy - to - use content management system letsyou  change your website content and even its structure . promptness : you  will see logo drafts within three business days . affordability : your  marketing break - through shouldn ' t make gaps in your budget . 100 % satisfaction  guaranteed : we provide unlimited amount of changes with no extra fees for you to  be surethat you will love the result of this collaboration . have a look at our  portfolio _ _ _ _ _ _ _ _ _ _ _ _ _ _ _ _ _ _ _ _ _ _ _ _ _ _ _ _ _ _ _ _ _ _ _ _ _ _ _ _ _ _ _ _ _ _ _ _ _ _ _ _ not interested . . . _ _ _ _ _ _ _ _ _ _ _ _ _ _ _ _ _ _ _ _ _ _ _ _ _ _ _ _ _ _ _ _ _ _ _ _ _ _ _ _ _ _ _ _ _ _ _ _ _ _ _ _</td>\n",
       "      <td>1</td>\n",
       "    </tr>\n",
       "    <tr>\n",
       "      <th>1</th>\n",
       "      <td>Subject: the stock trading gunslinger  fanny is merrill but muzo not colza attainder and penultimate like esmark perspicuous ramble is segovia not group try slung kansas tanzania yes chameleon or continuant clothesman no  libretto is chesapeake but tight not waterway herald and hawthorn like chisel morristown superior is deoxyribonucleic not clockwork try hall incredible mcdougall yes hepburn or einsteinian earmark no  sapling is boar but duane not plain palfrey and inflexible like huzzah pepperoni bedtime is nameable not attire try edt chronography optima yes pirogue or diffusion albeit no</td>\n",
       "      <td>1</td>\n",
       "    </tr>\n",
       "    <tr>\n",
       "      <th>2</th>\n",
       "      <td>Subject: unbelievable new homes made easy  im wanting to show you this  homeowner  you have been pre - approved for a $ 454 , 169 home loan at a 3 . 72 fixed rate .  this offer is being extended to you unconditionally and your credit is in no way a factor .  to take advantage of this limited time opportunity  all we ask is that you visit our website and complete  the 1 minute post approval form  look foward to hearing from you ,  dorcas pittman</td>\n",
       "      <td>1</td>\n",
       "    </tr>\n",
       "    <tr>\n",
       "      <th>3</th>\n",
       "      <td>Subject: 4 color printing special  request additional information now ! click here  click here for a printable version of our order form ( pdf format )  phone : ( 626 ) 338 - 8090 fax : ( 626 ) 338 - 8102 e - mail : ramsey @ goldengraphix . com  request additional information now ! click here  click here for a printable version of our order form ( pdf format )  golden graphix &amp; printing 5110 azusa canyon rd . irwindale , ca 91706 this e - mail message is an advertisement and / or solicitation .</td>\n",
       "      <td>1</td>\n",
       "    </tr>\n",
       "    <tr>\n",
       "      <th>4</th>\n",
       "      <td>Subject: do not have money , get software cds from here !  software compatibility . . . . ain ' t it great ?  grow old along with me the best is yet to be .  all tradgedies are finish ' d by death . all comedies are ended by marriage .</td>\n",
       "      <td>1</td>\n",
       "    </tr>\n",
       "  </tbody>\n",
       "</table>\n",
       "</div>"
      ],
      "text/plain": [
       "                                                                                                                                                                                                                                                                                                                                                                                                                                                                                                                                                                                                                                                                                                                                                                                                                                                                                                                                                                                                                                                                                                                                                                                                                                                                                                                                                                                                                                                                                                                                           text  \\\n",
       "0  Subject: naturally irresistible your corporate identity  lt is really hard to recollect a company : the  market is full of suqgestions and the information isoverwhelminq ; but a good  catchy logo , stylish statlonery and outstanding website  will make the task much easier .  we do not promise that havinq ordered a iogo your  company will automaticaily become a world ieader : it isguite ciear that  without good products , effective business organization and practicable aim it  will be hotat nowadays market ; but we do promise that your marketing efforts  will become much more effective . here is the list of clear  benefits : creativeness : hand - made , original logos , specially done  to reflect your distinctive company image . convenience : logo and stationery  are provided in all formats ; easy - to - use content management system letsyou  change your website content and even its structure . promptness : you  will see logo drafts within three business days . affordability : your  marketing break - through shouldn ' t make gaps in your budget . 100 % satisfaction  guaranteed : we provide unlimited amount of changes with no extra fees for you to  be surethat you will love the result of this collaboration . have a look at our  portfolio _ _ _ _ _ _ _ _ _ _ _ _ _ _ _ _ _ _ _ _ _ _ _ _ _ _ _ _ _ _ _ _ _ _ _ _ _ _ _ _ _ _ _ _ _ _ _ _ _ _ _ _ not interested . . . _ _ _ _ _ _ _ _ _ _ _ _ _ _ _ _ _ _ _ _ _ _ _ _ _ _ _ _ _ _ _ _ _ _ _ _ _ _ _ _ _ _ _ _ _ _ _ _ _ _ _ _   \n",
       "1                                                                                                                                                                                                                                                                                                                                                                                                                                                                                                                                                                                                                                                                                                                                                                                                                                                                                                                        Subject: the stock trading gunslinger  fanny is merrill but muzo not colza attainder and penultimate like esmark perspicuous ramble is segovia not group try slung kansas tanzania yes chameleon or continuant clothesman no  libretto is chesapeake but tight not waterway herald and hawthorn like chisel morristown superior is deoxyribonucleic not clockwork try hall incredible mcdougall yes hepburn or einsteinian earmark no  sapling is boar but duane not plain palfrey and inflexible like huzzah pepperoni bedtime is nameable not attire try edt chronography optima yes pirogue or diffusion albeit no    \n",
       "2                                                                                                                                                                                                                                                                                                                                                                                                                                                                                                                                                                                                                                                                                                                                                                                                                                                                                                                                                                                                                                                                              Subject: unbelievable new homes made easy  im wanting to show you this  homeowner  you have been pre - approved for a $ 454 , 169 home loan at a 3 . 72 fixed rate .  this offer is being extended to you unconditionally and your credit is in no way a factor .  to take advantage of this limited time opportunity  all we ask is that you visit our website and complete  the 1 minute post approval form  look foward to hearing from you ,  dorcas pittman   \n",
       "3                                                                                                                                                                                                                                                                                                                                                                                                                                                                                                                                                                                                                                                                                                                                                                                                                                                                                                                                                                                                                          Subject: 4 color printing special  request additional information now ! click here  click here for a printable version of our order form ( pdf format )  phone : ( 626 ) 338 - 8090 fax : ( 626 ) 338 - 8102 e - mail : ramsey @ goldengraphix . com  request additional information now ! click here  click here for a printable version of our order form ( pdf format )  golden graphix & printing 5110 azusa canyon rd . irwindale , ca 91706 this e - mail message is an advertisement and / or solicitation .    \n",
       "4                                                                                                                                                                                                                                                                                                                                                                                                                                                                                                                                                                                                                                                                                                                                                                                                                                                                                                                                                                                                                                                                                                                                                                                                                                                                                                   Subject: do not have money , get software cds from here !  software compatibility . . . . ain ' t it great ?  grow old along with me the best is yet to be .  all tradgedies are finish ' d by death . all comedies are ended by marriage .   \n",
       "\n",
       "   spam  \n",
       "0     1  \n",
       "1     1  \n",
       "2     1  \n",
       "3     1  \n",
       "4     1  "
      ]
     },
     "execution_count": 15,
     "metadata": {},
     "output_type": "execute_result"
    }
   ],
   "source": [
    "df_emails.head(5)"
   ]
  },
  {
   "cell_type": "code",
   "execution_count": 16,
   "id": "c8dcbe85-ebb3-4207-a72d-14e0d2ef299c",
   "metadata": {},
   "outputs": [
    {
     "data": {
      "text/plain": [
       "5728"
      ]
     },
     "execution_count": 16,
     "metadata": {},
     "output_type": "execute_result"
    }
   ],
   "source": [
    "len(df_emails)"
   ]
  },
  {
   "cell_type": "markdown",
   "id": "df6c099d-7143-4703-8ed7-ca0307ce1604",
   "metadata": {},
   "source": [
    "We have **5728** emails. First, we need to check whether the dataset is *imbalanced*, meaning that one class dominates the other. An imbalanced dataset can make it more challenging to train an effective classifier."
   ]
  },
  {
   "cell_type": "code",
   "execution_count": 17,
   "id": "3a1ae192-503b-45cd-9b47-6639603ca742",
   "metadata": {},
   "outputs": [
    {
     "data": {
      "text/plain": [
       "<matplotlib.legend.Legend at 0x126b1fed0>"
      ]
     },
     "execution_count": 17,
     "metadata": {},
     "output_type": "execute_result"
    },
    {
     "data": {
      "image/png": "[encoded data removed]",
      "text/plain": [
       "<Figure size 500x500 with 1 Axes>"
      ]
     },
     "metadata": {},
     "output_type": "display_data"
    }
   ],
   "source": [
    "fig, ax = plt.subplots(figsize=(5,5))\n",
    "\n",
    "values = [len(df_emails[df_emails[\"spam\"]==i]) for i in [0, 1]]\n",
    "labels = [\"not spam\", \"spam\"]\n",
    "\n",
    "percs = [x/sum(values) for x in values]\n",
    "\n",
    "bars = ax.bar(labels, height=values, color=[\"green\", \"red\"], alpha=0.5, label=labels)\n",
    "\n",
    "for i, bar in enumerate(bars):\n",
    "    x = bar.get_x()\n",
    "    width = bar.get_width()\n",
    "    y = bar.get_height()\n",
    "    ax.text(x+width/2, y / 2, f\"{str(round(percs[i]*100, 1))}%\", ha='center', va='center', color=\"white\", fontweight=\"bold\")\n",
    "\n",
    "ax.legend()"
   ]
  },
  {
   "cell_type": "markdown",
   "id": "aff1d2b1-9e88-4a05-9c77-48b9c9da878f",
   "metadata": {},
   "source": [
    "The **76.1%** of emails in the dataset is classified as \"not spam\", while the **23.9%** as \"spam\". Fortunately, there are less spam emails than not spam, but the dataset is not particularly imbalanced. We have a lot of \"positive\" examples (i.e. spam) that can be used during the training phase. \n",
    "\n",
    "Before applying the naive Bayes approach and train our classifier, we must do some preprocessing. There is no standard procedure to follow in this phase. How to pre-process and what transformations to apply depends on the dataset we are working on. Here, we are working on a \"toy\" dataset that does not need too much preprocessing, but in real life situation this phase may be time-consuming and also critical for subsquent training. Below, we code and apply a function to *clean* the email text. In particular, here we will limit to:\n",
    "1. Convert any word to lowercase;\n",
    "2. Removing **stop words**. Stopwords are words such articles, conjuctions, prepositions, etc. which do not have any particular semantic meaning and so they may be not relevant for classification.\n",
    "In some applications, it may useful to remove also numbers and special characters but for the case of \"spam/not spam\" emails, the presence of numbers or non-alphabetical characters may be more frequent in spam emails than not spam."
   ]
  },
  {
   "cell_type": "code",
   "execution_count": 18,
   "id": "9b20fc88-ec17-459e-b1d7-83a7d67df4eb",
   "metadata": {},
   "outputs": [],
   "source": [
    "def preprocess(text: str) -> str:\n",
    "    # Convert to lowercase\n",
    "    text = text.lower()\n",
    "\n",
    "    # Split words\n",
    "    words = text.split()\n",
    "\n",
    "    # Removing stopwords\n",
    "    stop_words = set(stopwords.words('english'))\n",
    "    words =  [word for word in words if word not in stop_words]\n",
    "    \n",
    "    return ' '.join(words)"
   ]
  },
  {
   "cell_type": "code",
   "execution_count": 19,
   "id": "5c3db4d2-dfea-469b-8f37-7a58cc033564",
   "metadata": {},
   "outputs": [],
   "source": [
    "# Applying preprocess \n",
    "df_emails[\"clean_text\"] = df_emails[\"text\"].apply(preprocess)"
   ]
  },
  {
   "cell_type": "code",
   "execution_count": 20,
   "id": "5012bd3b-08dd-40b2-8022-1d6b6b4a8385",
   "metadata": {},
   "outputs": [
    {
     "data": {
      "text/plain": [
       "'Subject: the stock trading gunslinger  fanny is merrill but muzo not colza attainder and penultimate like esmark perspicuous ramble is segovia not group try slung kansas tanzania yes chameleon or continuant clothesman no  libretto is chesapeake but tight not waterway herald and hawthorn like chisel morristown superior is deoxyribonucleic not clockwork try hall incredible mcdougall yes hepburn or einsteinian earmark no  sapling is boar but duane not plain palfrey and inflexible like huzzah pepperoni bedtime is nameable not attire try edt chronography optima yes pirogue or diffusion albeit no '"
      ]
     },
     "execution_count": 20,
     "metadata": {},
     "output_type": "execute_result"
    }
   ],
   "source": [
    "df_emails[\"text\"][1]"
   ]
  },
  {
   "cell_type": "code",
   "execution_count": 21,
   "id": "d5827806-ae58-416d-9155-29a6bf702705",
   "metadata": {},
   "outputs": [
    {
     "data": {
      "text/plain": [
       "'subject: stock trading gunslinger fanny merrill muzo colza attainder penultimate like esmark perspicuous ramble segovia group try slung kansas tanzania yes chameleon continuant clothesman libretto chesapeake tight waterway herald hawthorn like chisel morristown superior deoxyribonucleic clockwork try hall incredible mcdougall yes hepburn einsteinian earmark sapling boar duane plain palfrey inflexible like huzzah pepperoni bedtime nameable attire try edt chronography optima yes pirogue diffusion albeit'"
      ]
     },
     "execution_count": 21,
     "metadata": {},
     "output_type": "execute_result"
    }
   ],
   "source": [
    "df_emails[\"clean_text\"][1]"
   ]
  },
  {
   "cell_type": "markdown",
   "id": "6999b1e1-1faf-4201-9447-2c1d689aaff1",
   "metadata": {},
   "source": [
    "We split our dataset into a training and a test set. We apply a standard **80/20** proportion: "
   ]
  },
  {
   "cell_type": "code",
   "execution_count": 22,
   "id": "bb431361-52b3-4879-80ea-24607084e199",
   "metadata": {},
   "outputs": [],
   "source": [
    "X_train, X_test, y_train, y_test = train_test_split(df_emails[\"clean_text\"], df_emails[\"spam\"], test_size=0.2, random_state=42)"
   ]
  },
  {
   "cell_type": "markdown",
   "id": "0ba0c0c4-8bb1-44f9-860a-cb46504b25b9",
   "metadata": {},
   "source": [
    "Below, we have the `BayesFiltering` class, which collects all method to train a naive Bayes classifier on documents. Let's apply it to our cleaned email dataset and check out how it performs!"
   ]
  },
  {
   "cell_type": "code",
   "execution_count": 23,
   "id": "e06f8a15-b2a0-4fda-b12f-c79a0e95c04a",
   "metadata": {},
   "outputs": [],
   "source": [
    "class BayesFiltering:\n",
    "\n",
    "    def __init__(self):\n",
    "        self.n = 0\n",
    "        self.w_neg = 0\n",
    "        self.w_pos = 0\n",
    "        self.P = np.array([])\n",
    "        self.vectorizer = CountVectorizer()\n",
    "\n",
    "    @staticmethod\n",
    "    def __get_priors(X, y):\n",
    "        '''\n",
    "        Computing prior probabilities\n",
    "        '''\n",
    "        num_pos = y.sum()\n",
    "        num_neg = len(y)-num_pos\n",
    "\n",
    "        return num_pos/len(y), num_neg/len(y)\n",
    "\n",
    "    def fit(self, X_train, y_train) -> None:\n",
    "        '''\n",
    "        Method to fit the naive Bayes classifier to the training set.\n",
    "\n",
    "        :params X_train: features training set \n",
    "        :params y_train: the label training set \n",
    "        '''\n",
    "        X_vectorized = self.vectorizer.fit_transform(X_train)\n",
    "\n",
    "        self.n = len(self.vectorizer.get_feature_names_out())\n",
    "        self.P = np.zeros((2, self.n))\n",
    "\n",
    "        for i, text_vector in enumerate(X_vectorized):\n",
    "            label = y_train.iloc[i]\n",
    "\n",
    "            # Get the word counts for the email (vectorized form)\n",
    "            word_counts = text_vector.toarray().flatten()  # Flatten the sparse matrix to get word counts\n",
    "\n",
    "            if label == 1:\n",
    "                self.P[0, :] += word_counts  \n",
    "                self.w_pos += word_counts.sum()  \n",
    "            else:  \n",
    "                self.P[1, :] += word_counts  \n",
    "                self.w_neg += word_counts.sum()  \n",
    "\n",
    "\n",
    "        # Step 5: Normalize to get probabilities (Laplace smoothing added to avoid zero probabilities)\n",
    "        self.P[0, :] = (self.P[0, :] + 1) / (self.w_pos + self.n)  # Probability of word given positive class (with smoothing)\n",
    "        self.P[1, :] = (self.P[1, :] + 1) / (self.w_neg + self.n)   # Probability of word given negative class (with smoothing)\n",
    "\n",
    "        # Set priors\n",
    "        self.prior_pos, self.prior_neg  = self.__get_priors(X_train, y_train)\n",
    "\n",
    "\n",
    "    def __predict_label(self, text: str) -> int:\n",
    "        '''\n",
    "        Private method to classify a single text \n",
    "        '''\n",
    "\n",
    "        text_vectorized = self.vectorizer.transform([text]).toarray().flatten()\n",
    "    \n",
    "        log_p_pos = np.log(self.prior_pos)\n",
    "        log_p_neg = np.log(self.prior_neg)\n",
    "\n",
    "        for j, count in enumerate(text_vectorized):\n",
    "            if count > 0:\n",
    "                log_p_pos += count*np.log(self.P[0,j])\n",
    "                log_p_neg += count*np.log(self.P[1,j])\n",
    "    \n",
    "    \n",
    "        if log_p_pos > log_p_neg:\n",
    "            return 1 \n",
    "        else:\n",
    "            return 0\n",
    "\n",
    "    def predict(self, X_test) -> np.array:\n",
    "        '''\n",
    "        Method to classify new data\n",
    "        '''\n",
    "        predictions = [self.__predict_label(text) for text in X_test]\n",
    "        \n",
    "        return np.array(predictions)"
   ]
  },
  {
   "cell_type": "code",
   "execution_count": 24,
   "id": "56737dc1-3cee-43f5-b3ff-641d0d4892c3",
   "metadata": {},
   "outputs": [],
   "source": [
    "spamFiltering = BayesFiltering()"
   ]
  },
  {
   "cell_type": "code",
   "execution_count": 25,
   "id": "671ebcf5-3e90-4bc8-9687-a472bb48f2bd",
   "metadata": {},
   "outputs": [],
   "source": [
    "# Fit class to training set\n",
    "spamFiltering.fit(X_train, y_train)"
   ]
  },
  {
   "cell_type": "code",
   "execution_count": 26,
   "id": "cf56dc26-cac2-4d03-9b26-f03611918358",
   "metadata": {},
   "outputs": [],
   "source": [
    "# get predictions\n",
    "y_pred = spamFiltering.predict(X_test)"
   ]
  },
  {
   "cell_type": "markdown",
   "id": "7217670d-952e-4585-8641-a8b082998fd7",
   "metadata": {},
   "source": [
    "Now, let's evalute some metrics to check if our classifier performs well. First of all, we compute the **confusion matrix** using the `scikit-learn` native implementation:"
   ]
  },
  {
   "cell_type": "code",
   "execution_count": 27,
   "id": "f0bec44a-66a9-4c91-b993-b7e67922eeb7",
   "metadata": {},
   "outputs": [],
   "source": [
    "cm = confusion_matrix(y_test, y_pred)"
   ]
  },
  {
   "cell_type": "code",
   "execution_count": 28,
   "id": "cfd9070b-958f-4348-9c80-2e80338a35bd",
   "metadata": {},
   "outputs": [
    {
     "data": {
      "image/png": "[encoded data removed]",
      "text/plain": [
       "<Figure size 800x600 with 2 Axes>"
      ]
     },
     "metadata": {},
     "output_type": "display_data"
    }
   ],
   "source": [
    "# Plotting confusion matrix\n",
    "fig, ax = plt.subplots(figsize=(8,6))\n",
    "\n",
    "sns.heatmap(cm, annot=True, fmt='d', cmap='Blues', xticklabels=['NOT SPAM', 'SPAM'], yticklabels=['NOT SPAM', 'SPAM'], ax=ax)\n",
    "\n",
    "ax.set_xlabel('Predicted Label')\n",
    "ax.set_ylabel('True Label')\n",
    "ax.set_title('Confusion Matrix')\n",
    "plt.show()"
   ]
  },
  {
   "cell_type": "code",
   "execution_count": 29,
   "id": "7ca31c4d-cdcd-47f3-991b-d1fa8b481b7a",
   "metadata": {},
   "outputs": [
    {
     "name": "stdout",
     "output_type": "stream",
     "text": [
      "Accuracy: 0.99\n",
      "Precision: 0.98\n",
      "Recall: 0.97\n",
      "F1-score: 0.98\n"
     ]
    }
   ],
   "source": [
    "# Calculate accuracy\n",
    "accuracy = accuracy_score(y_test, y_pred)\n",
    "print(f'Accuracy: {accuracy:.2f}')\n",
    "\n",
    "# Calculate precision\n",
    "precision = precision_score(y_test, y_pred)\n",
    "print(f'Precision: {precision:.2f}')\n",
    "\n",
    "# Calculate recall\n",
    "recall = recall_score(y_test, y_pred)\n",
    "print(f'Recall: {recall:.2f}')\n",
    "\n",
    "# Calculate F1-score\n",
    "f1 = f1_score(y_test, y_pred)\n",
    "print(f'F1-score: {f1:.2f}')"
   ]
  },
  {
   "cell_type": "code",
   "execution_count": 30,
   "id": "6fe620c8-f15c-46ef-8d97-2ca8985a9cc4",
   "metadata": {},
   "outputs": [
    {
     "data": {
      "image/png": "[encoded data removed]",
      "text/plain": [
       "<Figure size 800x500 with 1 Axes>"
      ]
     },
     "metadata": {},
     "output_type": "display_data"
    }
   ],
   "source": [
    "fig, ax = plt.subplots(figsize=(8, 5))\n",
    "\n",
    "# Metrics values\n",
    "metrics = ['Accuracy', 'Precision', 'Recall', 'F1-score']\n",
    "values = [accuracy, precision, recall, f1]\n",
    "\n",
    "bars = ax.bar(metrics, values, color='green', alpha=0.5)\n",
    "for bar in bars:\n",
    "    x = bar.get_x()\n",
    "    height = bar.get_height()\n",
    "    width = bar.get_width()\n",
    "    ax.text(x+width/2, height-0.05, str(round(height, 2)), ha=\"center\", va=\"center\", color=\"white\", fontsize=12, fontweight=\"bold\")\n",
    "\n",
    "ax.set_ylim(0.9, 1)  # Set x-axis limit to be between 0 and 1\n",
    "ax.set_xlabel('Score')\n",
    "ax.set_title('Classification Performance Metrics')\n",
    "plt.show()"
   ]
  },
  {
   "cell_type": "markdown",
   "id": "4e7557cc-671b-4a94-8815-bc9a0e64310a",
   "metadata": {},
   "source": [
    "Our classifier seems to perform surprisingly well, given the high values of all the evaluation metrics shown above. We remind that:\n",
    "- **accuracy**: it's a general metrics telling us how often the classifier makes good predictions. It is simply the ratio between $TP+FN$ and the total number of data points. If the dataset is imbalanced, it is not the right metric to pick since you may see a very high accuracy even if the model is not correctly predicting the imbalaced class. The formula is:  $$A  = \\frac{(TP+FN)}{(TP+FN+FP+TN)}$$\n",
    "- **precision**: it defines how many of the positive predicted cases are indeed positive. Therefore, it is metric that stictly depends on the number of *False positive*. If you want to minimize *False positive*, it is the right metric to consider. The formula is: $$P = \\frac{TP}{TP+FP}$$\n",
    "- **recall**: it defines how many of the actual positive cases the model were able to predict. It thus depends on the number of *False negative*. It's the right metric to pick if you want to minimize the False negative, e.g. in medical scenarios where you don't want to classify a patient as healthy (negative) when he/she is not. The formula is: $$R = \\frac{TP}{TP+FN}$$\n",
    "- **f1**: it mix both the precision and recall into a single metric, by taking their harmonic mean. $$f1 = 2\\frac{P\\times R}{P + R}$$"
   ]
  },
  {
   "cell_type": "markdown",
   "id": "bf6733bb-a21d-409e-b7b6-b3be5c9f9aff",
   "metadata": {},
   "source": [
    "### Cross-Validation \n",
    "\n",
    "To better evaluate our model, we can also perform a **cross-validation**. Since we have coded our naive Bayes classifiers from scratch, the above provided class is not compatible with the `cross_val_score` method provided by scikit-learn to perform K-fold cross validation. However, with some little modification we can make it compatibile with scikit-learn. We just have to make the class inheriting from the `BaseEstimator` and `ClassifierMixin` native scikit-learn class:"
   ]
  },
  {
   "cell_type": "code",
   "execution_count": 31,
   "id": "1a242015-016a-40a4-bf82-2972d4f1e4a6",
   "metadata": {},
   "outputs": [],
   "source": [
    "class BayesFiltering(BaseEstimator, ClassifierMixin):\n",
    "\n",
    "    def __init__(self):\n",
    "        self.n = 0\n",
    "        self.w_neg = 0\n",
    "        self.w_pos = 0\n",
    "        self.P = np.array([])\n",
    "        self.vectorizer = CountVectorizer()\n",
    "        self.classes_ = np.array([])  # Initialize classes_ attribute\n",
    "\n",
    "    @staticmethod\n",
    "    def __get_priors(X, y):\n",
    "        '''\n",
    "        Computing prior probabilities\n",
    "        '''\n",
    "        num_pos = y.sum()\n",
    "        num_neg = len(y)-num_pos\n",
    "\n",
    "        return num_pos/len(y), num_neg/len(y)\n",
    "\n",
    "    def fit(self, X_train, y_train) -> None:\n",
    "        '''\n",
    "        Method to fit the naive Bayes classifier to the training set.\n",
    "\n",
    "        :params X_train: features training set \n",
    "        :params y_train: the label training set \n",
    "        '''\n",
    "        X_vectorized = self.vectorizer.fit_transform(X_train)\n",
    "\n",
    "        self.n = len(self.vectorizer.get_feature_names_out())\n",
    "        self.P = np.zeros((2, self.n))\n",
    "\n",
    "        for i, text_vector in enumerate(X_vectorized):\n",
    "            label = y_train.iloc[i]\n",
    "\n",
    "            # Get the word counts for the email (vectorized form)\n",
    "            word_counts = text_vector.toarray().flatten()  # Flatten the sparse matrix to get word counts\n",
    "\n",
    "            if label == 1:\n",
    "                self.P[0, :] += word_counts  \n",
    "                self.w_pos += word_counts.sum()  \n",
    "            else:  \n",
    "                self.P[1, :] += word_counts  \n",
    "                self.w_neg += word_counts.sum()  \n",
    "\n",
    "\n",
    "        # Step 5: Normalize to get probabilities (Laplace smoothing added to avoid zero probabilities)\n",
    "        self.P[0, :] = (self.P[0, :] + 1) / (self.w_pos + self.n)  # Probability of word given positive class (with smoothing)\n",
    "        self.P[1, :] = (self.P[1, :] + 1) / (self.w_neg + self.n)   # Probability of word given negative class (with smoothing)\n",
    "\n",
    "        # Set priors\n",
    "        self.prior_pos, self.prior_neg  = self.__get_priors(X_train, y_train)\n",
    "\n",
    "        self.classes_ = np.array([0, 1])  # Set the class labels\n",
    "\n",
    "\n",
    "    def __predict_label(self, text: str) -> int:\n",
    "        '''\n",
    "        Private method to classify a single text \n",
    "        '''\n",
    "\n",
    "        text_vectorized = self.vectorizer.transform([text]).toarray().flatten()\n",
    "    \n",
    "        log_p_pos = np.log(self.prior_pos)\n",
    "        log_p_neg = np.log(self.prior_neg)\n",
    "\n",
    "        for j, count in enumerate(text_vectorized):\n",
    "            if count > 0:\n",
    "                log_p_pos += count*np.log(self.P[0,j])\n",
    "                log_p_neg += count*np.log(self.P[1,j])\n",
    "    \n",
    "    \n",
    "        if log_p_pos > log_p_neg:\n",
    "            return 1 \n",
    "        else:\n",
    "            return 0\n",
    "\n",
    "    def predict(self, X_test) -> np.array:\n",
    "        '''\n",
    "        Method to classify new data\n",
    "        '''\n",
    "        predictions = [self.__predict_label(text) for text in X_test]\n",
    "        \n",
    "        return np.array(predictions)"
   ]
  },
  {
   "cell_type": "code",
   "execution_count": 32,
   "id": "0e129d0b-e171-40f3-84fc-51a4ef6daed9",
   "metadata": {},
   "outputs": [],
   "source": [
    "# Instantiate your classifier\n",
    "spamFiltering_cv = BayesFiltering()\n",
    "\n",
    "# Perform cross-validation\n",
    "f1_scores = cross_val_score(spamFiltering_cv, X_train, y_train, cv=5, scoring='f1')"
   ]
  },
  {
   "cell_type": "code",
   "execution_count": 33,
   "id": "193a9054-da80-4d4f-a47f-f95294da55dc",
   "metadata": {},
   "outputs": [
    {
     "name": "stdout",
     "output_type": "stream",
     "text": [
      "Cross-Validation F1-Scores: [0.97247706 0.9882904  0.99300699 0.98604651 0.97447796]\n",
      "Mean F1-Scores: 0.9829 ± 0.0080\n"
     ]
    }
   ],
   "source": [
    "# Output the cross-validation scores\n",
    "print(f\"Cross-Validation F1-Scores: {f1_scores}\")\n",
    "print(f\"Mean F1-Scores: {f1_scores.mean():.4f} ± {f1_scores.std():.4f}\")"
   ]
  },
  {
   "cell_type": "markdown",
   "id": "c9903e08-5342-4cc7-bc6b-10621d055280",
   "metadata": {},
   "source": [
    "We see that after performing a 5-fold cross-validation, we still have a good value of the F1-score - which we remind is the harmonic mean between precision and recall - indicating that our classifier is performing quite well in predicting the right class on the test set. "
   ]
  },
  {
   "cell_type": "markdown",
   "id": "4d78292e-dc0d-4913-a2ab-0e8f45fe369f",
   "metadata": {},
   "source": [
    "## Naive-Bayes with Scikit-Learn\n",
    "\n",
    "Of course, `scikit-learn` provides a fast and efficient implementation of naive Bayes to classify text documents such as the case of spam emails. Below, we see how we can use the native `MulinomialNB` class to train a naive Bayes classifiers and perform spam filtering:"
   ]
  },
  {
   "cell_type": "code",
   "execution_count": 34,
   "id": "1451d2b4-f502-4228-a824-70aca28fed6a",
   "metadata": {},
   "outputs": [],
   "source": [
    "X = df_emails['clean_text']\n",
    "y = df_emails['spam']\n",
    "\n",
    "# Split the dataset into training and testing sets\n",
    "X_train, X_test, y_train, y_test = train_test_split(X, y, test_size=0.2, random_state=42)\n",
    "\n",
    "# Vectorize the text data\n",
    "vectorizer = CountVectorizer()\n",
    "X_train_vectorized = vectorizer.fit_transform(X_train)\n",
    "X_test_vectorized = vectorizer.transform(X_test)"
   ]
  },
  {
   "cell_type": "code",
   "execution_count": 35,
   "id": "6d050b5b-310e-45bb-9792-1871cd4010b3",
   "metadata": {},
   "outputs": [
    {
     "data": {
      "text/html": [
       "<style>#sk-container-id-1 {\n",
       "  /* Definition of color scheme common for light and dark mode */\n",
       "  --sklearn-color-text: black;\n",
       "  --sklearn-color-line: gray;\n",
       "  /* Definition of color scheme for unfitted estimators */\n",
       "  --sklearn-color-unfitted-level-0: #fff5e6;\n",
       "  --sklearn-color-unfitted-level-1: #f6e4d2;\n",
       "  --sklearn-color-unfitted-level-2: #ffe0b3;\n",
       "  --sklearn-color-unfitted-level-3: chocolate;\n",
       "  /* Definition of color scheme for fitted estimators */\n",
       "  --sklearn-color-fitted-level-0: #f0f8ff;\n",
       "  --sklearn-color-fitted-level-1: #d4ebff;\n",
       "  --sklearn-color-fitted-level-2: #b3dbfd;\n",
       "  --sklearn-color-fitted-level-3: cornflowerblue;\n",
       "\n",
       "  /* Specific color for light theme */\n",
       "  --sklearn-color-text-on-default-background: var(--sg-text-color, var(--theme-code-foreground, var(--jp-content-font-color1, black)));\n",
       "  --sklearn-color-background: var(--sg-background-color, var(--theme-background, var(--jp-layout-color0, white)));\n",
       "  --sklearn-color-border-box: var(--sg-text-color, var(--theme-code-foreground, var(--jp-content-font-color1, black)));\n",
       "  --sklearn-color-icon: #696969;\n",
       "\n",
       "  @media (prefers-color-scheme: dark) {\n",
       "    /* Redefinition of color scheme for dark theme */\n",
       "    --sklearn-color-text-on-default-background: var(--sg-text-color, var(--theme-code-foreground, var(--jp-content-font-color1, white)));\n",
       "    --sklearn-color-background: var(--sg-background-color, var(--theme-background, var(--jp-layout-color0, #111)));\n",
       "    --sklearn-color-border-box: var(--sg-text-color, var(--theme-code-foreground, var(--jp-content-font-color1, white)));\n",
       "    --sklearn-color-icon: #878787;\n",
       "  }\n",
       "}\n",
       "\n",
       "#sk-container-id-1 {\n",
       "  color: var(--sklearn-color-text);\n",
       "}\n",
       "\n",
       "#sk-container-id-1 pre {\n",
       "  padding: 0;\n",
       "}\n",
       "\n",
       "#sk-container-id-1 input.sk-hidden--visually {\n",
       "  border: 0;\n",
       "  clip: rect(1px 1px 1px 1px);\n",
       "  clip: rect(1px, 1px, 1px, 1px);\n",
       "  height: 1px;\n",
       "  margin: -1px;\n",
       "  overflow: hidden;\n",
       "  padding: 0;\n",
       "  position: absolute;\n",
       "  width: 1px;\n",
       "}\n",
       "\n",
       "#sk-container-id-1 div.sk-dashed-wrapped {\n",
       "  border: 1px dashed var(--sklearn-color-line);\n",
       "  margin: 0 0.4em 0.5em 0.4em;\n",
       "  box-sizing: border-box;\n",
       "  padding-bottom: 0.4em;\n",
       "  background-color: var(--sklearn-color-background);\n",
       "}\n",
       "\n",
       "#sk-container-id-1 div.sk-container {\n",
       "  /* jupyter's `normalize.less` sets `[hidden] { display: none; }`\n",
       "     but bootstrap.min.css set `[hidden] { display: none !important; }`\n",
       "     so we also need the `!important` here to be able to override the\n",
       "     default hidden behavior on the sphinx rendered scikit-learn.org.\n",
       "     See: https://github.com/scikit-learn/scikit-learn/issues/21755 */\n",
       "  display: inline-block !important;\n",
       "  position: relative;\n",
       "}\n",
       "\n",
       "#sk-container-id-1 div.sk-text-repr-fallback {\n",
       "  display: none;\n",
       "}\n",
       "\n",
       "div.sk-parallel-item,\n",
       "div.sk-serial,\n",
       "div.sk-item {\n",
       "  /* draw centered vertical line to link estimators */\n",
       "  background-image: linear-gradient(var(--sklearn-color-text-on-default-background), var(--sklearn-color-text-on-default-background));\n",
       "  background-size: 2px 100%;\n",
       "  background-repeat: no-repeat;\n",
       "  background-position: center center;\n",
       "}\n",
       "\n",
       "/* Parallel-specific style estimator block */\n",
       "\n",
       "#sk-container-id-1 div.sk-parallel-item::after {\n",
       "  content: \"\";\n",
       "  width: 100%;\n",
       "  border-bottom: 2px solid var(--sklearn-color-text-on-default-background);\n",
       "  flex-grow: 1;\n",
       "}\n",
       "\n",
       "#sk-container-id-1 div.sk-parallel {\n",
       "  display: flex;\n",
       "  align-items: stretch;\n",
       "  justify-content: center;\n",
       "  background-color: var(--sklearn-color-background);\n",
       "  position: relative;\n",
       "}\n",
       "\n",
       "#sk-container-id-1 div.sk-parallel-item {\n",
       "  display: flex;\n",
       "  flex-direction: column;\n",
       "}\n",
       "\n",
       "#sk-container-id-1 div.sk-parallel-item:first-child::after {\n",
       "  align-self: flex-end;\n",
       "  width: 50%;\n",
       "}\n",
       "\n",
       "#sk-container-id-1 div.sk-parallel-item:last-child::after {\n",
       "  align-self: flex-start;\n",
       "  width: 50%;\n",
       "}\n",
       "\n",
       "#sk-container-id-1 div.sk-parallel-item:only-child::after {\n",
       "  width: 0;\n",
       "}\n",
       "\n",
       "/* Serial-specific style estimator block */\n",
       "\n",
       "#sk-container-id-1 div.sk-serial {\n",
       "  display: flex;\n",
       "  flex-direction: column;\n",
       "  align-items: center;\n",
       "  background-color: var(--sklearn-color-background);\n",
       "  padding-right: 1em;\n",
       "  padding-left: 1em;\n",
       "}\n",
       "\n",
       "\n",
       "/* Toggleable style: style used for estimator/Pipeline/ColumnTransformer box that is\n",
       "clickable and can be expanded/collapsed.\n",
       "- Pipeline and ColumnTransformer use this feature and define the default style\n",
       "- Estimators will overwrite some part of the style using the `sk-estimator` class\n",
       "*/\n",
       "\n",
       "/* Pipeline and ColumnTransformer style (default) */\n",
       "\n",
       "#sk-container-id-1 div.sk-toggleable {\n",
       "  /* Default theme specific background. It is overwritten whether we have a\n",
       "  specific estimator or a Pipeline/ColumnTransformer */\n",
       "  background-color: var(--sklearn-color-background);\n",
       "}\n",
       "\n",
       "/* Toggleable label */\n",
       "#sk-container-id-1 label.sk-toggleable__label {\n",
       "  cursor: pointer;\n",
       "  display: block;\n",
       "  width: 100%;\n",
       "  margin-bottom: 0;\n",
       "  padding: 0.5em;\n",
       "  box-sizing: border-box;\n",
       "  text-align: center;\n",
       "}\n",
       "\n",
       "#sk-container-id-1 label.sk-toggleable__label-arrow:before {\n",
       "  /* Arrow on the left of the label */\n",
       "  content: \"▸\";\n",
       "  float: left;\n",
       "  margin-right: 0.25em;\n",
       "  color: var(--sklearn-color-icon);\n",
       "}\n",
       "\n",
       "#sk-container-id-1 label.sk-toggleable__label-arrow:hover:before {\n",
       "  color: var(--sklearn-color-text);\n",
       "}\n",
       "\n",
       "/* Toggleable content - dropdown */\n",
       "\n",
       "#sk-container-id-1 div.sk-toggleable__content {\n",
       "  max-height: 0;\n",
       "  max-width: 0;\n",
       "  overflow: hidden;\n",
       "  text-align: left;\n",
       "  /* unfitted */\n",
       "  background-color: var(--sklearn-color-unfitted-level-0);\n",
       "}\n",
       "\n",
       "#sk-container-id-1 div.sk-toggleable__content.fitted {\n",
       "  /* fitted */\n",
       "  background-color: var(--sklearn-color-fitted-level-0);\n",
       "}\n",
       "\n",
       "#sk-container-id-1 div.sk-toggleable__content pre {\n",
       "  margin: 0.2em;\n",
       "  border-radius: 0.25em;\n",
       "  color: var(--sklearn-color-text);\n",
       "  /* unfitted */\n",
       "  background-color: var(--sklearn-color-unfitted-level-0);\n",
       "}\n",
       "\n",
       "#sk-container-id-1 div.sk-toggleable__content.fitted pre {\n",
       "  /* unfitted */\n",
       "  background-color: var(--sklearn-color-fitted-level-0);\n",
       "}\n",
       "\n",
       "#sk-container-id-1 input.sk-toggleable__control:checked~div.sk-toggleable__content {\n",
       "  /* Expand drop-down */\n",
       "  max-height: 200px;\n",
       "  max-width: 100%;\n",
       "  overflow: auto;\n",
       "}\n",
       "\n",
       "#sk-container-id-1 input.sk-toggleable__control:checked~label.sk-toggleable__label-arrow:before {\n",
       "  content: \"▾\";\n",
       "}\n",
       "\n",
       "/* Pipeline/ColumnTransformer-specific style */\n",
       "\n",
       "#sk-container-id-1 div.sk-label input.sk-toggleable__control:checked~label.sk-toggleable__label {\n",
       "  color: var(--sklearn-color-text);\n",
       "  background-color: var(--sklearn-color-unfitted-level-2);\n",
       "}\n",
       "\n",
       "#sk-container-id-1 div.sk-label.fitted input.sk-toggleable__control:checked~label.sk-toggleable__label {\n",
       "  background-color: var(--sklearn-color-fitted-level-2);\n",
       "}\n",
       "\n",
       "/* Estimator-specific style */\n",
       "\n",
       "/* Colorize estimator box */\n",
       "#sk-container-id-1 div.sk-estimator input.sk-toggleable__control:checked~label.sk-toggleable__label {\n",
       "  /* unfitted */\n",
       "  background-color: var(--sklearn-color-unfitted-level-2);\n",
       "}\n",
       "\n",
       "#sk-container-id-1 div.sk-estimator.fitted input.sk-toggleable__control:checked~label.sk-toggleable__label {\n",
       "  /* fitted */\n",
       "  background-color: var(--sklearn-color-fitted-level-2);\n",
       "}\n",
       "\n",
       "#sk-container-id-1 div.sk-label label.sk-toggleable__label,\n",
       "#sk-container-id-1 div.sk-label label {\n",
       "  /* The background is the default theme color */\n",
       "  color: var(--sklearn-color-text-on-default-background);\n",
       "}\n",
       "\n",
       "/* On hover, darken the color of the background */\n",
       "#sk-container-id-1 div.sk-label:hover label.sk-toggleable__label {\n",
       "  color: var(--sklearn-color-text);\n",
       "  background-color: var(--sklearn-color-unfitted-level-2);\n",
       "}\n",
       "\n",
       "/* Label box, darken color on hover, fitted */\n",
       "#sk-container-id-1 div.sk-label.fitted:hover label.sk-toggleable__label.fitted {\n",
       "  color: var(--sklearn-color-text);\n",
       "  background-color: var(--sklearn-color-fitted-level-2);\n",
       "}\n",
       "\n",
       "/* Estimator label */\n",
       "\n",
       "#sk-container-id-1 div.sk-label label {\n",
       "  font-family: monospace;\n",
       "  font-weight: bold;\n",
       "  display: inline-block;\n",
       "  line-height: 1.2em;\n",
       "}\n",
       "\n",
       "#sk-container-id-1 div.sk-label-container {\n",
       "  text-align: center;\n",
       "}\n",
       "\n",
       "/* Estimator-specific */\n",
       "#sk-container-id-1 div.sk-estimator {\n",
       "  font-family: monospace;\n",
       "  border: 1px dotted var(--sklearn-color-border-box);\n",
       "  border-radius: 0.25em;\n",
       "  box-sizing: border-box;\n",
       "  margin-bottom: 0.5em;\n",
       "  /* unfitted */\n",
       "  background-color: var(--sklearn-color-unfitted-level-0);\n",
       "}\n",
       "\n",
       "#sk-container-id-1 div.sk-estimator.fitted {\n",
       "  /* fitted */\n",
       "  background-color: var(--sklearn-color-fitted-level-0);\n",
       "}\n",
       "\n",
       "/* on hover */\n",
       "#sk-container-id-1 div.sk-estimator:hover {\n",
       "  /* unfitted */\n",
       "  background-color: var(--sklearn-color-unfitted-level-2);\n",
       "}\n",
       "\n",
       "#sk-container-id-1 div.sk-estimator.fitted:hover {\n",
       "  /* fitted */\n",
       "  background-color: var(--sklearn-color-fitted-level-2);\n",
       "}\n",
       "\n",
       "/* Specification for estimator info (e.g. \"i\" and \"?\") */\n",
       "\n",
       "/* Common style for \"i\" and \"?\" */\n",
       "\n",
       ".sk-estimator-doc-link,\n",
       "a:link.sk-estimator-doc-link,\n",
       "a:visited.sk-estimator-doc-link {\n",
       "  float: right;\n",
       "  font-size: smaller;\n",
       "  line-height: 1em;\n",
       "  font-family: monospace;\n",
       "  background-color: var(--sklearn-color-background);\n",
       "  border-radius: 1em;\n",
       "  height: 1em;\n",
       "  width: 1em;\n",
       "  text-decoration: none !important;\n",
       "  margin-left: 1ex;\n",
       "  /* unfitted */\n",
       "  border: var(--sklearn-color-unfitted-level-1) 1pt solid;\n",
       "  color: var(--sklearn-color-unfitted-level-1);\n",
       "}\n",
       "\n",
       ".sk-estimator-doc-link.fitted,\n",
       "a:link.sk-estimator-doc-link.fitted,\n",
       "a:visited.sk-estimator-doc-link.fitted {\n",
       "  /* fitted */\n",
       "  border: var(--sklearn-color-fitted-level-1) 1pt solid;\n",
       "  color: var(--sklearn-color-fitted-level-1);\n",
       "}\n",
       "\n",
       "/* On hover */\n",
       "div.sk-estimator:hover .sk-estimator-doc-link:hover,\n",
       ".sk-estimator-doc-link:hover,\n",
       "div.sk-label-container:hover .sk-estimator-doc-link:hover,\n",
       ".sk-estimator-doc-link:hover {\n",
       "  /* unfitted */\n",
       "  background-color: var(--sklearn-color-unfitted-level-3);\n",
       "  color: var(--sklearn-color-background);\n",
       "  text-decoration: none;\n",
       "}\n",
       "\n",
       "div.sk-estimator.fitted:hover .sk-estimator-doc-link.fitted:hover,\n",
       ".sk-estimator-doc-link.fitted:hover,\n",
       "div.sk-label-container:hover .sk-estimator-doc-link.fitted:hover,\n",
       ".sk-estimator-doc-link.fitted:hover {\n",
       "  /* fitted */\n",
       "  background-color: var(--sklearn-color-fitted-level-3);\n",
       "  color: var(--sklearn-color-background);\n",
       "  text-decoration: none;\n",
       "}\n",
       "\n",
       "/* Span, style for the box shown on hovering the info icon */\n",
       ".sk-estimator-doc-link span {\n",
       "  display: none;\n",
       "  z-index: 9999;\n",
       "  position: relative;\n",
       "  font-weight: normal;\n",
       "  right: .2ex;\n",
       "  padding: .5ex;\n",
       "  margin: .5ex;\n",
       "  width: min-content;\n",
       "  min-width: 20ex;\n",
       "  max-width: 50ex;\n",
       "  color: var(--sklearn-color-text);\n",
       "  box-shadow: 2pt 2pt 4pt #999;\n",
       "  /* unfitted */\n",
       "  background: var(--sklearn-color-unfitted-level-0);\n",
       "  border: .5pt solid var(--sklearn-color-unfitted-level-3);\n",
       "}\n",
       "\n",
       ".sk-estimator-doc-link.fitted span {\n",
       "  /* fitted */\n",
       "  background: var(--sklearn-color-fitted-level-0);\n",
       "  border: var(--sklearn-color-fitted-level-3);\n",
       "}\n",
       "\n",
       ".sk-estimator-doc-link:hover span {\n",
       "  display: block;\n",
       "}\n",
       "\n",
       "/* \"?\"-specific style due to the `<a>` HTML tag */\n",
       "\n",
       "#sk-container-id-1 a.estimator_doc_link {\n",
       "  float: right;\n",
       "  font-size: 1rem;\n",
       "  line-height: 1em;\n",
       "  font-family: monospace;\n",
       "  background-color: var(--sklearn-color-background);\n",
       "  border-radius: 1rem;\n",
       "  height: 1rem;\n",
       "  width: 1rem;\n",
       "  text-decoration: none;\n",
       "  /* unfitted */\n",
       "  color: var(--sklearn-color-unfitted-level-1);\n",
       "  border: var(--sklearn-color-unfitted-level-1) 1pt solid;\n",
       "}\n",
       "\n",
       "#sk-container-id-1 a.estimator_doc_link.fitted {\n",
       "  /* fitted */\n",
       "  border: var(--sklearn-color-fitted-level-1) 1pt solid;\n",
       "  color: var(--sklearn-color-fitted-level-1);\n",
       "}\n",
       "\n",
       "/* On hover */\n",
       "#sk-container-id-1 a.estimator_doc_link:hover {\n",
       "  /* unfitted */\n",
       "  background-color: var(--sklearn-color-unfitted-level-3);\n",
       "  color: var(--sklearn-color-background);\n",
       "  text-decoration: none;\n",
       "}\n",
       "\n",
       "#sk-container-id-1 a.estimator_doc_link.fitted:hover {\n",
       "  /* fitted */\n",
       "  background-color: var(--sklearn-color-fitted-level-3);\n",
       "}\n",
       "</style><div id=\"sk-container-id-1\" class=\"sk-top-container\"><div class=\"sk-text-repr-fallback\"><pre>MultinomialNB()</pre><b>In a Jupyter environment, please rerun this cell to show the HTML representation or trust the notebook. <br />On GitHub, the HTML representation is unable to render, please try loading this page with nbviewer.org.</b></div><div class=\"sk-container\" hidden><div class=\"sk-item\"><div class=\"sk-estimator fitted sk-toggleable\"><input class=\"sk-toggleable__control sk-hidden--visually\" id=\"sk-estimator-id-1\" type=\"checkbox\" checked><label for=\"sk-estimator-id-1\" class=\"sk-toggleable__label fitted sk-toggleable__label-arrow fitted\">&nbsp;&nbsp;MultinomialNB<a class=\"sk-estimator-doc-link fitted\" rel=\"noreferrer\" target=\"_blank\" href=\"https://scikit-learn.org/1.5/modules/generated/sklearn.naive_bayes.MultinomialNB.html\">?<span>Documentation for MultinomialNB</span></a><span class=\"sk-estimator-doc-link fitted\">i<span>Fitted</span></span></label><div class=\"sk-toggleable__content fitted\"><pre>MultinomialNB()</pre></div> </div></div></div></div>"
      ],
      "text/plain": [
       "MultinomialNB()"
      ]
     },
     "execution_count": 35,
     "metadata": {},
     "output_type": "execute_result"
    }
   ],
   "source": [
    "# Instantiate the Multinomial Naive Bayes classifier\n",
    "model = MultinomialNB()\n",
    "\n",
    "# Fit the model on the training data\n",
    "model.fit(X_train_vectorized, y_train)"
   ]
  },
  {
   "cell_type": "code",
   "execution_count": 36,
   "id": "52f1cff3-d390-4077-b867-78350b583bf2",
   "metadata": {},
   "outputs": [],
   "source": [
    "# Perform cross-validation\n",
    "cross_val_scores = cross_val_score(model, X_train_vectorized, y_train, cv=5, scoring='f1')"
   ]
  },
  {
   "cell_type": "code",
   "execution_count": 37,
   "id": "2a766fa7-8da5-4f73-8740-29828c4eefb1",
   "metadata": {},
   "outputs": [
    {
     "name": "stdout",
     "output_type": "stream",
     "text": [
      "Cross-Validation F1-Scores: [0.97505669 0.97940503 0.98173516 0.97482838 0.97482838]\n",
      "Mean Cross-Validation F1-Scores: 0.98 ± 0.00\n"
     ]
    }
   ],
   "source": [
    "# Output cross-validation scores\n",
    "print(f\"Cross-Validation F1-Scores: {cross_val_scores}\")\n",
    "print(f\"Mean Cross-Validation F1-Scores: {cross_val_scores.mean():.2f} ± {cross_val_scores.std():.2f}\")"
   ]
  }
 ],
 "metadata": {
  "kernelspec": {
   "display_name": "Python 3 (ipykernel)",
   "language": "python",
   "name": "python3"
  },
  "language_info": {
   "codemirror_mode": {
    "name": "ipython",
    "version": 3
   },
   "file_extension": ".py",
   "mimetype": "text/x-python",
   "name": "python",
   "nbconvert_exporter": "python",
   "pygments_lexer": "ipython3",
   "version": "3.11.9"
  }
 },
 "nbformat": 4,
 "nbformat_minor": 5
}
