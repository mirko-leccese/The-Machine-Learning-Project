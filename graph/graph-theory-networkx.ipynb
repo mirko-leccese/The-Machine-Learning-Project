{
 "cells": [
  {
   "cell_type": "code",
   "execution_count": 2,
   "id": "214fd8f0-7d9e-41fc-8756-98fadc750b48",
   "metadata": {},
   "outputs": [],
   "source": [
    "import pandas as pd\n",
    "import networkx as nx"
   ]
  },
  {
   "cell_type": "code",
   "execution_count": 3,
   "id": "501688e4-cd2f-4281-9b1b-f6e2292736be",
   "metadata": {},
   "outputs": [],
   "source": [
    "import matplotlib.pyplot as plt"
   ]
  },
  {
   "cell_type": "code",
   "execution_count": 40,
   "id": "6199c40d-cb9a-4135-89df-9fd85c4dbf59",
   "metadata": {},
   "outputs": [],
   "source": [
    "from typing import Union, List, Tuple"
   ]
  },
  {
   "cell_type": "markdown",
   "id": "5a4c4088-974e-48a3-8de7-3d68aaf945d7",
   "metadata": {},
   "source": [
    "# Introduction to Graph Theory and the `NetworkX` library\n",
    "\n",
    "This notebook is an introduction to **<span style=\"color:blue\">graph theory</span>**, a branch of mathematics that studies graphs — mathematical structures used to model pairwise relationships between objects. Graph theory has a vast number of applications in computer science and data science. Some examples include:\n",
    "\n",
    "- **Routing and Network Design**: Graphs can represent computer networks, and graph-based algorithms can be used to find optimal routes for data transmission.\n",
    "- **Social Networks**: Graphs are used to model interactions and relationships within social networks such as *Facebook* or *X*.\n",
    "- **Data Science and AI**: Graphs often serve as mathematical structures to model data involving entities and their relationships — for instance, user-item interactions in recommender systems, or sentences and semantic relationships in NLP tasks.\n",
    "  \n",
    "In this notebook, we will introduce the basics of graph theory. Additionally, we will demonstrate how to model graphs in Python and apply key graph algorithms, with a hands-on exploration of `networkx`, one of the most popular Python packages for graph analysis."
   ]
  },
  {
   "cell_type": "markdown",
   "id": "70a2202a-aaae-4270-aa92-ceb13b2e1da4",
   "metadata": {},
   "source": [
    "## Basic Definitions\n",
    "\n",
    "The first type of graph we will consider are the so-called **simple graphs**.\n",
    "\n",
    "**Definition**: A **simple graph** or **graph** is a pair $(V,E)$, where $V$ is a finit set of elements called *vertices* (or *nodes* sometiems), and where $E$ is a subset of $P_2(V)$, where the latter is the set of all 2-element subsets of $V$.\n",
    "\n",
    "In other words, a graph is a pair of two sets, one ($V$) is a finite set of elements, the other ($E$) is a set of all of subsets of $V$ consisting of 2 elements and therefore represents relations between elements of $V$. The purpose of simple graphs is thus that of encoding relations on a finite set. In particular, these relations are *binary* - because they relate pairs of elements - *symmetric* and *irreflexive* (i.e an element cannot be related to itself). As we shall see in the following, simple graphs are not the only kind of graphs we can define.\n",
    "$V$ and $E$ are generally referred to as the **vertex set** and the **edge set** respectively. The edges, elements of $E$, are represented as $uv$ where $u, v \\in V$. Of course we have $uv=vu$.\n",
    "\n",
    "**Definition**: Two vertices $u, v \\in V$ of a graph $G=(V, E)$ are said to be **adjacent** if $uv \\in G$, that is $uv$ is an edge of $G$. \n",
    "\n",
    "In this case, $uv$ is said to \"join\" $u$ with $v$ (or to *connect* $u$ with $v$) and these vertices are called **endpoints** of this edge. \n",
    "\n",
    "**Definition**: Let $v$ a vertex of $G$. Then, the **neighbors** of $v$ are the vertices $u$ of $G$ that satisfy $vu \\in E$, i.e. the vertices of $G$ that are adjacent to $v$. \n",
    "\n",
    "As an example, let consider the following simple graph:\n",
    "$$\n",
    "G = (\\{a, b, c\\}, \\{\\{a, b\\}, \\{a, c\\}\\})\n",
    "$$\n",
    "Then, its vertex and edge sets are:\n",
    "$$\n",
    "\\begin{gather}\n",
    "V = \\{ a, b, c\\} \\\\\n",
    "E = \\{\\{a, b\\}, \\{a, c\\}\\} = \\{ ab, ac \\}\n",
    "\\end{gather}\n",
    "$$\n",
    "The vertices $a$ and $b$ are adjacent, since $ab \\in E$, instead $b$ and $c$ are not adjaced since $bc \\notin E$. \n",
    "\n",
    "A simple graph $G$ can be visually represented by drawing it on the plane. To do so, we can represent each vertex as a point and each edge as a line/curve connecting the corresponding endpoints:\n",
    "\n",
    "![Graph-Example](../images/graph-example.png)"
   ]
  },
  {
   "cell_type": "markdown",
   "id": "0d9abeae-f11a-49ce-a08c-34f8942186ae",
   "metadata": {},
   "source": [
    "These basic definitions are sufficient to build our first simple graph using `networkx`. Indeed, to define a graph in Python with `networkx` we first to proceed as follows:\n",
    "1. Define an instance of the `Graph` class, which represent simple graphs;\n",
    "2. Start adding vertices/nodes and edges using class methods such as `.add_node()` or `.add_edge` (or `.add_nodes_from()` and `.add_edges_from()` in case of iterables)\n",
    "As an example, let try to recreate the graph represented above:"
   ]
  },
  {
   "cell_type": "code",
   "execution_count": 4,
   "id": "da6a3132-1512-4b5a-ae92-34b740ea5d67",
   "metadata": {},
   "outputs": [],
   "source": [
    "# define a graph\n",
    "graph_example = nx.Graph()"
   ]
  },
  {
   "cell_type": "code",
   "execution_count": 5,
   "id": "7d5b5bfa-824a-44c0-9f46-ab571c8be82f",
   "metadata": {},
   "outputs": [],
   "source": [
    "# Adding the first node:\n",
    "graph_example.add_node(1)"
   ]
  },
  {
   "cell_type": "markdown",
   "id": "2d508f62-19b8-4e59-86ef-fa4c00967c10",
   "metadata": {},
   "source": [
    "Nodes and edges are saved as class attributes and they can be shown/printed as follows:"
   ]
  },
  {
   "cell_type": "code",
   "execution_count": 8,
   "id": "3ecd4ffe-2ee6-4c37-a15b-89f3df861d89",
   "metadata": {},
   "outputs": [
    {
     "data": {
      "text/plain": [
       "NodeView((1,))"
      ]
     },
     "execution_count": 8,
     "metadata": {},
     "output_type": "execute_result"
    }
   ],
   "source": [
    "# See availables nodes\n",
    "graph_example.nodes"
   ]
  },
  {
   "cell_type": "code",
   "execution_count": 10,
   "id": "72ef3040-d3bf-4935-9376-2bb5d505d21c",
   "metadata": {},
   "outputs": [],
   "source": [
    "# Adding nodes from a list\n",
    "graph_example.add_nodes_from([2, 3, 4, 5, 6])"
   ]
  },
  {
   "cell_type": "code",
   "execution_count": 11,
   "id": "9e3e7e72-fa8e-4024-9e91-ece98f319849",
   "metadata": {},
   "outputs": [
    {
     "data": {
      "text/plain": [
       "NodeView((1, 2, 3, 4, 5, 6))"
      ]
     },
     "execution_count": 11,
     "metadata": {},
     "output_type": "execute_result"
    }
   ],
   "source": [
    "graph_example.nodes"
   ]
  },
  {
   "cell_type": "code",
   "execution_count": 12,
   "id": "f6d23a75-b185-432f-8c9a-5fdd0119f498",
   "metadata": {},
   "outputs": [],
   "source": [
    "# Adding edges, again using .add_edges_from() \n",
    "edges_example = [(1, 4), (2, 4), (3, 4), (4, 5), (5, 6)]\n",
    "graph_example.add_edges_from(edges_example)"
   ]
  },
  {
   "cell_type": "code",
   "execution_count": 13,
   "id": "144ad9fc-5e64-462a-ae96-b7f59ef10608",
   "metadata": {},
   "outputs": [
    {
     "data": {
      "text/plain": [
       "EdgeView([(1, 4), (2, 4), (3, 4), (4, 5), (5, 6)])"
      ]
     },
     "execution_count": 13,
     "metadata": {},
     "output_type": "execute_result"
    }
   ],
   "source": [
    "graph_example.edges"
   ]
  },
  {
   "cell_type": "markdown",
   "id": "a1cbebbb-ea31-460c-9da6-4958078c07cf",
   "metadata": {},
   "source": [
    "`networkx` has a powerful native integration with `matplotlib`, the most popular Python package for creating plots and visuals. The code snippet below allows creating a matplotlib plot to visualize a graph:"
   ]
  },
  {
   "cell_type": "code",
   "execution_count": 109,
   "id": "58400bc8-3dc2-430e-b2ff-e28e63157832",
   "metadata": {},
   "outputs": [],
   "source": [
    "def plot_simple_graph(G: nx.Graph, **kwargs):\n",
    "    '''\n",
    "    Function to visualize a NetWorkx Graph\n",
    "\n",
    "    Args:\n",
    "        G (nx.Graph): a Networkx simple Graph\n",
    "        kwargs (optional keyword arguments): additional arguments to customize the visualization\n",
    "\n",
    "    Returns:\n",
    "        The graph visualization\n",
    "    '''\n",
    "    fig, ax = plt.subplots(figsize=(4, 4))\n",
    "\n",
    "    ax.set_title(\"Graph Visual\", fontsize=12)\n",
    "    nx.draw_networkx(G, **kwargs)"
   ]
  },
  {
   "cell_type": "code",
   "execution_count": 110,
   "id": "3fafcca2-a2aa-47a6-9b73-4f7255f749eb",
   "metadata": {},
   "outputs": [
    {
     "data": {
      "image/png": "[encoded data removed]",
      "text/plain": [
       "<Figure size 400x400 with 1 Axes>"
      ]
     },
     "metadata": {},
     "output_type": "display_data"
    }
   ],
   "source": [
    "plot_simple_graph(\n",
    "    graph_example, \n",
    "    node_color=\"lightblue\",\n",
    "    node_size=1000\n",
    ")"
   ]
  },
  {
   "cell_type": "markdown",
   "id": "6be5d3e3-8270-46d7-a5f3-3d12b92f972e",
   "metadata": {},
   "source": [
    "**Definition**: Let $G=(V, E)$ be a simple graph. Let $v \\in V$ be a vertex. Then, the **degree** of $v$ is defined as:\n",
    "$$\n",
    "\\deg v := |\\{ u \\in V | uv \\in E\\} | = | \\{ e \\in E | v \\in E \\}|\n",
    "$$\n",
    "i.e., the degree of a vertex is the number of neighbors of $v$ or, equivalently, the number of edges $e$ that contain $v$. \n",
    "\n",
    "For example, in the above graph, the degree of the vertex \"4\" is 4, $\\deg 4 = 4$, since there are four neighbors of 4, namely $(1, 2, 3, 5)$. Writing a Python function that compute the degree of a vertex in given graph is pretty simple: we simply need to check and count edges containing that vertex. "
   ]
  },
  {
   "cell_type": "code",
   "execution_count": 111,
   "id": "69f78574-35e6-4dac-831e-8571d30b4567",
   "metadata": {},
   "outputs": [],
   "source": [
    "def get_vertex_degree(G, v: Union[List[Union[str, int]], str, int]) -> dict:\n",
    "    '''\n",
    "    Function returning the degree of v in G\n",
    "\n",
    "    Args:\n",
    "        G (graph): a networkx graph\n",
    "        v (List|str|int): a vertex/node in G or a list of vertex in G\n",
    "\n",
    "    Returns:\n",
    "        A dictionary with deg(v) \n",
    "    '''\n",
    "\n",
    "    def __get_degree(v_i, e):\n",
    "        '''\n",
    "        Get the degree of vertex v_i, given edges e\n",
    "        '''\n",
    "        return len([True for x in e if v_i in x])\n",
    "    \n",
    "    if isinstance(v, (str, int)):  # If v is a string or an integer\n",
    "        v = [v]  # Convert to a single-element list\n",
    "    elif isinstance(v, list):  # If v is a list\n",
    "        # Ensure all elements are either strings or integers\n",
    "        if not all(isinstance(s, (str, int)) for s in v):\n",
    "            raise ValueError(\"v must be either a list of strings/integers, or a single string/integer\")\n",
    "    else:\n",
    "        raise ValueError(\"v must be either a list of strings/integers, or a single string/integer\")\n",
    "\n",
    "    # Check that each v in G:\n",
    "    G_nodes = list(G.nodes)\n",
    "    G_edges = list(G.edges)\n",
    "    \n",
    "    if all([True if x in v else False for x in G_nodes]):\n",
    "        return { v_i: __get_degree(v_i, G_edges) for v_i in G_nodes }\n",
    "    else:\n",
    "        raise ValueError(\"All nodes MUST belong to the graph!\")"
   ]
  },
  {
   "cell_type": "code",
   "execution_count": 112,
   "id": "5256f6ff-f567-4624-b221-3bdb4fa39253",
   "metadata": {},
   "outputs": [
    {
     "data": {
      "text/plain": [
       "{1: 1, 2: 1, 3: 1, 4: 4, 5: 2, 6: 1}"
      ]
     },
     "execution_count": 112,
     "metadata": {},
     "output_type": "execute_result"
    }
   ],
   "source": [
    "get_vertex_degree(graph_example, list(graph_example.nodes))"
   ]
  },
  {
   "cell_type": "markdown",
   "id": "64b971a0-07a4-4ec9-a94a-73993d04ff38",
   "metadata": {},
   "source": [
    "Of course, networkX already implements methods to compute the degree of a vertex, so in real applicatons we don't need to use the above function. In particular, given a networkx graph object we can call the method `.degree([])`, passing the interested node as input to compute its degree:\n",
    "\n",
    "*Note*: notice that *edges*, *nodes*, *degree*, etc. of networkx graphs are set-like read-only views. "
   ]
  },
  {
   "cell_type": "code",
   "execution_count": 113,
   "id": "aade59ad-3d7a-4fd8-a456-a1fbd73d5b22",
   "metadata": {},
   "outputs": [
    {
     "data": {
      "text/plain": [
       "DegreeView({4: 4})"
      ]
     },
     "execution_count": 113,
     "metadata": {},
     "output_type": "execute_result"
    }
   ],
   "source": [
    "graph_example.degree([4])"
   ]
  },
  {
   "cell_type": "markdown",
   "id": "30103c5c-effb-4379-8ad8-aa9b7fc34c47",
   "metadata": {},
   "source": [
    "The library provides also a `.adj` class attributes listing node neighbors:"
   ]
  },
  {
   "cell_type": "code",
   "execution_count": 114,
   "id": "225ecacc-0fe6-4188-a4f7-795c4d884397",
   "metadata": {},
   "outputs": [
    {
     "data": {
      "text/plain": [
       "[1, 2, 3, 5]"
      ]
     },
     "execution_count": 114,
     "metadata": {},
     "output_type": "execute_result"
    }
   ],
   "source": [
    "list(graph_example.adj[4])"
   ]
  },
  {
   "cell_type": "markdown",
   "id": "bac6291b-0d57-45b9-a675-7ef1ed9bb05e",
   "metadata": {},
   "source": [
    "## The Euler and Mantel's Theorems\n",
    "\n",
    "Let's state and prove some basic results in graph theory involving simple graphs. First of all we have the following:\n",
    "\n",
    "**Preposition**: Let $G$ be a simple graph with $n$ vertices. Then, given $v \\in V$, it holds $\\deg v \\leq (n-1)$.\n",
    "\n",
    "This is a very simple result following by the definition of degree itself: the degree of $v$ is the number of neighbors of $v$; if $G$ has $n$ nodes then all neighbors of $v$ belong to the $(n-1)$-element subset of $V$ (i.e. $V / \\{v\\}$).\n",
    "The following theorem is an importat result due to Euler (1736) which relates vertex degrees with the number of edges. \n",
    "\n",
    "**Theorem (Euler)**: Let $G$ be a simple graph. Then, the following formula holds:\n",
    "$$\n",
    "\\sum_{v \\in V} \\deg v = 2 \\cdot | E |\n",
    "$$\n",
    "\n",
    "In other words, the sum of degrees of all vertices of a simple graph $G$ equals twice the number of edges of $G$. Before proving this statement, let define some graphs and verify explicitly this formula."
   ]
  },
  {
   "cell_type": "code",
   "execution_count": 115,
   "id": "7d6c529a-a61b-4b02-82f7-dda9162d84eb",
   "metadata": {},
   "outputs": [],
   "source": [
    "# G1 \n",
    "G1 = nx.Graph()\n",
    "G1.add_nodes_from([\"a\", \"b\", \"c\", \"d\"])\n",
    "G1.add_edges_from([(\"a\", \"b\"), (\"c\", \"d\"), (\"d\", \"b\"), (\"b\", \"a\"), (\"a\", \"c\")])"
   ]
  },
  {
   "cell_type": "code",
   "execution_count": 116,
   "id": "e7deab14-a2ac-468e-97be-f1e723f31abe",
   "metadata": {},
   "outputs": [
    {
     "data": {
      "image/png": "[encoded data removed]",
      "text/plain": [
       "<Figure size 400x400 with 1 Axes>"
      ]
     },
     "metadata": {},
     "output_type": "display_data"
    }
   ],
   "source": [
    "plot_simple_graph(\n",
    "    G1, \n",
    "    node_color=\"lightblue\",\n",
    "    node_size=1000\n",
    ")"
   ]
  },
  {
   "cell_type": "code",
   "execution_count": 117,
   "id": "05deef56-1dda-45a0-ae47-94482367d694",
   "metadata": {},
   "outputs": [],
   "source": [
    "# G2 \n",
    "G2 = nx.Graph()\n",
    "G2.add_nodes_from([1, 2, 3, 4])\n",
    "G2.add_edges_from([(1, 3), (3, 2), (3, 4), (2, 4)])"
   ]
  },
  {
   "cell_type": "code",
   "execution_count": 118,
   "id": "cf56d743-df4a-46c2-bb30-fa0df99f97e0",
   "metadata": {},
   "outputs": [
    {
     "data": {
      "image/png": "[encoded data removed]",
      "text/plain": [
       "<Figure size 400x400 with 1 Axes>"
      ]
     },
     "metadata": {},
     "output_type": "display_data"
    }
   ],
   "source": [
    "plot_simple_graph(\n",
    "    G2, \n",
    "    node_color=\"lightblue\",\n",
    "    node_size=1000\n",
    ")"
   ]
  },
  {
   "cell_type": "code",
   "execution_count": 119,
   "id": "f8c69259-c9fa-42c2-99b7-204490f9ff85",
   "metadata": {},
   "outputs": [],
   "source": [
    "# G3\n",
    "G3 = nx.Graph()\n",
    "G3.add_nodes_from([1, 2, 3, 4, 5])\n",
    "G3.add_edges_from([(1, 2), (1, 3), (1, 4), (2, 3), (3, 4), (2, 5)])"
   ]
  },
  {
   "cell_type": "code",
   "execution_count": 120,
   "id": "bc247b93-d4bf-44e9-a2bc-a8969aaf29c9",
   "metadata": {},
   "outputs": [
    {
     "data": {
      "image/png": "[encoded data removed]",
      "text/plain": [
       "<Figure size 400x400 with 1 Axes>"
      ]
     },
     "metadata": {},
     "output_type": "display_data"
    }
   ],
   "source": [
    "plot_simple_graph(\n",
    "    G3, \n",
    "    node_color=\"lightblue\",\n",
    "    node_size=1000\n",
    ")"
   ]
  },
  {
   "cell_type": "code",
   "execution_count": 127,
   "id": "e580d90c-f6ca-4cc9-adde-f7d0457ce4fd",
   "metadata": {},
   "outputs": [
    {
     "name": "stdout",
     "output_type": "stream",
     "text": [
      "Left: 8   Right: 8\n",
      "Left: 8   Right: 8\n",
      "Left: 12   Right: 12\n"
     ]
    }
   ],
   "source": [
    "# Cycling over graphs and printing the left and right side of the formula:\n",
    "for graph in [G1, G2, G3]:\n",
    "    print(f\"Left: {sum(get_vertex_degree(graph, list(graph.nodes)).values())}   Right: {2*len(graph.edges)}\")"
   ]
  },
  {
   "cell_type": "markdown",
   "id": "d4558ce9-e815-4292-9aa1-76a7345064b9",
   "metadata": {},
   "source": [
    "Looking at those numbers it's clear that we are counting the number of pairs belonging to $V \\times E$, so that each edge is counted twice. This number can be indeed computed in two different ways:\n",
    "1. For each $v \\in V$, we can count the number of edges containing $v$ - which is the degree of $v$ - and then sum these numbers, i.e, $\\sum_v \\deg v$;\n",
    "2. On the other hand, since each edge contains 2 vertices, we can sum 2 over the number of edges in $G$, i.e. $\\sum_e 2 = 2\\cdot |E|$\n",
    "Since the two results must be equal, it follows the formula stated above.\n",
    "\n",
    "A corolloary to the Euler's formula is the so-called **handshake lemma**:\n",
    "\n",
    "**Corollary (handshake)**: Let $G$ be a simple graph. Them , the number of vertices $v$ whose degree $\\deg v$ is odd is even. \n",
    "\n",
    "*Proof.*: Since $\\sum_v \\deg v = 2 |E|$, the the sum of degrees $\\deg v$ of $v \\in V$ is even. Then, it must have an even number of odd addends. Therefore, it follows that the number of vertices with an odd $\\deg v$ is even. \n",
    "\n",
    "This corollorary is often stated in the context of social networks as follows: *in a group of people (nodes), the number of persons with an odd number of friends in the group is even.* \n",
    "\n",
    "**Preposition**: Let $G$ be a graph with *at least* 2 vertices. Then, there exist two distinct vertices $v$ and $u$ with the same degree, i.e. $\\deg v = \\deg u$.\n",
    "\n",
    "*Proof.*: We can prove the above result by contradiction. Let's suppose that all vertices of a graph $G$ have different degrees. Therefore, since the $\\deg v \\leq (n-1)$, we should have that the set of degrees of $V$ is $\\{ 0, 1, ..., n-1 \\}$ (in other words the map $v \\to \\deg v$ must be injective). So we have both a vertex with degree $0$ and a vertex with degree $n-1$. Can these vertex be adjacent? Yes, because $\\deg v = n - 1$, so $u$ is adjacent to $v$. But, $\\deg u = 0$, so it does not have adjacent nodes and this is a contraddiction. Therefore, there exist at least two vertices with the same degree. "
   ]
  },
  {
   "cell_type": "markdown",
   "id": "a07c4b99-bba0-4265-a9b4-22d075b6f5eb",
   "metadata": {},
   "source": [
    "Another important result in graph theory is the **Mantel's Theorem**:\n",
    "\n",
    "**Theorem (Mantel)**: Let $G$ be a simple graph with $n$ vertices and $e$ edges. Assume that $e > n^2/4$. Then, $G$ has a **triangle**, i.e. three distinct vertices that are pairwise adjacent. \n",
    "\n",
    "Before proving such theorem, let make an example:"
   ]
  },
  {
   "cell_type": "code",
   "execution_count": 128,
   "id": "46abee89-60cb-485c-9052-11577ecd7d9f",
   "metadata": {},
   "outputs": [],
   "source": [
    "# no-mantel\n",
    "nomantel_g = nx.Graph()\n",
    "nomantel_g.add_nodes_from([1, 2, 3, 4, 5,])\n",
    "nomantel_g.add_edges_from([(1, 2), (2, 3), (3, 4), (4, 5), (5, 1)])"
   ]
  },
  {
   "cell_type": "code",
   "execution_count": 133,
   "id": "6b8f9d68-7c51-431b-9e98-6a43e6398512",
   "metadata": {},
   "outputs": [
    {
     "data": {
      "image/png": "[encoded data removed]",
      "text/plain": [
       "<Figure size 400x400 with 1 Axes>"
      ]
     },
     "metadata": {},
     "output_type": "display_data"
    }
   ],
   "source": [
    "plot_simple_graph(\n",
    "    nomantel_g,\n",
    "    node_color=\"lightgreen\",\n",
    "    node_size=1000\n",
    ")"
   ]
  },
  {
   "cell_type": "markdown",
   "id": "219830d0-0433-4c7f-9478-64b131fc0fff",
   "metadata": {},
   "source": [
    "By inspection we can see that the above graph has no triangle, therefore in contrast to Mantel's theorem, we should have $e \\leq n^2 /4$. Indeed, $e=5$ and $n=5$, therefore $5 \\leq 5^2 /4 \\leq 6.25$. Notice that if we add an edge, regardless the edge we are adding, we are creating a triangle in the above pentagon-like graph. The relation $e \\leq n^2/4$ still holds since Mantel's theorem does not guarantee that a graph with $e \\leq n^2/4$ is triangle-free. It states that if $e > n^2/4$, then the graph must necessarily have at least one triangle. \n",
    "\n",
    "**Proof.**: We can prove the theorem by induction on $n$. Basically the theorem is stating that the maximum number of edges in a graph with $n$ vertices and no triangle is $n^2/4$. If $n=1,2$, the theorem is proved because $e$ is at most 1 and we cannot realize a triangle with 2 vertices. Let assume that $n > 2$ and $G$ be a triangle-free graph. Let define $uv$ an edge of $G$; by removing the $uv$ edge we find by definition another triangle-free graph with $n-2$ vertices, so by induction it has at most $(n-2)^2/4$ edges. The edge $uv$ has at most $n-2$ incident edges, otherwise there is a triangle, thus G can have at most:\n",
    "$$\n",
    "1 + (n-2) + (n-2)^2 / 4 = n^2 / 4\n",
    "$$"
   ]
  },
  {
   "cell_type": "code",
   "execution_count": null,
   "id": "c0b6f098-2205-456d-8db9-ce3e394bf658",
   "metadata": {},
   "outputs": [],
   "source": []
  }
 ],
 "metadata": {
  "kernelspec": {
   "display_name": "Python 3 (ipykernel)",
   "language": "python",
   "name": "python3"
  },
  "language_info": {
   "codemirror_mode": {
    "name": "ipython",
    "version": 3
   },
   "file_extension": ".py",
   "mimetype": "text/x-python",
   "name": "python",
   "nbconvert_exporter": "python",
   "pygments_lexer": "ipython3",
   "version": "3.11.9"
  }
 },
 "nbformat": 4,
 "nbformat_minor": 5
}
