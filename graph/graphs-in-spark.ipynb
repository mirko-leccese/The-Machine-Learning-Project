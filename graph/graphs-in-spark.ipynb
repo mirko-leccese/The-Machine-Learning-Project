{
 "cells": [
  {
   "cell_type": "code",
   "execution_count": 1,
   "id": "214fd8f0-7d9e-41fc-8756-98fadc750b48",
   "metadata": {},
   "outputs": [],
   "source": [
    "import pandas as pd\n",
    "import networkx as nx"
   ]
  },
  {
   "cell_type": "code",
   "execution_count": 29,
   "id": "501688e4-cd2f-4281-9b1b-f6e2292736be",
   "metadata": {},
   "outputs": [],
   "source": [
    "import matplotlib.pyplot as plt"
   ]
  },
  {
   "cell_type": "code",
   "execution_count": 3,
   "id": "c1b44e7c-780f-438e-97af-c50e56164bee",
   "metadata": {},
   "outputs": [],
   "source": [
    "from pyspark.sql import SparkSession\n",
    "from pyspark.sql import DataFrame\n",
    "from pyspark.sql import functions as func"
   ]
  },
  {
   "cell_type": "code",
   "execution_count": 4,
   "id": "f6e90249-02fa-4ecb-a3b9-b356fc37a2b0",
   "metadata": {},
   "outputs": [],
   "source": [
    "# Path to your GraphFrames JAR\n",
    "graphframes_jar_path = \"/Users/mirkoleccese/Documents/GITHUB_PROJECTS/MACHINE-LEARNING/The-Machine-Learning-Project/graphframes-0.8.4-spark3.5-s_2.12.jar\""
   ]
  },
  {
   "cell_type": "code",
   "execution_count": 39,
   "id": "06158998-d247-4331-8ac3-0d8d703b6c1d",
   "metadata": {
    "scrolled": true
   },
   "outputs": [],
   "source": [
    "spark = SparkSession.builder \\\n",
    "    .appName(\"GraphFramesExample\") \\\n",
    "    .config(\"spark.jars\", graphframes_jar_path) \\\n",
    "    .getOrCreate()"
   ]
  },
  {
   "cell_type": "code",
   "execution_count": 6,
   "id": "f456af34-ecd3-4266-8c32-d6ebcb22e048",
   "metadata": {},
   "outputs": [],
   "source": [
    "from graphframes import *"
   ]
  },
  {
   "cell_type": "code",
   "execution_count": 7,
   "id": "2453d09d-b7d9-40de-ad40-64a4060a1d8c",
   "metadata": {},
   "outputs": [],
   "source": [
    "vertices = spark.createDataFrame([('1', 'Carter', 'Derrick', 50), \n",
    "                                  ('2', 'May', 'Derrick', 26),\n",
    "                                 ('3', 'Mills', 'Jeff', 80),\n",
    "                                  ('4', 'Hood', 'Robert', 65),\n",
    "                                  ('5', 'Banks', 'Mike', 93),\n",
    "                                 ('98', 'Berg', 'Tim', 28),\n",
    "                                 ('99', 'Page', 'Allan', 16)],\n",
    "                                 ['id', 'name', 'firstname', 'age'])"
   ]
  },
  {
   "cell_type": "code",
   "execution_count": 8,
   "id": "038057d0-e314-46a4-b652-1e2cade75d0f",
   "metadata": {},
   "outputs": [],
   "source": [
    "edges = spark.createDataFrame([('1', '2', 'friend'), \n",
    "                               ('2', '1', 'friend'),\n",
    "                              ('3', '1', 'friend'),\n",
    "                              ('1', '3', 'friend'),\n",
    "                               ('2', '3', 'follows'),\n",
    "                               ('3', '4', 'friend'),\n",
    "                               ('4', '3', 'friend'),\n",
    "                               ('5', '3', 'friend'),\n",
    "                               ('3', '5', 'friend'),\n",
    "                               ('4', '5', 'follows'),\n",
    "                              ('98', '99', 'friend'),\n",
    "                              ('99', '98', 'friend')],\n",
    "                              ['src', 'dst', 'type'])"
   ]
  },
  {
   "cell_type": "code",
   "execution_count": 9,
   "id": "cd0f84b3-1e92-4370-9a36-aa9871eaa42b",
   "metadata": {},
   "outputs": [
    {
     "name": "stderr",
     "output_type": "stream",
     "text": [
      "/Users/mirkoleccese/.local/share/virtualenvs/The-Machine-Learning-Project-IzU1WuAf/lib/python3.11/site-packages/pyspark/sql/dataframe.py:168: UserWarning: DataFrame.sql_ctx is an internal property, and will be removed in future releases. Use DataFrame.sparkSession instead.\n",
      "  warnings.warn(\n"
     ]
    }
   ],
   "source": [
    "g = GraphFrame(vertices, edges)"
   ]
  },
  {
   "cell_type": "code",
   "execution_count": 10,
   "id": "e815f057-9a91-4e46-bf59-96382a1ec8e4",
   "metadata": {},
   "outputs": [
    {
     "name": "stderr",
     "output_type": "stream",
     "text": [
      "                                                                                \r"
     ]
    },
    {
     "name": "stdout",
     "output_type": "stream",
     "text": [
      "+---+------+---------+---+\n",
      "| id|  name|firstname|age|\n",
      "+---+------+---------+---+\n",
      "|  1|Carter|  Derrick| 50|\n",
      "|  2|   May|  Derrick| 26|\n",
      "|  3| Mills|     Jeff| 80|\n",
      "|  4|  Hood|   Robert| 65|\n",
      "|  5| Banks|     Mike| 93|\n",
      "| 98|  Berg|      Tim| 28|\n",
      "| 99|  Page|    Allan| 16|\n",
      "+---+------+---------+---+\n",
      "\n"
     ]
    }
   ],
   "source": [
    "g.vertices.show()"
   ]
  },
  {
   "cell_type": "code",
   "execution_count": 11,
   "id": "6e17a9ca-40ac-47a1-9c06-2a229d6fb596",
   "metadata": {
    "scrolled": true
   },
   "outputs": [
    {
     "name": "stdout",
     "output_type": "stream",
     "text": [
      "+---+---+-------+\n",
      "|src|dst|   type|\n",
      "+---+---+-------+\n",
      "|  1|  2| friend|\n",
      "|  2|  1| friend|\n",
      "|  3|  1| friend|\n",
      "|  1|  3| friend|\n",
      "|  2|  3|follows|\n",
      "|  3|  4| friend|\n",
      "|  4|  3| friend|\n",
      "|  5|  3| friend|\n",
      "|  3|  5| friend|\n",
      "|  4|  5|follows|\n",
      "| 98| 99| friend|\n",
      "| 99| 98| friend|\n",
      "+---+---+-------+\n",
      "\n"
     ]
    }
   ],
   "source": [
    "g.edges.show()"
   ]
  },
  {
   "cell_type": "code",
   "execution_count": 41,
   "id": "829bd01a-57e3-437a-8481-fbcdeba3d393",
   "metadata": {},
   "outputs": [],
   "source": [
    "spark.sparkContext.setCheckpointDir('graphframes_cps')"
   ]
  },
  {
   "cell_type": "code",
   "execution_count": 42,
   "id": "56d80d38-525c-4cd4-8ffe-7a03fb9beaac",
   "metadata": {},
   "outputs": [
    {
     "name": "stderr",
     "output_type": "stream",
     "text": [
      "/Users/mirkoleccese/.local/share/virtualenvs/The-Machine-Learning-Project-IzU1WuAf/lib/python3.11/site-packages/pyspark/sql/dataframe.py:147: UserWarning: DataFrame constructor is internal. Do not directly use it.\n",
      "  warnings.warn(\"DataFrame constructor is internal. Do not directly use it.\")\n"
     ]
    },
    {
     "name": "stdout",
     "output_type": "stream",
     "text": [
      "+---+------+---------+---+------------+\n",
      "| id|  name|firstname|age|   component|\n",
      "+---+------+---------+---+------------+\n",
      "|  1|Carter|  Derrick| 50|154618822656|\n",
      "|  2|   May|  Derrick| 26|154618822656|\n",
      "|  3| Mills|     Jeff| 80|154618822656|\n",
      "|  4|  Hood|   Robert| 65|154618822656|\n",
      "|  5| Banks|     Mike| 93|154618822656|\n",
      "| 98|  Berg|      Tim| 28|317827579904|\n",
      "| 99|  Page|    Allan| 16|317827579904|\n",
      "+---+------+---------+---+------------+\n",
      "\n"
     ]
    }
   ],
   "source": [
    "g.connectedComponents().show()"
   ]
  },
  {
   "cell_type": "code",
   "execution_count": 12,
   "id": "9d304181-7df7-4513-9bdf-f34954ff2275",
   "metadata": {},
   "outputs": [],
   "source": [
    "v_pandas = vertices.toPandas()\n",
    "e_pandas = edges.toPandas()"
   ]
  },
  {
   "cell_type": "code",
   "execution_count": 21,
   "id": "8634f8df-ea91-47d4-91d6-1a0c633a0e7c",
   "metadata": {},
   "outputs": [],
   "source": [
    "nx_g = nx.DiGraph()"
   ]
  },
  {
   "cell_type": "code",
   "execution_count": 22,
   "id": "dcde70f9-9419-4927-8281-fcbe730cb35b",
   "metadata": {},
   "outputs": [],
   "source": [
    "for _, row in v_pandas.iterrows():\n",
    "    nx_g.add_node(row[\"id\"], **row.to_dict())"
   ]
  },
  {
   "cell_type": "code",
   "execution_count": 26,
   "id": "5b2c5cbf-0210-4794-b72c-b3e79221f152",
   "metadata": {},
   "outputs": [],
   "source": [
    "for _, row in e_pandas.iterrows():\n",
    "    nx_g.add_edge(row[\"src\"], row[\"dst\"], **row.to_dict())"
   ]
  },
  {
   "cell_type": "code",
   "execution_count": 27,
   "id": "5eedc17c-fa4f-4e0f-8536-c9a88c543f97",
   "metadata": {},
   "outputs": [
    {
     "data": {
      "text/plain": [
       "7"
      ]
     },
     "execution_count": 27,
     "metadata": {},
     "output_type": "execute_result"
    }
   ],
   "source": [
    "nx_g.number_of_nodes()"
   ]
  },
  {
   "cell_type": "code",
   "execution_count": 28,
   "id": "2db3f05b-ebc9-4215-b356-c9aaac5c5c1e",
   "metadata": {},
   "outputs": [
    {
     "data": {
      "text/plain": [
       "12"
      ]
     },
     "execution_count": 28,
     "metadata": {},
     "output_type": "execute_result"
    }
   ],
   "source": [
    "nx_g.number_of_edges()"
   ]
  },
  {
   "cell_type": "code",
   "execution_count": 33,
   "id": "9af47db5-45a6-493b-958a-fbe8096771e6",
   "metadata": {},
   "outputs": [
    {
     "data": {
      "text/plain": [
       "Text(0.5, 1.0, 'GraphFrames Visualization')"
      ]
     },
     "execution_count": 33,
     "metadata": {},
     "output_type": "execute_result"
    },
    {
     "data": {
      "image/png": "[encoded data removed]",
      "text/plain": [
       "<Figure size 800x600 with 1 Axes>"
      ]
     },
     "metadata": {},
     "output_type": "display_data"
    }
   ],
   "source": [
    "# Draw the graph\n",
    "plt.figure(figsize=(8, 6))\n",
    "pos = nx.spring_layout(nx_g)  # Layout for positioning the nodes\n",
    "nx.draw(nx_g, pos, with_labels=True, node_color=\"lightblue\", font_size=10, node_size=2000, edge_color=\"gray\")\n",
    "nx.draw_networkx_edge_labels(nx_g, pos, edge_labels={(e[0], e[1]): e[2][\"type\"] for e in nx_g.edges(data=True)})\n",
    "plt.title(\"GraphFrames Visualization\")"
   ]
  },
  {
   "cell_type": "code",
   "execution_count": null,
   "id": "cf91a7dc-8226-4d03-a634-58a074b1cc31",
   "metadata": {},
   "outputs": [],
   "source": []
  }
 ],
 "metadata": {
  "kernelspec": {
   "display_name": "Python 3 (ipykernel)",
   "language": "python",
   "name": "python3"
  },
  "language_info": {
   "codemirror_mode": {
    "name": "ipython",
    "version": 3
   },
   "file_extension": ".py",
   "mimetype": "text/x-python",
   "name": "python",
   "nbconvert_exporter": "python",
   "pygments_lexer": "ipython3",
   "version": "3.11.9"
  }
 },
 "nbformat": 4,
 "nbformat_minor": 5
}
